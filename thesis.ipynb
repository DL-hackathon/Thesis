{
 "cells": [
  {
   "cell_type": "code",
   "execution_count": 1,
   "metadata": {
    "_cell_guid": "8c00643a-5697-4a8e-8a5a-7133d7d8006c",
    "_uuid": "f7117d38-c9be-4d80-8129-1dd7aecee033",
    "execution": {
     "iopub.execute_input": "2024-02-12T10:54:59.726720Z",
     "iopub.status.busy": "2024-02-12T10:54:59.726278Z",
     "iopub.status.idle": "2024-02-12T10:55:16.777397Z",
     "shell.execute_reply": "2024-02-12T10:55:16.776107Z",
     "shell.execute_reply.started": "2024-02-12T10:54:59.726685Z"
    },
    "jupyter": {
     "outputs_hidden": false
    }
   },
   "outputs": [
    {
     "name": "stdout",
     "output_type": "stream",
     "text": [
      "Defaulting to user installation because normal site-packages is not writeable\n",
      "Requirement already satisfied: comtrade in c:\\users\\dl\\appdata\\roaming\\python\\python37\\site-packages (0.1.2)\n"
     ]
    }
   ],
   "source": [
    "!pip install comtrade"
   ]
  },
  {
   "cell_type": "code",
   "execution_count": 2,
   "metadata": {},
   "outputs": [],
   "source": [
    "from dataset_helper_functions import *"
   ]
  },
  {
   "cell_type": "markdown",
   "metadata": {
    "_cell_guid": "9fbeb808-b142-4fb1-a733-c0985e544776",
    "_uuid": "b99ddb63-d855-4bfc-a9c5-527c4135ba08"
   },
   "source": [
    "# EDA\n",
    "## Brief observation"
   ]
  },
  {
   "cell_type": "code",
   "execution_count": 3,
   "metadata": {
    "_cell_guid": "fe0561c4-fb79-458a-b151-cf3a201888f2",
    "_uuid": "16bc39ec-75b4-435e-8b3c-b34bccf698a5",
    "execution": {
     "iopub.execute_input": "2024-02-12T10:55:20.572352Z",
     "iopub.status.busy": "2024-02-12T10:55:20.571064Z",
     "iopub.status.idle": "2024-02-12T10:55:34.789119Z",
     "shell.execute_reply": "2024-02-12T10:55:34.787875Z",
     "shell.execute_reply.started": "2024-02-12T10:55:20.572312Z"
    },
    "jupyter": {
     "outputs_hidden": false
    }
   },
   "outputs": [
    {
     "data": {
      "application/vnd.jupyter.widget-view+json": {
       "model_id": "c03ad3d8a2ec4ec5acd70e9d56eee711",
       "version_major": 2,
       "version_minor": 0
      },
      "text/plain": [
       "  0%|          | 0/46 [00:00<?, ?it/s]"
      ]
     },
     "metadata": {},
     "output_type": "display_data"
    },
    {
     "name": "stdout",
     "output_type": "stream",
     "text": [
      "#\tosc_name\trows\tcolumns\n",
      "0\tosc_1_1.cfg\t10400\t15\n",
      "1\tosc_1_10.cfg\t9600\t15\n",
      "2\tosc_1_11.cfg\t8800\t15\n",
      "3\tosc_1_12.cfg\t10400\t16\n",
      "4\tosc_1_13.cfg\t10400\t19\n",
      "5\tosc_1_14.cfg\t10400\t19\n",
      "6\tosc_1_15.cfg\t10400\t20\n",
      "7\tosc_1_16.cfg\t10400\t18\n",
      "8\tosc_1_17.cfg\t10400\t18\n",
      "9\tosc_1_18.cfg\t10400\t17\n",
      "10\tosc_1_19.cfg\t10400\t18\n",
      "11\tosc_1_2.cfg\t10400\t19\n",
      "12\tosc_1_20.cfg\t10400\t17\n",
      "13\tosc_1_21.cfg\t10400\t16\n",
      "14\tosc_1_22.cfg\t10400\t19\n",
      "15\tosc_1_23.cfg\t10400\t16\n",
      "16\tosc_1_24.cfg\t10400\t22\n",
      "17\tosc_1_25.cfg\t10400\t19\n",
      "18\tosc_1_26.cfg\t10400\t16\n",
      "19\tosc_1_27.cfg\t10400\t16\n",
      "20\tosc_1_28.cfg\t10400\t16\n",
      "21\tosc_1_29.cfg\t10400\t19\n",
      "22\tosc_1_3.cfg\t10400\t17\n",
      "23\tosc_1_30.cfg\t10400\t18\n",
      "24\tosc_1_31.cfg\t10400\t20\n",
      "25\tosc_1_32.cfg\t10400\t18\n",
      "26\tosc_1_33.cfg\t10400\t18\n",
      "27\tosc_1_34.cfg\t10400\t17\n",
      "28\tosc_1_35.cfg\t10400\t18\n",
      "29\tosc_1_36.cfg\t10400\t18\n",
      "30\tosc_1_37.cfg\t10400\t18\n",
      "31\tosc_1_38.cfg\t10400\t19\n",
      "32\tosc_1_39.cfg\t10400\t17\n",
      "33\tosc_1_4.cfg\t10400\t19\n",
      "34\tosc_1_40.cfg\t10400\t19\n",
      "35\tosc_1_41.cfg\t9244\t16\n",
      "36\tosc_1_42.cfg\t10400\t19\n",
      "37\tosc_1_43.cfg\t10400\t17\n",
      "38\tosc_1_44.cfg\t10400\t18\n",
      "39\tosc_1_45.cfg\t10400\t17\n",
      "40\tosc_1_46.cfg\t10400\t19\n",
      "41\tosc_1_5.cfg\t10400\t17\n",
      "42\tosc_1_6.cfg\t10400\t19\n",
      "43\tosc_1_7.cfg\t10400\t16\n",
      "44\tosc_1_8.cfg\t10400\t19\n",
      "45\tosc_1_9.cfg\t10400\t17\n",
      "\n",
      "Total number of rows: 474844\n"
     ]
    },
    {
     "data": {
      "text/plain": [
       "Counter({'file_name': 46,\n",
       "         'time': 46,\n",
       "         'IA 1ВВ': 13,\n",
       "         'IC 1ВВ': 13,\n",
       "         'UA1СШ': 46,\n",
       "         'UB1СШ': 46,\n",
       "         'UC1СШ': 46,\n",
       "         'UN1СШ': 46,\n",
       "         'IA 2ВВ': 13,\n",
       "         'IC 2ВВ': 13,\n",
       "         'UA2СШ': 46,\n",
       "         'UB2СШ': 46,\n",
       "         'UC2СШ': 46,\n",
       "         'UN2СШ': 46,\n",
       "         'Пуск осциллографа': 45,\n",
       "         'IA1': 33,\n",
       "         'IC1': 33,\n",
       "         'IA2': 33,\n",
       "         'IC2': 33,\n",
       "         'MLsignal_12_1_1': 19,\n",
       "         'MLsignal_2_3': 12,\n",
       "         'MLsignal_2_1_2': 13,\n",
       "         'MLsignal_2_2_1_2': 3,\n",
       "         'MLsignal_2_2_1_1': 5,\n",
       "         'MLsignal_2_2_1_3': 2,\n",
       "         'MLsignal_1_1_2': 12,\n",
       "         'MLsignal_1_3': 10,\n",
       "         'MLsignal_1_1_1': 10,\n",
       "         'MLsignal_12_1_2': 11,\n",
       "         'MLsignal_1_2_1_3': 1,\n",
       "         'MLsignal_2_1_1': 10,\n",
       "         'MLsignal_1_2': 3,\n",
       "         'MLsignal_1_3_1': 3,\n",
       "         'Mlsignal_2_2_1_1': 1,\n",
       "         'Mlsignal_12_2_1_1': 1,\n",
       "         'Mlsignal_2_3': 1,\n",
       "         'MLsignal_1_2_1_2': 1,\n",
       "         'MLsignal_12_3': 1,\n",
       "         'MLsignal_12_3_2': 3,\n",
       "         'MLsignal_1_2_1_1': 3,\n",
       "         'MLsignal_1_3_2': 1})"
      ]
     },
     "execution_count": 3,
     "metadata": {},
     "output_type": "execute_result"
    }
   ],
   "source": [
    "from collections import Counter\n",
    "\n",
    "# For KAGGLE users\n",
    "# path = '/kaggle/input/oscillograms-46/' \n",
    "\n",
    "# For local usage\n",
    "path = 'data/'\n",
    "dataset = CustomOscDataset(path)\n",
    "\n",
    "all_columns = []\n",
    "total_rows = 0\n",
    "\n",
    "for i, file in enumerate(tqdm(dataset)):\n",
    "    if i == 0:\n",
    "        print(f'#\\tosc_name\\trows\\tcolumns')\n",
    "    df_cur = file.to_dataframe()\n",
    "    df_cur.reset_index(drop=False, inplace=True)\n",
    "    df_cur.insert(0, 'file_name', '0' * df_cur.shape[0])\n",
    "    all_columns.extend(df_cur.columns)\n",
    "    total_rows += df_cur.shape[0]\n",
    "    print(f'{i}\\t{dataset.osc_files[i]}\\t{df_cur.shape[0]}\\t{df_cur.shape[1]}')\n",
    "print('\\nTotal number of rows:', total_rows)\n",
    "unique_columns = Counter(all_columns)\n",
    "unique_columns"
   ]
  },
  {
   "cell_type": "code",
   "execution_count": 4,
   "metadata": {
    "_cell_guid": "39c0aef8-fd28-4755-b03b-ca944c5c6de4",
    "_uuid": "50dd81e4-0735-40c8-8bc1-c4ebea1edb9f",
    "execution": {
     "iopub.execute_input": "2024-02-12T10:55:34.790738Z",
     "iopub.status.busy": "2024-02-12T10:55:34.790391Z",
     "iopub.status.idle": "2024-02-12T10:55:34.798328Z",
     "shell.execute_reply": "2024-02-12T10:55:34.797264Z",
     "shell.execute_reply.started": "2024-02-12T10:55:34.790709Z"
    },
    "jupyter": {
     "outputs_hidden": false
    }
   },
   "outputs": [
    {
     "name": "stdout",
     "output_type": "stream",
     "text": [
      "Number of unique columns: 41\n"
     ]
    }
   ],
   "source": [
    "print('Number of unique columns:', len(unique_columns))"
   ]
  },
  {
   "cell_type": "markdown",
   "metadata": {
    "_cell_guid": "3474a9f7-9239-4407-a216-61e24f17ae3b",
    "_uuid": "40519617-6086-46ab-94be-f0f17d0135f6"
   },
   "source": [
    "# Collect unique features"
   ]
  },
  {
   "cell_type": "code",
   "execution_count": 5,
   "metadata": {
    "_cell_guid": "a9c40532-714c-449d-91ab-088a19d1e375",
    "_uuid": "ec8bad1a-3d94-424b-aa66-bf025e28e3df",
    "execution": {
     "iopub.execute_input": "2024-02-12T10:55:34.800530Z",
     "iopub.status.busy": "2024-02-12T10:55:34.800092Z",
     "iopub.status.idle": "2024-02-12T10:55:34.814741Z",
     "shell.execute_reply": "2024-02-12T10:55:34.813505Z",
     "shell.execute_reply.started": "2024-02-12T10:55:34.800500Z"
    },
    "jupyter": {
     "outputs_hidden": false
    }
   },
   "outputs": [],
   "source": [
    "features = list(unique_columns.keys())"
   ]
  },
  {
   "cell_type": "markdown",
   "metadata": {
    "_cell_guid": "900facd0-936e-4b4f-983c-3b59159e21a8",
    "_uuid": "5cc1b3c6-be25-4726-93ba-2c8f0ca4a990"
   },
   "source": [
    "To unify names of the features, we will perform the following changes:\n",
    "* UA1СШ  -> UA,\n",
    "* UC2СШ  -> UC,\n",
    "* IA 1ВВ -> IA and so on.\n",
    "\n",
    "We may notice that there are mistyped features (e.g. `\"Mlsignal_2_2_1_1\"` instead of `\"MLsignal_2_2_1_1\"`). Let us fix that issue first.\n",
    "\n",
    "Then we need to drop the indices (`1` or `2`) corresponding to the power supply sections, e.g. `MLsignal_1_2_1_1` turns to `MLsignal_2_1_1`, i.e. the first digit of `MLsignal_` index  was dropped."
   ]
  },
  {
   "cell_type": "code",
   "execution_count": 6,
   "metadata": {
    "_cell_guid": "69f6381b-19da-4a4d-9228-28bbd1fd74a6",
    "_uuid": "fbd0e20a-2485-4c84-b78a-9c44d7087589",
    "execution": {
     "iopub.execute_input": "2024-02-12T10:55:34.816785Z",
     "iopub.status.busy": "2024-02-12T10:55:34.816306Z",
     "iopub.status.idle": "2024-02-12T10:55:34.829904Z",
     "shell.execute_reply": "2024-02-12T10:55:34.828541Z",
     "shell.execute_reply.started": "2024-02-12T10:55:34.816754Z"
    },
    "jupyter": {
     "outputs_hidden": false
    }
   },
   "outputs": [
    {
     "name": "stdout",
     "output_type": "stream",
     "text": [
      "\n",
      "\"Rename\" before: IA 1ВВ\n",
      "\"Rename\" after : IA\n",
      "\n",
      "\"Rename\" before: IC 1ВВ\n",
      "\"Rename\" after : IC\n",
      "\n",
      "\"Rename\" before: UA1СШ\n",
      "\"Rename\" after : UA\n",
      "\n",
      "\"Rename\" before: UB1СШ\n",
      "\"Rename\" after : UB\n",
      "\n",
      "\"Rename\" before: UC1СШ\n",
      "\"Rename\" after : UC\n",
      "\n",
      "\"Rename\" before: UN1СШ\n",
      "\"Rename\" after : UN\n",
      "\n",
      "\"Rename\" before: IA 2ВВ\n",
      "\"Rename\" after : IA\n",
      "\n",
      "\"Rename\" before: IC 2ВВ\n",
      "\"Rename\" after : IC\n",
      "\n",
      "\"Rename\" before: UA2СШ\n",
      "\"Rename\" after : UA\n",
      "\n",
      "\"Rename\" before: UB2СШ\n",
      "\"Rename\" after : UB\n",
      "\n",
      "\"Rename\" before: UC2СШ\n",
      "\"Rename\" after : UC\n",
      "\n",
      "\"Rename\" before: UN2СШ\n",
      "\"Rename\" after : UN\n",
      "\n",
      "\"Rename\" before: IA1\n",
      "\"Rename\" after : IA\n",
      "\n",
      "\"Rename\" before: IC1\n",
      "\"Rename\" after : IC\n",
      "\n",
      "\"Rename\" before: IA2\n",
      "\"Rename\" after : IA\n",
      "\n",
      "\"Rename\" before: IC2\n",
      "\"Rename\" after : IC\n",
      "\n",
      "\"Drop section idx\" before: MLsignal_2_3\n",
      "\"Drop section idx\" after:  MLsignal_3\n",
      "\n",
      "\"Drop section idx\" before: MLsignal_2_1_2\n",
      "\"Drop section idx\" after:  MLsignal_1_2\n",
      "\n",
      "\"Drop section idx\" before: MLsignal_2_2_1_2\n",
      "\"Drop section idx\" after:  MLsignal_2_1_2\n",
      "\n",
      "\"Drop section idx\" before: MLsignal_2_2_1_1\n",
      "\"Drop section idx\" after:  MLsignal_2_1_1\n",
      "\n",
      "\"Drop section idx\" before: MLsignal_2_2_1_3\n",
      "\"Drop section idx\" after:  MLsignal_2_1_3\n",
      "\n",
      "\"Drop section idx\" before: MLsignal_1_1_2\n",
      "\"Drop section idx\" after:  MLsignal_1_2\n",
      "\n",
      "\"Drop section idx\" before: MLsignal_1_3\n",
      "\"Drop section idx\" after:  MLsignal_3\n",
      "\n",
      "\"Drop section idx\" before: MLsignal_1_1_1\n",
      "\"Drop section idx\" after:  MLsignal_1_1\n",
      "\n",
      "\"Drop section idx\" before: MLsignal_1_2_1_3\n",
      "\"Drop section idx\" after:  MLsignal_2_1_3\n",
      "\n",
      "\"Drop section idx\" before: MLsignal_2_1_1\n",
      "\"Drop section idx\" after:  MLsignal_1_1\n",
      "\n",
      "\"Drop section idx\" before: MLsignal_1_2\n",
      "\"Drop section idx\" after:  MLsignal_2\n",
      "\n",
      "\"Drop section idx\" before: MLsignal_1_3_1\n",
      "\"Drop section idx\" after:  MLsignal_3_1\n",
      "\n",
      "\"Rename\" before: Mlsignal_2_2_1_1\n",
      "\"Rename\" after:  MLsignal_2_2_1_1\n",
      "\n",
      "\"Drop section idx\" before: MLsignal_2_2_1_1\n",
      "\"Drop section idx\" after:  MLsignal_2_1_1\n",
      "\n",
      "\"Rename\" before: Mlsignal_12_2_1_1\n",
      "\"Rename\" after:  MLsignal_12_2_1_1\n",
      "\n",
      "\"Rename\" before: Mlsignal_2_3\n",
      "\"Rename\" after:  MLsignal_2_3\n",
      "\n",
      "\"Drop section idx\" before: MLsignal_2_3\n",
      "\"Drop section idx\" after:  MLsignal_3\n",
      "\n",
      "\"Drop section idx\" before: MLsignal_1_2_1_2\n",
      "\"Drop section idx\" after:  MLsignal_2_1_2\n",
      "\n",
      "\"Drop section idx\" before: MLsignal_1_2_1_1\n",
      "\"Drop section idx\" after:  MLsignal_2_1_1\n",
      "\n",
      "\"Drop section idx\" before: MLsignal_1_3_2\n",
      "\"Drop section idx\" after:  MLsignal_3_2\n",
      "----------------------------------------\n",
      "\n",
      "Number of unique features: 23\n",
      "\n",
      "A list of unique features:\n",
      "MLsignal_1_2,\n",
      "MLsignal_12_1_2,\n",
      "UA,\n",
      "UC,\n",
      "MLsignal_2,\n",
      "IA,\n",
      "MLsignal_12_3_2,\n",
      "MLsignal_12_3,\n",
      "MLsignal_12_1_1,\n",
      "UN,\n",
      "UB,\n",
      "MLsignal_3,\n",
      "Пуск осциллографа,\n",
      "MLsignal_12_2_1_1,\n",
      "MLsignal_2_1_2,\n",
      "MLsignal_2_1_3,\n",
      "MLsignal_3_2,\n",
      "MLsignal_1_1,\n",
      "MLsignal_3_1,\n",
      "file_name,\n",
      "MLsignal_2_1_1,\n",
      "time,\n",
      "IC."
     ]
    }
   ],
   "source": [
    "unique_features = set()\n",
    "for name in features:\n",
    "    if ('I' in name) or ('U' in name):\n",
    "        print('\\n\"Rename\" before:', name)\n",
    "        name = name[:2]\n",
    "        print('\"Rename\" after :', name)\n",
    "    if 'Ml' in name:\n",
    "        print('\\n\"Rename\" before:', name)\n",
    "        name = name.replace('Ml', 'ML')\n",
    "        print('\"Rename\" after: ', name)\n",
    "    if ('MLsignal_1_' in name) or \\\n",
    "       ('MLsignal_2_' in name):\n",
    "        print('\\n\"Drop section idx\" before:', name)\n",
    "        name = name.split('_', maxsplit=2)[0] + '_' + name.split('_', maxsplit=2)[2]\n",
    "        print('\"Drop section idx\" after: ', name)\n",
    "    unique_features.add(name)\n",
    "print('--'*20)\n",
    "print('\\nNumber of unique features:', len(unique_features))\n",
    "print('\\nA list of unique features:')\n",
    "print(*unique_features, sep=',\\n', end='.')"
   ]
  },
  {
   "cell_type": "markdown",
   "metadata": {
    "_cell_guid": "ac37d5ea-212e-4f66-a525-9eac5db67238",
    "_uuid": "f72dce34-4df7-4fad-a94b-0dfae3666917"
   },
   "source": [
    "According to the subject matter expert's opinion, such features as`'Пуск осциллографа'` and `'UN'` are useless for our task. So we will remove them."
   ]
  },
  {
   "cell_type": "code",
   "execution_count": 7,
   "metadata": {
    "_cell_guid": "374a2210-3987-4842-9ecd-e60625f0a2ff",
    "_uuid": "93f03cad-e65a-4adc-b907-c76e38401958",
    "execution": {
     "iopub.execute_input": "2024-02-12T10:55:34.832141Z",
     "iopub.status.busy": "2024-02-12T10:55:34.831696Z",
     "iopub.status.idle": "2024-02-12T10:55:34.843157Z",
     "shell.execute_reply": "2024-02-12T10:55:34.841727Z",
     "shell.execute_reply.started": "2024-02-12T10:55:34.832100Z"
    },
    "jupyter": {
     "outputs_hidden": false
    }
   },
   "outputs": [
    {
     "name": "stdout",
     "output_type": "stream",
     "text": [
      "Number of unique_features: 21\n"
     ]
    }
   ],
   "source": [
    "unique_features = list(unique_features)\n",
    "unique_features.remove('Пуск осциллографа')\n",
    "unique_features.remove('UN')\n",
    "print('Number of unique_features:', len(unique_features))"
   ]
  },
  {
   "cell_type": "code",
   "execution_count": 8,
   "metadata": {
    "_cell_guid": "ca13c80c-47ec-4c2c-b76f-5adb800525d4",
    "_uuid": "48775a7d-d9db-40ee-a161-67b5cad9c812",
    "execution": {
     "iopub.execute_input": "2024-02-12T10:55:34.847870Z",
     "iopub.status.busy": "2024-02-12T10:55:34.847435Z",
     "iopub.status.idle": "2024-02-12T10:55:34.857176Z",
     "shell.execute_reply": "2024-02-12T10:55:34.855726Z",
     "shell.execute_reply.started": "2024-02-12T10:55:34.847839Z"
    },
    "jupyter": {
     "outputs_hidden": false
    }
   },
   "outputs": [
    {
     "name": "stdout",
     "output_type": "stream",
     "text": [
      "Unique_features:\n",
      "IA,\n",
      "IC,\n",
      "MLsignal_12_1_1,\n",
      "MLsignal_12_1_2,\n",
      "MLsignal_12_2_1_1,\n",
      "MLsignal_12_3,\n",
      "MLsignal_12_3_2,\n",
      "MLsignal_1_1,\n",
      "MLsignal_1_2,\n",
      "MLsignal_2,\n",
      "MLsignal_2_1_1,\n",
      "MLsignal_2_1_2,\n",
      "MLsignal_2_1_3,\n",
      "MLsignal_3,\n",
      "MLsignal_3_1,\n",
      "MLsignal_3_2,\n",
      "UA,\n",
      "UB,\n",
      "UC,\n",
      "file_name,\n",
      "time.\n"
     ]
    }
   ],
   "source": [
    "unique_features = sorted(unique_features, reverse=False)\n",
    "print('Unique_features:')\n",
    "print(*unique_features, sep=',\\n', end='.\\n')"
   ]
  },
  {
   "cell_type": "markdown",
   "metadata": {
    "_cell_guid": "9fcd40e7-58fd-4c60-9c2e-6c96c2e57ba2",
    "_uuid": "dbc5e2ff-fbb1-4bb9-a111-e89521bfe9f3"
   },
   "source": [
    "In the `get_dataframe()` function: implemented \"merge 'MLsignal' features of the same PQD type of sections of the same number by \"Logical OR\" (e.g., MLsignal_12_2_1_1 and MLsignal_2_2_1_1 by logical OR = MLsignal_2).\n",
    "It helps to decrease the number of features from 21 to 10."
   ]
  },
  {
   "cell_type": "markdown",
   "metadata": {
    "_cell_guid": "5dab62fc-1d80-4e3f-ac21-d47c882ba88b",
    "_uuid": "c260581e-e997-4d19-9687-c5a60b24fa22"
   },
   "source": [
    "Let us manually change positions of unique features obtained for better visual interpretation.\n",
    "\n",
    "Finally, we got.\n",
    "\n",
    "```python\n",
    "unique_features = [\n",
    "    'file_name',\n",
    "    'time',\n",
    "    'IA',\n",
    "    'IC',\n",
    "    'UA',\n",
    "    'UB',\n",
    "    'UC',\n",
    "    'MLsignal_1',\n",
    "    'MLsignal_2',\n",
    "    'MLsignal_3']\n",
    "  ```"
   ]
  },
  {
   "cell_type": "code",
   "execution_count": 9,
   "metadata": {
    "_cell_guid": "476947ee-3fdc-463e-b9a2-12f7032b7c4d",
    "_uuid": "a4267748-3ebc-440d-bb5a-5e7c9aa387e7",
    "execution": {
     "iopub.execute_input": "2024-02-12T10:55:34.859329Z",
     "iopub.status.busy": "2024-02-12T10:55:34.858909Z",
     "iopub.status.idle": "2024-02-12T10:55:34.865302Z",
     "shell.execute_reply": "2024-02-12T10:55:34.864366Z",
     "shell.execute_reply.started": "2024-02-12T10:55:34.859296Z"
    },
    "jupyter": {
     "outputs_hidden": false
    }
   },
   "outputs": [],
   "source": [
    "unique_features = [\n",
    "    'file_name',\n",
    "    'time',\n",
    "    'IA',\n",
    "    'IC',\n",
    "    'UA',\n",
    "    'UB',\n",
    "    'UC',\n",
    "    'MLsignal_1',\n",
    "    'MLsignal_2',\n",
    "    'MLsignal_3']"
   ]
  },
  {
   "cell_type": "markdown",
   "metadata": {
    "_cell_guid": "d355d060-8f27-49b9-ad84-17455441fc3e",
    "_uuid": "0ecfbcee-5097-4e95-bb23-2d401db42a8e"
   },
   "source": [
    "# Create dataframe"
   ]
  },
  {
   "cell_type": "code",
   "execution_count": 10,
   "metadata": {
    "_cell_guid": "465c7ccf-b667-45c8-bc36-dedcb9e734fd",
    "_uuid": "5ea04769-ceaf-4812-aec0-1594154b5509",
    "execution": {
     "iopub.execute_input": "2024-02-12T10:55:34.867213Z",
     "iopub.status.busy": "2024-02-12T10:55:34.866844Z",
     "iopub.status.idle": "2024-02-12T10:55:34.874641Z",
     "shell.execute_reply": "2024-02-12T10:55:34.873738Z",
     "shell.execute_reply.started": "2024-02-12T10:55:34.867184Z"
    },
    "jupyter": {
     "outputs_hidden": false
    }
   },
   "outputs": [],
   "source": [
    "columns_to_rename = {'IA1': 'IA',\n",
    "                     'IC1': 'IC',\n",
    "                     'IA2': 'IA',\n",
    "                     'IC2': 'IC',\n",
    "                     'UA1СШ': 'UA',\n",
    "                     'UB1СШ': 'UB',\n",
    "                     'UC1СШ': 'UC',\n",
    "                     'UN1СШ': 'UN',\n",
    "                     'UA2СШ': 'UA',\n",
    "                     'UB2СШ': 'UB',\n",
    "                     'UC2СШ': 'UC',\n",
    "                     'UN2СШ': 'UN'}"
   ]
  },
  {
   "cell_type": "markdown",
   "metadata": {
    "_cell_guid": "5d4dff58-d02f-4e08-9390-cfc9a3809773",
    "_uuid": "54c08476-100c-4bd0-a5a3-c22caf27714a"
   },
   "source": [
    "# Full dataframe"
   ]
  },
  {
   "cell_type": "code",
   "execution_count": 11,
   "metadata": {
    "_cell_guid": "ae739e04-9973-406e-bc86-8b0d5ff4de6a",
    "_uuid": "592075af-45ce-4b1e-93ac-491d6fd14f6d",
    "execution": {
     "iopub.execute_input": "2024-02-12T09:50:06.614265Z",
     "iopub.status.busy": "2024-02-12T09:50:06.613714Z",
     "iopub.status.idle": "2024-02-12T09:50:54.082988Z",
     "shell.execute_reply": "2024-02-12T09:50:54.081554Z",
     "shell.execute_reply.started": "2024-02-12T09:50:06.614226Z"
    },
    "jupyter": {
     "outputs_hidden": false
    }
   },
   "outputs": [
    {
     "data": {
      "application/vnd.jupyter.widget-view+json": {
       "model_id": "1d7a162929804580a307318fea0a720a",
       "version_major": 2,
       "version_minor": 0
      },
      "text/plain": [
       "Working on oscillograms:   0%|          | 0/46 [00:00<?, ?it/s]"
      ]
     },
     "metadata": {},
     "output_type": "display_data"
    },
    {
     "name": "stdout",
     "output_type": "stream",
     "text": [
      "0\tosc_1_1.cfg is in progress...\tCompleted!\n",
      "1\tosc_1_10.cfg is in progress...\tCompleted!\n",
      "2\tosc_1_11.cfg is in progress...\tCompleted!\n",
      "3\tosc_1_12.cfg is in progress...\tCompleted!\n",
      "4\tosc_1_13.cfg is in progress...\tCompleted!\n",
      "5\tosc_1_14.cfg is in progress...\tCompleted!\n",
      "6\tosc_1_15.cfg is in progress...\tCompleted!\n",
      "7\tosc_1_16.cfg is in progress...\tCompleted!\n",
      "8\tosc_1_17.cfg is in progress...\tCompleted!\n",
      "9\tosc_1_18.cfg is in progress...\tCompleted!\n",
      "10\tosc_1_19.cfg is in progress...\tCompleted!\n",
      "11\tosc_1_2.cfg is in progress...\tCompleted!\n",
      "12\tosc_1_20.cfg is in progress...\tCompleted!\n",
      "13\tosc_1_21.cfg is in progress...\tCompleted!\n",
      "14\tosc_1_22.cfg is in progress...\tCompleted!\n",
      "15\tosc_1_23.cfg is in progress...\tCompleted!\n",
      "16\tosc_1_24.cfg is in progress...\t\n",
      "mistyped_columns: ['Mlsignal_2_2_1_1', 'Mlsignal_12_2_1_1', 'Mlsignal_2_3']\n",
      "correct_cols: {'Mlsignal_2_2_1_1': 'MLsignal_2_2_1_1', 'Mlsignal_12_2_1_1': 'MLsignal_12_2_1_1', 'Mlsignal_2_3': 'MLsignal_2_3'}\n",
      "Completed!\n",
      "17\tosc_1_25.cfg is in progress...\tCompleted!\n",
      "18\tosc_1_26.cfg is in progress...\tCompleted!\n",
      "19\tosc_1_27.cfg is in progress...\tCompleted!\n",
      "20\tosc_1_28.cfg is in progress...\tCompleted!\n",
      "21\tosc_1_29.cfg is in progress...\tCompleted!\n",
      "22\tosc_1_3.cfg is in progress...\tCompleted!\n",
      "23\tosc_1_30.cfg is in progress...\tCompleted!\n",
      "24\tosc_1_31.cfg is in progress...\tCompleted!\n",
      "25\tosc_1_32.cfg is in progress...\tCompleted!\n",
      "26\tosc_1_33.cfg is in progress...\tCompleted!\n",
      "27\tosc_1_34.cfg is in progress...\tCompleted!\n",
      "28\tosc_1_35.cfg is in progress...\tCompleted!\n",
      "29\tosc_1_36.cfg is in progress...\tCompleted!\n",
      "30\tosc_1_37.cfg is in progress...\tCompleted!\n",
      "31\tosc_1_38.cfg is in progress...\tCompleted!\n",
      "32\tosc_1_39.cfg is in progress...\tCompleted!\n",
      "33\tosc_1_4.cfg is in progress...\tCompleted!\n",
      "34\tosc_1_40.cfg is in progress...\tCompleted!\n",
      "35\tosc_1_41.cfg is in progress...\tCompleted!\n",
      "36\tosc_1_42.cfg is in progress...\tCompleted!\n",
      "37\tosc_1_43.cfg is in progress...\tCompleted!\n",
      "38\tosc_1_44.cfg is in progress...\tCompleted!\n",
      "39\tosc_1_45.cfg is in progress...\tCompleted!\n",
      "40\tosc_1_46.cfg is in progress...\tCompleted!\n",
      "41\tosc_1_5.cfg is in progress...\tCompleted!\n",
      "42\tosc_1_6.cfg is in progress...\tCompleted!\n",
      "43\tosc_1_7.cfg is in progress...\tCompleted!\n",
      "44\tosc_1_8.cfg is in progress...\tCompleted!\n",
      "45\tosc_1_9.cfg is in progress...\tCompleted!\n",
      "\n",
      "Dataframe is ready!\n"
     ]
    }
   ],
   "source": [
    "full_dataframe = get_dataframe(path, unique_features, columns_to_rename)"
   ]
  },
  {
   "cell_type": "code",
   "execution_count": 12,
   "metadata": {
    "_cell_guid": "5d0f8cd4-053e-4303-9d48-d6b81a661190",
    "_uuid": "7d4c2d1f-6dd8-4c40-940b-7d163396982e",
    "execution": {
     "iopub.execute_input": "2024-02-12T10:47:03.585637Z",
     "iopub.status.busy": "2024-02-12T10:47:03.585225Z",
     "iopub.status.idle": "2024-02-12T10:47:04.033959Z",
     "shell.execute_reply": "2024-02-12T10:47:04.032266Z",
     "shell.execute_reply.started": "2024-02-12T10:47:03.585604Z"
    },
    "jupyter": {
     "outputs_hidden": false
    }
   },
   "outputs": [
    {
     "name": "stdout",
     "output_type": "stream",
     "text": [
      "Dataframe shape: 949688 samples, 10 features \n"
     ]
    },
    {
     "data": {
      "text/html": [
       "<div>\n",
       "<style scoped>\n",
       "    .dataframe tbody tr th:only-of-type {\n",
       "        vertical-align: middle;\n",
       "    }\n",
       "\n",
       "    .dataframe tbody tr th {\n",
       "        vertical-align: top;\n",
       "    }\n",
       "\n",
       "    .dataframe thead th {\n",
       "        text-align: right;\n",
       "    }\n",
       "</style>\n",
       "<table border=\"1\" class=\"dataframe\">\n",
       "  <thead>\n",
       "    <tr style=\"text-align: right;\">\n",
       "      <th></th>\n",
       "      <th>file_name</th>\n",
       "      <th>time</th>\n",
       "      <th>IA</th>\n",
       "      <th>IC</th>\n",
       "      <th>UA</th>\n",
       "      <th>UB</th>\n",
       "      <th>UC</th>\n",
       "      <th>MLsignal_1</th>\n",
       "      <th>MLsignal_2</th>\n",
       "      <th>MLsignal_3</th>\n",
       "    </tr>\n",
       "  </thead>\n",
       "  <tbody>\n",
       "    <tr>\n",
       "      <th>0</th>\n",
       "      <td>osc_1_1.cfg_1</td>\n",
       "      <td>0.000000</td>\n",
       "      <td>0.856430</td>\n",
       "      <td>-0.083091</td>\n",
       "      <td>83.518433</td>\n",
       "      <td>-55.723404</td>\n",
       "      <td>-27.464115</td>\n",
       "      <td>0</td>\n",
       "      <td>0</td>\n",
       "      <td>0</td>\n",
       "    </tr>\n",
       "    <tr>\n",
       "      <th>1</th>\n",
       "      <td>osc_1_1.cfg_1</td>\n",
       "      <td>0.000625</td>\n",
       "      <td>1.104965</td>\n",
       "      <td>-0.294530</td>\n",
       "      <td>84.079941</td>\n",
       "      <td>-39.879848</td>\n",
       "      <td>-43.791805</td>\n",
       "      <td>0</td>\n",
       "      <td>0</td>\n",
       "      <td>0</td>\n",
       "    </tr>\n",
       "    <tr>\n",
       "      <th>2</th>\n",
       "      <td>osc_1_1.cfg_1</td>\n",
       "      <td>0.001250</td>\n",
       "      <td>1.270655</td>\n",
       "      <td>-0.496776</td>\n",
       "      <td>82.065109</td>\n",
       "      <td>-25.154858</td>\n",
       "      <td>-56.549877</td>\n",
       "      <td>0</td>\n",
       "      <td>0</td>\n",
       "      <td>0</td>\n",
       "    </tr>\n",
       "    <tr>\n",
       "      <th>3</th>\n",
       "      <td>osc_1_1.cfg_1</td>\n",
       "      <td>0.001875</td>\n",
       "      <td>1.279860</td>\n",
       "      <td>-0.616285</td>\n",
       "      <td>77.738182</td>\n",
       "      <td>-10.296308</td>\n",
       "      <td>-66.928207</td>\n",
       "      <td>0</td>\n",
       "      <td>0</td>\n",
       "      <td>0</td>\n",
       "    </tr>\n",
       "    <tr>\n",
       "      <th>4</th>\n",
       "      <td>osc_1_1.cfg_1</td>\n",
       "      <td>0.002500</td>\n",
       "      <td>1.031325</td>\n",
       "      <td>-0.634671</td>\n",
       "      <td>70.488098</td>\n",
       "      <td>5.497162</td>\n",
       "      <td>-75.488670</td>\n",
       "      <td>0</td>\n",
       "      <td>0</td>\n",
       "      <td>0</td>\n",
       "    </tr>\n",
       "    <tr>\n",
       "      <th>...</th>\n",
       "      <td>...</td>\n",
       "      <td>...</td>\n",
       "      <td>...</td>\n",
       "      <td>...</td>\n",
       "      <td>...</td>\n",
       "      <td>...</td>\n",
       "      <td>...</td>\n",
       "      <td>...</td>\n",
       "      <td>...</td>\n",
       "      <td>...</td>\n",
       "    </tr>\n",
       "    <tr>\n",
       "      <th>10395</th>\n",
       "      <td>osc_1_9.cfg_2</td>\n",
       "      <td>6.496875</td>\n",
       "      <td>0.413849</td>\n",
       "      <td>0.329927</td>\n",
       "      <td>71.230019</td>\n",
       "      <td>-73.943100</td>\n",
       "      <td>2.070244</td>\n",
       "      <td>0</td>\n",
       "      <td>0</td>\n",
       "      <td>0</td>\n",
       "    </tr>\n",
       "    <tr>\n",
       "      <th>10396</th>\n",
       "      <td>osc_1_9.cfg_2</td>\n",
       "      <td>6.497500</td>\n",
       "      <td>0.469127</td>\n",
       "      <td>0.072775</td>\n",
       "      <td>78.692535</td>\n",
       "      <td>-65.239700</td>\n",
       "      <td>-14.095983</td>\n",
       "      <td>0</td>\n",
       "      <td>0</td>\n",
       "      <td>0</td>\n",
       "    </tr>\n",
       "    <tr>\n",
       "      <th>10397</th>\n",
       "      <td>osc_1_9.cfg_2</td>\n",
       "      <td>6.498125</td>\n",
       "      <td>0.570470</td>\n",
       "      <td>-0.055801</td>\n",
       "      <td>83.249298</td>\n",
       "      <td>-52.341480</td>\n",
       "      <td>-31.533710</td>\n",
       "      <td>0</td>\n",
       "      <td>0</td>\n",
       "      <td>0</td>\n",
       "    </tr>\n",
       "    <tr>\n",
       "      <th>10398</th>\n",
       "      <td>osc_1_9.cfg_2</td>\n",
       "      <td>6.498750</td>\n",
       "      <td>0.671813</td>\n",
       "      <td>-0.175193</td>\n",
       "      <td>83.529968</td>\n",
       "      <td>-37.131168</td>\n",
       "      <td>-47.006393</td>\n",
       "      <td>0</td>\n",
       "      <td>0</td>\n",
       "      <td>0</td>\n",
       "    </tr>\n",
       "    <tr>\n",
       "      <th>10399</th>\n",
       "      <td>osc_1_9.cfg_2</td>\n",
       "      <td>6.499375</td>\n",
       "      <td>0.736304</td>\n",
       "      <td>-0.294585</td>\n",
       "      <td>80.921387</td>\n",
       "      <td>-23.060387</td>\n",
       "      <td>-58.317799</td>\n",
       "      <td>0</td>\n",
       "      <td>0</td>\n",
       "      <td>0</td>\n",
       "    </tr>\n",
       "  </tbody>\n",
       "</table>\n",
       "<p>949688 rows × 10 columns</p>\n",
       "</div>"
      ],
      "text/plain": [
       "           file_name      time        IA        IC         UA         UB  \\\n",
       "0      osc_1_1.cfg_1  0.000000  0.856430 -0.083091  83.518433 -55.723404   \n",
       "1      osc_1_1.cfg_1  0.000625  1.104965 -0.294530  84.079941 -39.879848   \n",
       "2      osc_1_1.cfg_1  0.001250  1.270655 -0.496776  82.065109 -25.154858   \n",
       "3      osc_1_1.cfg_1  0.001875  1.279860 -0.616285  77.738182 -10.296308   \n",
       "4      osc_1_1.cfg_1  0.002500  1.031325 -0.634671  70.488098   5.497162   \n",
       "...              ...       ...       ...       ...        ...        ...   \n",
       "10395  osc_1_9.cfg_2  6.496875  0.413849  0.329927  71.230019 -73.943100   \n",
       "10396  osc_1_9.cfg_2  6.497500  0.469127  0.072775  78.692535 -65.239700   \n",
       "10397  osc_1_9.cfg_2  6.498125  0.570470 -0.055801  83.249298 -52.341480   \n",
       "10398  osc_1_9.cfg_2  6.498750  0.671813 -0.175193  83.529968 -37.131168   \n",
       "10399  osc_1_9.cfg_2  6.499375  0.736304 -0.294585  80.921387 -23.060387   \n",
       "\n",
       "              UC  MLsignal_1  MLsignal_2  MLsignal_3  \n",
       "0     -27.464115           0           0           0  \n",
       "1     -43.791805           0           0           0  \n",
       "2     -56.549877           0           0           0  \n",
       "3     -66.928207           0           0           0  \n",
       "4     -75.488670           0           0           0  \n",
       "...          ...         ...         ...         ...  \n",
       "10395   2.070244           0           0           0  \n",
       "10396 -14.095983           0           0           0  \n",
       "10397 -31.533710           0           0           0  \n",
       "10398 -47.006393           0           0           0  \n",
       "10399 -58.317799           0           0           0  \n",
       "\n",
       "[949688 rows x 10 columns]"
      ]
     },
     "execution_count": 12,
     "metadata": {},
     "output_type": "execute_result"
    }
   ],
   "source": [
    "print(f\"Dataframe shape: {full_dataframe.shape[0]} samples, {full_dataframe.shape[1]} features \")\n",
    "full_dataframe"
   ]
  },
  {
   "cell_type": "code",
   "execution_count": 13,
   "metadata": {
    "_cell_guid": "3bcaa03c-43d2-4d81-891a-f288496358bc",
    "_uuid": "29f35cc2-ee0e-4194-a63c-511c70acfdd4",
    "execution": {
     "iopub.execute_input": "2024-02-12T09:50:54.113291Z",
     "iopub.status.busy": "2024-02-12T09:50:54.112852Z",
     "iopub.status.idle": "2024-02-12T09:50:54.462273Z",
     "shell.execute_reply": "2024-02-12T09:50:54.461376Z",
     "shell.execute_reply.started": "2024-02-12T09:50:54.113256Z"
    },
    "jupyter": {
     "outputs_hidden": false
    }
   },
   "outputs": [
    {
     "name": "stdout",
     "output_type": "stream",
     "text": [
      "Number of samples within an oscillation period: 32.\n"
     ]
    }
   ],
   "source": [
    "period = 1 / 50\n",
    "samples = full_dataframe['time'][(full_dataframe['file_name'] == 'osc_1_40.cfg_1') & \n",
    "                                  (full_dataframe['time'] >= period) & \n",
    "                                  (full_dataframe['time'] < 2 * period)]\n",
    "print(f'Number of samples within an oscillation period: {len(samples.values)}.')"
   ]
  },
  {
   "cell_type": "markdown",
   "metadata": {
    "_cell_guid": "fec586d2-2004-404b-b785-488e4458b2f6",
    "_uuid": "dc3e333e-e6bd-41aa-aede-76b5475d8f3d"
   },
   "source": [
    "# Get targets: Sliding window"
   ]
  },
  {
   "cell_type": "markdown",
   "metadata": {
    "_cell_guid": "da37296a-694a-4c71-9d2c-b95cf4c2f0a5",
    "_uuid": "ec656a3f-fd37-4ede-a4d4-12da01cf886f"
   },
   "source": [
    "Targets description is in the table below:\n",
    "\n",
    "|target|description|\n",
    "|  :-:  |     :     |\n",
    "|  0   |     Normal working condition: No disturbancies     |\n",
    "|  1   |     Switch: On / Off (working condition)   |\n",
    "|  2   |     Anomaly: Attention is all you need     |\n",
    "|  3   |     Emergency     |"
   ]
  },
  {
   "cell_type": "markdown",
   "metadata": {
    "_cell_guid": "0598ff0f-1f07-4528-972b-f41f4c664002",
    "_uuid": "52fc5ed6-7324-439f-b485-579e4433003a"
   },
   "source": [
    "To get targets we will slide through the dataframe and analyze `MLsignal_` features."
   ]
  },
  {
   "cell_type": "markdown",
   "metadata": {
    "_cell_guid": "4ecdf203-84fe-42ab-b5fd-72286b011bae",
    "_uuid": "249e7c5c-752c-402e-8683-7857e8d59806"
   },
   "source": [
    "## Columns to slide over"
   ]
  },
  {
   "cell_type": "code",
   "execution_count": 14,
   "metadata": {
    "_cell_guid": "4b1aa1d9-7f07-41d1-8eff-820351a203fa",
    "_uuid": "183fd7bd-dbd3-460b-8928-73fd86ddb36b",
    "execution": {
     "iopub.execute_input": "2024-02-01T20:41:55.367267Z",
     "iopub.status.busy": "2024-02-01T20:41:55.366932Z",
     "iopub.status.idle": "2024-02-01T20:41:55.373811Z",
     "shell.execute_reply": "2024-02-01T20:41:55.372811Z",
     "shell.execute_reply.started": "2024-02-01T20:41:55.367241Z"
    },
    "jupyter": {
     "outputs_hidden": false
    }
   },
   "outputs": [
    {
     "data": {
      "text/plain": [
       "Index(['file_name', 'time', 'IA', 'IC', 'UA', 'UB', 'UC', 'MLsignal_1',\n",
       "       'MLsignal_2', 'MLsignal_3'],\n",
       "      dtype='object')"
      ]
     },
     "execution_count": 14,
     "metadata": {},
     "output_type": "execute_result"
    }
   ],
   "source": [
    "columns = full_dataframe.columns\n",
    "columns"
   ]
  },
  {
   "cell_type": "markdown",
   "metadata": {
    "_cell_guid": "52610f66-011f-4d5a-8337-17dbd13b2cfa",
    "_uuid": "d0e4dcc9-3880-449e-8a12-3cb3b25e7c21"
   },
   "source": [
    "### Columns with `'MLsignal'` in their names"
   ]
  },
  {
   "cell_type": "code",
   "execution_count": 15,
   "metadata": {
    "_cell_guid": "732d34f9-3754-45ec-a67a-f7aaeae67305",
    "_uuid": "476b102c-7215-423d-b748-764cd14bc9f0",
    "execution": {
     "iopub.execute_input": "2024-02-01T20:41:55.375124Z",
     "iopub.status.busy": "2024-02-01T20:41:55.374861Z",
     "iopub.status.idle": "2024-02-01T20:41:55.396659Z",
     "shell.execute_reply": "2024-02-01T20:41:55.395817Z",
     "shell.execute_reply.started": "2024-02-01T20:41:55.375100Z"
    },
    "jupyter": {
     "outputs_hidden": false
    }
   },
   "outputs": [
    {
     "data": {
      "text/plain": [
       "['MLsignal_1', 'MLsignal_2', 'MLsignal_3']"
      ]
     },
     "execution_count": 15,
     "metadata": {},
     "output_type": "execute_result"
    }
   ],
   "source": [
    "all_ML = [column for column in columns if 'MLsignal' in column]\n",
    "assert len(all_ML) == 3\n",
    "all_ML"
   ]
  },
  {
   "cell_type": "markdown",
   "metadata": {
    "_cell_guid": "308771b0-2c87-4b05-9abb-ea705df1dfc0",
    "_uuid": "5d070ba7-c45c-4497-9c8e-ba1ed55dd167"
   },
   "source": [
    "## Get targets"
   ]
  },
  {
   "cell_type": "code",
   "execution_count": 16,
   "metadata": {
    "_cell_guid": "0deaf2f0-d960-407f-a0a1-3f585c7bf63e",
    "_uuid": "49f6ecd2-4e37-4314-8d51-0b42d71b9bbe",
    "execution": {
     "iopub.execute_input": "2024-02-01T20:41:55.409600Z",
     "iopub.status.busy": "2024-02-01T20:41:55.409190Z",
     "iopub.status.idle": "2024-02-01T20:41:55.418366Z",
     "shell.execute_reply": "2024-02-01T20:41:55.417286Z",
     "shell.execute_reply.started": "2024-02-01T20:41:55.409569Z"
    },
    "jupyter": {
     "outputs_hidden": false
    }
   },
   "outputs": [],
   "source": [
    "window_size = 32\n",
    "step = 1"
   ]
  },
  {
   "cell_type": "code",
   "execution_count": 17,
   "metadata": {
    "_cell_guid": "968325db-29db-41f8-98a1-8a5b79292048",
    "_uuid": "fa5c88cb-3e48-4bd1-8441-e9b7f39920a4",
    "execution": {
     "iopub.execute_input": "2024-02-01T20:41:55.446435Z",
     "iopub.status.busy": "2024-02-01T20:41:55.445959Z",
     "iopub.status.idle": "2024-02-01T20:45:07.755276Z",
     "shell.execute_reply": "2024-02-01T20:45:07.754273Z",
     "shell.execute_reply.started": "2024-02-01T20:41:55.446409Z"
    },
    "jupyter": {
     "outputs_hidden": false
    }
   },
   "outputs": [
    {
     "data": {
      "application/vnd.jupyter.widget-view+json": {
       "model_id": "d36b1e432e9540a187d59708b31c5211",
       "version_major": 2,
       "version_minor": 0
      },
      "text/plain": [
       "  0%|          | 0/92 [00:00<?, ?it/s]"
      ]
     },
     "metadata": {},
     "output_type": "display_data"
    },
    {
     "name": "stdout",
     "output_type": "stream",
     "text": [
      "Completed!\n"
     ]
    }
   ],
   "source": [
    "targets = get_target(full_dataframe, all_ML, window_size=window_size, step=step)"
   ]
  },
  {
   "cell_type": "code",
   "execution_count": 18,
   "metadata": {
    "execution": {
     "iopub.execute_input": "2024-02-01T16:48:59.226511Z",
     "iopub.status.busy": "2024-02-01T16:48:59.226211Z",
     "iopub.status.idle": "2024-02-01T16:48:59.232479Z",
     "shell.execute_reply": "2024-02-01T16:48:59.231432Z",
     "shell.execute_reply.started": "2024-02-01T16:48:59.226484Z"
    }
   },
   "outputs": [
    {
     "data": {
      "text/plain": [
       "946744"
      ]
     },
     "execution_count": 18,
     "metadata": {},
     "output_type": "execute_result"
    }
   ],
   "source": [
    "len(targets)"
   ]
  },
  {
   "cell_type": "code",
   "execution_count": 19,
   "metadata": {
    "_cell_guid": "f2f844f1-0f50-4fe9-a0a2-5d78e70afbad",
    "_uuid": "4a7e9149-a74d-49a5-b5c7-2562bb89c38c",
    "execution": {
     "iopub.execute_input": "2024-02-01T16:48:59.143251Z",
     "iopub.status.busy": "2024-02-01T16:48:59.142761Z",
     "iopub.status.idle": "2024-02-01T16:48:59.224980Z",
     "shell.execute_reply": "2024-02-01T16:48:59.223970Z",
     "shell.execute_reply.started": "2024-02-01T16:48:59.143215Z"
    },
    "jupyter": {
     "outputs_hidden": false
    }
   },
   "outputs": [],
   "source": [
    "assert len(targets) == full_dataframe.shape[0] - len(full_dataframe['file_name'].unique()) * window_size"
   ]
  },
  {
   "cell_type": "code",
   "execution_count": 20,
   "metadata": {
    "_cell_guid": "f49c0461-d92c-47b0-8159-b36f7140760e",
    "_uuid": "8831fda1-5544-4dd7-8bd2-a4fc8606fe0e",
    "jupyter": {
     "outputs_hidden": false
    }
   },
   "outputs": [
    {
     "data": {
      "text/plain": [
       "0    905185\n",
       "1     23855\n",
       "2     15277\n",
       "3      2427\n",
       "dtype: int64"
      ]
     },
     "execution_count": 20,
     "metadata": {},
     "output_type": "execute_result"
    }
   ],
   "source": [
    "targets.value_counts()"
   ]
  },
  {
   "cell_type": "markdown",
   "metadata": {
    "_cell_guid": "11f0a29f-5cac-4fcf-ae55-5e467b8775e0",
    "_uuid": "77391abe-9e39-45ac-9d92-2d2f45459223"
   },
   "source": [
    "### Convert dataframe to Multi-index"
   ]
  },
  {
   "cell_type": "code",
   "execution_count": 21,
   "metadata": {
    "_cell_guid": "32109904-e185-4427-a9b2-c2e5b9fb040a",
    "_uuid": "57016533-2b73-40fc-b9ec-de0ac60f2ac0",
    "execution": {
     "iopub.execute_input": "2024-02-01T20:48:15.083112Z",
     "iopub.status.busy": "2024-02-01T20:48:15.082142Z",
     "iopub.status.idle": "2024-02-01T20:48:15.087535Z",
     "shell.execute_reply": "2024-02-01T20:48:15.086637Z",
     "shell.execute_reply.started": "2024-02-01T20:48:15.083055Z"
    },
    "jupyter": {
     "outputs_hidden": false
    }
   },
   "outputs": [],
   "source": [
    "from sklearn.preprocessing import StandardScaler"
   ]
  },
  {
   "cell_type": "code",
   "execution_count": 22,
   "metadata": {
    "_cell_guid": "88993d16-0c35-4ea2-b014-0581830b4326",
    "_uuid": "36236f01-16b2-4da7-934c-a5cf04744959",
    "execution": {
     "iopub.execute_input": "2024-02-01T20:48:15.994050Z",
     "iopub.status.busy": "2024-02-01T20:48:15.993691Z",
     "iopub.status.idle": "2024-02-01T20:48:15.998758Z",
     "shell.execute_reply": "2024-02-01T20:48:15.997931Z",
     "shell.execute_reply.started": "2024-02-01T20:48:15.994022Z"
    },
    "jupyter": {
     "outputs_hidden": false
    }
   },
   "outputs": [],
   "source": [
    "features = ['file_name', 'IA', 'IC', 'UA', 'UB', 'UC']"
   ]
  },
  {
   "cell_type": "code",
   "execution_count": 23,
   "metadata": {
    "_cell_guid": "69217e7b-4adb-451b-b1de-0ae3b306c61a",
    "_uuid": "8a0b24f3-52d9-4198-96da-2dd09863599b",
    "execution": {
     "iopub.execute_input": "2024-02-01T20:48:16.918124Z",
     "iopub.status.busy": "2024-02-01T20:48:16.917695Z",
     "iopub.status.idle": "2024-02-01T20:48:18.209121Z",
     "shell.execute_reply": "2024-02-01T20:48:18.207760Z",
     "shell.execute_reply.started": "2024-02-01T20:48:16.918056Z"
    },
    "jupyter": {
     "outputs_hidden": false
    }
   },
   "outputs": [
    {
     "name": "stdout",
     "output_type": "stream",
     "text": [
      "Unscaled Dataframe\n"
     ]
    },
    {
     "data": {
      "text/html": [
       "<div>\n",
       "<style scoped>\n",
       "    .dataframe tbody tr th:only-of-type {\n",
       "        vertical-align: middle;\n",
       "    }\n",
       "\n",
       "    .dataframe tbody tr th {\n",
       "        vertical-align: top;\n",
       "    }\n",
       "\n",
       "    .dataframe thead th {\n",
       "        text-align: right;\n",
       "    }\n",
       "</style>\n",
       "<table border=\"1\" class=\"dataframe\">\n",
       "  <thead>\n",
       "    <tr style=\"text-align: right;\">\n",
       "      <th></th>\n",
       "      <th>file_name</th>\n",
       "      <th>IA</th>\n",
       "      <th>IC</th>\n",
       "      <th>UA</th>\n",
       "      <th>UB</th>\n",
       "      <th>UC</th>\n",
       "    </tr>\n",
       "  </thead>\n",
       "  <tbody>\n",
       "    <tr>\n",
       "      <th>0</th>\n",
       "      <td>osc_1_1.cfg_1</td>\n",
       "      <td>0.856430</td>\n",
       "      <td>-0.083091</td>\n",
       "      <td>83.518433</td>\n",
       "      <td>-55.723404</td>\n",
       "      <td>-27.464115</td>\n",
       "    </tr>\n",
       "    <tr>\n",
       "      <th>1</th>\n",
       "      <td>osc_1_1.cfg_1</td>\n",
       "      <td>1.104965</td>\n",
       "      <td>-0.294530</td>\n",
       "      <td>84.079941</td>\n",
       "      <td>-39.879848</td>\n",
       "      <td>-43.791805</td>\n",
       "    </tr>\n",
       "    <tr>\n",
       "      <th>2</th>\n",
       "      <td>osc_1_1.cfg_1</td>\n",
       "      <td>1.270655</td>\n",
       "      <td>-0.496776</td>\n",
       "      <td>82.065109</td>\n",
       "      <td>-25.154858</td>\n",
       "      <td>-56.549877</td>\n",
       "    </tr>\n",
       "    <tr>\n",
       "      <th>3</th>\n",
       "      <td>osc_1_1.cfg_1</td>\n",
       "      <td>1.279860</td>\n",
       "      <td>-0.616285</td>\n",
       "      <td>77.738182</td>\n",
       "      <td>-10.296308</td>\n",
       "      <td>-66.928207</td>\n",
       "    </tr>\n",
       "    <tr>\n",
       "      <th>4</th>\n",
       "      <td>osc_1_1.cfg_1</td>\n",
       "      <td>1.031325</td>\n",
       "      <td>-0.634671</td>\n",
       "      <td>70.488098</td>\n",
       "      <td>5.497162</td>\n",
       "      <td>-75.488670</td>\n",
       "    </tr>\n",
       "    <tr>\n",
       "      <th>...</th>\n",
       "      <td>...</td>\n",
       "      <td>...</td>\n",
       "      <td>...</td>\n",
       "      <td>...</td>\n",
       "      <td>...</td>\n",
       "      <td>...</td>\n",
       "    </tr>\n",
       "    <tr>\n",
       "      <th>10395</th>\n",
       "      <td>osc_1_9.cfg_2</td>\n",
       "      <td>0.413849</td>\n",
       "      <td>0.329927</td>\n",
       "      <td>71.230019</td>\n",
       "      <td>-73.943100</td>\n",
       "      <td>2.070244</td>\n",
       "    </tr>\n",
       "    <tr>\n",
       "      <th>10396</th>\n",
       "      <td>osc_1_9.cfg_2</td>\n",
       "      <td>0.469127</td>\n",
       "      <td>0.072775</td>\n",
       "      <td>78.692535</td>\n",
       "      <td>-65.239700</td>\n",
       "      <td>-14.095983</td>\n",
       "    </tr>\n",
       "    <tr>\n",
       "      <th>10397</th>\n",
       "      <td>osc_1_9.cfg_2</td>\n",
       "      <td>0.570470</td>\n",
       "      <td>-0.055801</td>\n",
       "      <td>83.249298</td>\n",
       "      <td>-52.341480</td>\n",
       "      <td>-31.533710</td>\n",
       "    </tr>\n",
       "    <tr>\n",
       "      <th>10398</th>\n",
       "      <td>osc_1_9.cfg_2</td>\n",
       "      <td>0.671813</td>\n",
       "      <td>-0.175193</td>\n",
       "      <td>83.529968</td>\n",
       "      <td>-37.131168</td>\n",
       "      <td>-47.006393</td>\n",
       "    </tr>\n",
       "    <tr>\n",
       "      <th>10399</th>\n",
       "      <td>osc_1_9.cfg_2</td>\n",
       "      <td>0.736304</td>\n",
       "      <td>-0.294585</td>\n",
       "      <td>80.921387</td>\n",
       "      <td>-23.060387</td>\n",
       "      <td>-58.317799</td>\n",
       "    </tr>\n",
       "  </tbody>\n",
       "</table>\n",
       "<p>949688 rows × 6 columns</p>\n",
       "</div>"
      ],
      "text/plain": [
       "           file_name        IA        IC         UA         UB         UC\n",
       "0      osc_1_1.cfg_1  0.856430 -0.083091  83.518433 -55.723404 -27.464115\n",
       "1      osc_1_1.cfg_1  1.104965 -0.294530  84.079941 -39.879848 -43.791805\n",
       "2      osc_1_1.cfg_1  1.270655 -0.496776  82.065109 -25.154858 -56.549877\n",
       "3      osc_1_1.cfg_1  1.279860 -0.616285  77.738182 -10.296308 -66.928207\n",
       "4      osc_1_1.cfg_1  1.031325 -0.634671  70.488098   5.497162 -75.488670\n",
       "...              ...       ...       ...        ...        ...        ...\n",
       "10395  osc_1_9.cfg_2  0.413849  0.329927  71.230019 -73.943100   2.070244\n",
       "10396  osc_1_9.cfg_2  0.469127  0.072775  78.692535 -65.239700 -14.095983\n",
       "10397  osc_1_9.cfg_2  0.570470 -0.055801  83.249298 -52.341480 -31.533710\n",
       "10398  osc_1_9.cfg_2  0.671813 -0.175193  83.529968 -37.131168 -47.006393\n",
       "10399  osc_1_9.cfg_2  0.736304 -0.294585  80.921387 -23.060387 -58.317799\n",
       "\n",
       "[949688 rows x 6 columns]"
      ]
     },
     "metadata": {},
     "output_type": "display_data"
    },
    {
     "name": "stdout",
     "output_type": "stream",
     "text": [
      "Scaled Dataframe Using StandardScaler\n"
     ]
    },
    {
     "name": "stderr",
     "output_type": "stream",
     "text": [
      "C:\\ProgramData\\Anaconda3\\envs\\hse_env\\lib\\site-packages\\pandas\\core\\frame.py:4913: SettingWithCopyWarning: \n",
      "A value is trying to be set on a copy of a slice from a DataFrame\n",
      "\n",
      "See the caveats in the documentation: https://pandas.pydata.org/pandas-docs/stable/user_guide/indexing.html#returning-a-view-versus-a-copy\n",
      "  errors=errors,\n"
     ]
    },
    {
     "data": {
      "text/html": [
       "<div>\n",
       "<style scoped>\n",
       "    .dataframe tbody tr th:only-of-type {\n",
       "        vertical-align: middle;\n",
       "    }\n",
       "\n",
       "    .dataframe tbody tr th {\n",
       "        vertical-align: top;\n",
       "    }\n",
       "\n",
       "    .dataframe thead th {\n",
       "        text-align: right;\n",
       "    }\n",
       "</style>\n",
       "<table border=\"1\" class=\"dataframe\">\n",
       "  <thead>\n",
       "    <tr style=\"text-align: right;\">\n",
       "      <th></th>\n",
       "      <th>file_name</th>\n",
       "      <th>sample</th>\n",
       "      <th>IA</th>\n",
       "      <th>IC</th>\n",
       "      <th>UA</th>\n",
       "      <th>UB</th>\n",
       "      <th>UC</th>\n",
       "    </tr>\n",
       "  </thead>\n",
       "  <tbody>\n",
       "    <tr>\n",
       "      <th>0</th>\n",
       "      <td>osc_1_1.cfg_1</td>\n",
       "      <td>0</td>\n",
       "      <td>1.169961</td>\n",
       "      <td>-0.106191</td>\n",
       "      <td>1.437608</td>\n",
       "      <td>-0.948037</td>\n",
       "      <td>-0.465886</td>\n",
       "    </tr>\n",
       "    <tr>\n",
       "      <th>1</th>\n",
       "      <td>osc_1_1.cfg_1</td>\n",
       "      <td>1</td>\n",
       "      <td>1.510900</td>\n",
       "      <td>-0.358231</td>\n",
       "      <td>1.447274</td>\n",
       "      <td>-0.678511</td>\n",
       "      <td>-0.742868</td>\n",
       "    </tr>\n",
       "    <tr>\n",
       "      <th>2</th>\n",
       "      <td>osc_1_1.cfg_1</td>\n",
       "      <td>2</td>\n",
       "      <td>1.738192</td>\n",
       "      <td>-0.599313</td>\n",
       "      <td>1.412590</td>\n",
       "      <td>-0.428014</td>\n",
       "      <td>-0.959296</td>\n",
       "    </tr>\n",
       "    <tr>\n",
       "      <th>3</th>\n",
       "      <td>osc_1_1.cfg_1</td>\n",
       "      <td>3</td>\n",
       "      <td>1.750819</td>\n",
       "      <td>-0.741771</td>\n",
       "      <td>1.338106</td>\n",
       "      <td>-0.175245</td>\n",
       "      <td>-1.135354</td>\n",
       "    </tr>\n",
       "    <tr>\n",
       "      <th>4</th>\n",
       "      <td>osc_1_1.cfg_1</td>\n",
       "      <td>4</td>\n",
       "      <td>1.409881</td>\n",
       "      <td>-0.763687</td>\n",
       "      <td>1.213301</td>\n",
       "      <td>0.093429</td>\n",
       "      <td>-1.280573</td>\n",
       "    </tr>\n",
       "    <tr>\n",
       "      <th>...</th>\n",
       "      <td>...</td>\n",
       "      <td>...</td>\n",
       "      <td>...</td>\n",
       "      <td>...</td>\n",
       "      <td>...</td>\n",
       "      <td>...</td>\n",
       "      <td>...</td>\n",
       "    </tr>\n",
       "    <tr>\n",
       "      <th>949683</th>\n",
       "      <td>osc_1_9.cfg_2</td>\n",
       "      <td>10395</td>\n",
       "      <td>0.562831</td>\n",
       "      <td>0.386136</td>\n",
       "      <td>1.226073</td>\n",
       "      <td>-1.257985</td>\n",
       "      <td>0.035135</td>\n",
       "    </tr>\n",
       "    <tr>\n",
       "      <th>949684</th>\n",
       "      <td>osc_1_9.cfg_2</td>\n",
       "      <td>10396</td>\n",
       "      <td>0.638661</td>\n",
       "      <td>0.079604</td>\n",
       "      <td>1.354534</td>\n",
       "      <td>-1.109925</td>\n",
       "      <td>-0.239109</td>\n",
       "    </tr>\n",
       "    <tr>\n",
       "      <th>949685</th>\n",
       "      <td>osc_1_9.cfg_2</td>\n",
       "      <td>10397</td>\n",
       "      <td>0.777683</td>\n",
       "      <td>-0.073661</td>\n",
       "      <td>1.432975</td>\n",
       "      <td>-0.890505</td>\n",
       "      <td>-0.534922</td>\n",
       "    </tr>\n",
       "    <tr>\n",
       "      <th>949686</th>\n",
       "      <td>osc_1_9.cfg_2</td>\n",
       "      <td>10398</td>\n",
       "      <td>0.916705</td>\n",
       "      <td>-0.215979</td>\n",
       "      <td>1.437806</td>\n",
       "      <td>-0.631751</td>\n",
       "      <td>-0.797400</td>\n",
       "    </tr>\n",
       "    <tr>\n",
       "      <th>949687</th>\n",
       "      <td>osc_1_9.cfg_2</td>\n",
       "      <td>10399</td>\n",
       "      <td>1.005173</td>\n",
       "      <td>-0.358297</td>\n",
       "      <td>1.392902</td>\n",
       "      <td>-0.392383</td>\n",
       "      <td>-0.989287</td>\n",
       "    </tr>\n",
       "  </tbody>\n",
       "</table>\n",
       "<p>949688 rows × 7 columns</p>\n",
       "</div>"
      ],
      "text/plain": [
       "            file_name sample        IA        IC        UA        UB        UC\n",
       "0       osc_1_1.cfg_1      0  1.169961 -0.106191  1.437608 -0.948037 -0.465886\n",
       "1       osc_1_1.cfg_1      1  1.510900 -0.358231  1.447274 -0.678511 -0.742868\n",
       "2       osc_1_1.cfg_1      2  1.738192 -0.599313  1.412590 -0.428014 -0.959296\n",
       "3       osc_1_1.cfg_1      3  1.750819 -0.741771  1.338106 -0.175245 -1.135354\n",
       "4       osc_1_1.cfg_1      4  1.409881 -0.763687  1.213301  0.093429 -1.280573\n",
       "...               ...    ...       ...       ...       ...       ...       ...\n",
       "949683  osc_1_9.cfg_2  10395  0.562831  0.386136  1.226073 -1.257985  0.035135\n",
       "949684  osc_1_9.cfg_2  10396  0.638661  0.079604  1.354534 -1.109925 -0.239109\n",
       "949685  osc_1_9.cfg_2  10397  0.777683 -0.073661  1.432975 -0.890505 -0.534922\n",
       "949686  osc_1_9.cfg_2  10398  0.916705 -0.215979  1.437806 -0.631751 -0.797400\n",
       "949687  osc_1_9.cfg_2  10399  1.005173 -0.358297  1.392902 -0.392383 -0.989287\n",
       "\n",
       "[949688 rows x 7 columns]"
      ]
     },
     "metadata": {},
     "output_type": "display_data"
    }
   ],
   "source": [
    "# using the pandas set_index() function. \n",
    "full_dataframe = full_dataframe[features]\n",
    "print(\"Unscaled Dataframe\")\n",
    "display(full_dataframe)\n",
    "\n",
    "sample = pd.Series(full_dataframe.index.values, name='sample')\n",
    "file_name = pd.Series(full_dataframe['file_name'].values, name='file_name')\n",
    "full_dataframe.drop('file_name', axis=1, inplace=True)\n",
    "\n",
    "# Standartization of data\n",
    "std_scaler = StandardScaler()\n",
    "df_scaled = std_scaler.fit_transform(full_dataframe.to_numpy())\n",
    "\n",
    "df_scaled = pd.DataFrame(df_scaled, columns=full_dataframe.columns)\n",
    "full_dataframe = pd.concat((file_name, sample, df_scaled), axis=1)\n",
    "\n",
    "print(\"Scaled Dataframe Using StandardScaler\")\n",
    "display(full_dataframe)"
   ]
  },
  {
   "cell_type": "code",
   "execution_count": 24,
   "metadata": {
    "_cell_guid": "0a3c3709-6889-4250-82d0-c22886fb5f94",
    "_uuid": "f6937e8c-738f-46ee-ab23-89919ca16dac",
    "jupyter": {
     "outputs_hidden": false
    }
   },
   "outputs": [
    {
     "data": {
      "text/html": [
       "<div>\n",
       "<style scoped>\n",
       "    .dataframe tbody tr th:only-of-type {\n",
       "        vertical-align: middle;\n",
       "    }\n",
       "\n",
       "    .dataframe tbody tr th {\n",
       "        vertical-align: top;\n",
       "    }\n",
       "\n",
       "    .dataframe thead th {\n",
       "        text-align: right;\n",
       "    }\n",
       "</style>\n",
       "<table border=\"1\" class=\"dataframe\">\n",
       "  <thead>\n",
       "    <tr style=\"text-align: right;\">\n",
       "      <th></th>\n",
       "      <th></th>\n",
       "      <th>IA</th>\n",
       "      <th>IC</th>\n",
       "      <th>UA</th>\n",
       "      <th>UB</th>\n",
       "      <th>UC</th>\n",
       "    </tr>\n",
       "    <tr>\n",
       "      <th>file_name</th>\n",
       "      <th>sample</th>\n",
       "      <th></th>\n",
       "      <th></th>\n",
       "      <th></th>\n",
       "      <th></th>\n",
       "      <th></th>\n",
       "    </tr>\n",
       "  </thead>\n",
       "  <tbody>\n",
       "    <tr>\n",
       "      <th rowspan=\"5\" valign=\"top\">osc_1_1.cfg_1</th>\n",
       "      <th>0</th>\n",
       "      <td>1.169961</td>\n",
       "      <td>-0.106191</td>\n",
       "      <td>1.437608</td>\n",
       "      <td>-0.948037</td>\n",
       "      <td>-0.465886</td>\n",
       "    </tr>\n",
       "    <tr>\n",
       "      <th>1</th>\n",
       "      <td>1.510900</td>\n",
       "      <td>-0.358231</td>\n",
       "      <td>1.447274</td>\n",
       "      <td>-0.678511</td>\n",
       "      <td>-0.742868</td>\n",
       "    </tr>\n",
       "    <tr>\n",
       "      <th>2</th>\n",
       "      <td>1.738192</td>\n",
       "      <td>-0.599313</td>\n",
       "      <td>1.412590</td>\n",
       "      <td>-0.428014</td>\n",
       "      <td>-0.959296</td>\n",
       "    </tr>\n",
       "    <tr>\n",
       "      <th>3</th>\n",
       "      <td>1.750819</td>\n",
       "      <td>-0.741771</td>\n",
       "      <td>1.338106</td>\n",
       "      <td>-0.175245</td>\n",
       "      <td>-1.135354</td>\n",
       "    </tr>\n",
       "    <tr>\n",
       "      <th>4</th>\n",
       "      <td>1.409881</td>\n",
       "      <td>-0.763687</td>\n",
       "      <td>1.213301</td>\n",
       "      <td>0.093429</td>\n",
       "      <td>-1.280573</td>\n",
       "    </tr>\n",
       "    <tr>\n",
       "      <th>...</th>\n",
       "      <th>...</th>\n",
       "      <td>...</td>\n",
       "      <td>...</td>\n",
       "      <td>...</td>\n",
       "      <td>...</td>\n",
       "      <td>...</td>\n",
       "    </tr>\n",
       "    <tr>\n",
       "      <th rowspan=\"5\" valign=\"top\">osc_1_9.cfg_2</th>\n",
       "      <th>10395</th>\n",
       "      <td>0.562831</td>\n",
       "      <td>0.386136</td>\n",
       "      <td>1.226073</td>\n",
       "      <td>-1.257985</td>\n",
       "      <td>0.035135</td>\n",
       "    </tr>\n",
       "    <tr>\n",
       "      <th>10396</th>\n",
       "      <td>0.638661</td>\n",
       "      <td>0.079604</td>\n",
       "      <td>1.354534</td>\n",
       "      <td>-1.109925</td>\n",
       "      <td>-0.239109</td>\n",
       "    </tr>\n",
       "    <tr>\n",
       "      <th>10397</th>\n",
       "      <td>0.777683</td>\n",
       "      <td>-0.073661</td>\n",
       "      <td>1.432975</td>\n",
       "      <td>-0.890505</td>\n",
       "      <td>-0.534922</td>\n",
       "    </tr>\n",
       "    <tr>\n",
       "      <th>10398</th>\n",
       "      <td>0.916705</td>\n",
       "      <td>-0.215979</td>\n",
       "      <td>1.437806</td>\n",
       "      <td>-0.631751</td>\n",
       "      <td>-0.797400</td>\n",
       "    </tr>\n",
       "    <tr>\n",
       "      <th>10399</th>\n",
       "      <td>1.005173</td>\n",
       "      <td>-0.358297</td>\n",
       "      <td>1.392902</td>\n",
       "      <td>-0.392383</td>\n",
       "      <td>-0.989287</td>\n",
       "    </tr>\n",
       "  </tbody>\n",
       "</table>\n",
       "<p>949688 rows × 5 columns</p>\n",
       "</div>"
      ],
      "text/plain": [
       "                            IA        IC        UA        UB        UC\n",
       "file_name     sample                                                  \n",
       "osc_1_1.cfg_1 0       1.169961 -0.106191  1.437608 -0.948037 -0.465886\n",
       "              1       1.510900 -0.358231  1.447274 -0.678511 -0.742868\n",
       "              2       1.738192 -0.599313  1.412590 -0.428014 -0.959296\n",
       "              3       1.750819 -0.741771  1.338106 -0.175245 -1.135354\n",
       "              4       1.409881 -0.763687  1.213301  0.093429 -1.280573\n",
       "...                        ...       ...       ...       ...       ...\n",
       "osc_1_9.cfg_2 10395   0.562831  0.386136  1.226073 -1.257985  0.035135\n",
       "              10396   0.638661  0.079604  1.354534 -1.109925 -0.239109\n",
       "              10397   0.777683 -0.073661  1.432975 -0.890505 -0.534922\n",
       "              10398   0.916705 -0.215979  1.437806 -0.631751 -0.797400\n",
       "              10399   1.005173 -0.358297  1.392902 -0.392383 -0.989287\n",
       "\n",
       "[949688 rows x 5 columns]"
      ]
     },
     "execution_count": 24,
     "metadata": {},
     "output_type": "execute_result"
    }
   ],
   "source": [
    "full_dataframe = full_dataframe.set_index(['file_name', 'sample'])\n",
    "full_dataframe"
   ]
  },
  {
   "cell_type": "markdown",
   "metadata": {
    "_cell_guid": "a0d05fe2-d2e9-4a73-9e7b-aaf4465bed54",
    "_uuid": "a02fb74c-d734-4375-b7da-e7bb0d27b1f5"
   },
   "source": [
    "### Create dataset"
   ]
  },
  {
   "cell_type": "code",
   "execution_count": 25,
   "metadata": {
    "_cell_guid": "6adbbc1d-806e-4afa-857d-50b405cf48b7",
    "_uuid": "406b32ac-5d85-4f7c-b20f-054fdfc3a1dc",
    "execution": {
     "iopub.execute_input": "2024-02-01T20:48:30.680431Z",
     "iopub.status.busy": "2024-02-01T20:48:30.679672Z",
     "iopub.status.idle": "2024-02-01T20:48:31.018745Z",
     "shell.execute_reply": "2024-02-01T20:48:31.017787Z",
     "shell.execute_reply.started": "2024-02-01T20:48:30.680399Z"
    },
    "jupyter": {
     "outputs_hidden": false
    }
   },
   "outputs": [
    {
     "data": {
      "application/vnd.jupyter.widget-view+json": {
       "model_id": "f20f7ca8c32a4d069d96deac184fffa3",
       "version_major": 2,
       "version_minor": 0
      },
      "text/plain": [
       "Creating sequence of samples:   0%|          | 0/92 [00:00<?, ?it/s]"
      ]
     },
     "metadata": {},
     "output_type": "display_data"
    }
   ],
   "source": [
    "full_dataset = MyDataset(full_dataframe, targets,\n",
    "                          window_size=window_size)"
   ]
  },
  {
   "cell_type": "code",
   "execution_count": 26,
   "metadata": {
    "_cell_guid": "414bb0a3-7b36-4511-acce-94e739940611",
    "_uuid": "5f562023-da90-4d13-9edf-97b218f71299",
    "execution": {
     "iopub.execute_input": "2024-02-01T20:48:32.759040Z",
     "iopub.status.busy": "2024-02-01T20:48:32.758415Z",
     "iopub.status.idle": "2024-02-01T20:48:32.763335Z",
     "shell.execute_reply": "2024-02-01T20:48:32.762255Z",
     "shell.execute_reply.started": "2024-02-01T20:48:32.759010Z"
    },
    "jupyter": {
     "outputs_hidden": false
    }
   },
   "outputs": [],
   "source": [
    "assert len(full_dataset.window_end_indices) == len(targets)"
   ]
  },
  {
   "cell_type": "markdown",
   "metadata": {
    "_cell_guid": "36c66a90-6370-4e66-b7e6-8ab65359ae8a",
    "_uuid": "77f18821-0755-461c-917d-b16997d18049"
   },
   "source": [
    "# Train, validation and test split"
   ]
  },
  {
   "cell_type": "markdown",
   "metadata": {
    "_cell_guid": "fd1316c7-494d-450c-8c5c-c45540e50a05",
    "_uuid": "66a4f232-73a0-4cea-9c20-7ea6cf831e39"
   },
   "source": [
    "### To maintain repeatability we will use `seed_everything` function recommended [here](https://gist.github.com/ihoromi4/b681a9088f348942b01711f251e5f964)"
   ]
  },
  {
   "cell_type": "code",
   "execution_count": 27,
   "metadata": {},
   "outputs": [
    {
     "name": "stdout",
     "output_type": "stream",
     "text": [
      "Defaulting to user installation because normal site-packages is not writeable\n",
      "Requirement already satisfied: seaborn in c:\\users\\dl\\appdata\\roaming\\python\\python37\\site-packages (0.12.2)\n",
      "Requirement already satisfied: matplotlib!=3.6.1,>=3.1 in c:\\users\\dl\\appdata\\roaming\\python\\python37\\site-packages (from seaborn) (3.5.3)\n",
      "Requirement already satisfied: typing_extensions in c:\\programdata\\anaconda3\\envs\\hse_env\\lib\\site-packages (from seaborn) (4.4.0)\n",
      "Requirement already satisfied: numpy!=1.24.0,>=1.17 in c:\\programdata\\anaconda3\\envs\\hse_env\\lib\\site-packages (from seaborn) (1.21.6)\n",
      "Requirement already satisfied: pandas>=0.25 in c:\\programdata\\anaconda3\\envs\\hse_env\\lib\\site-packages (from seaborn) (1.3.5)\n",
      "Requirement already satisfied: python-dateutil>=2.7 in c:\\programdata\\anaconda3\\envs\\hse_env\\lib\\site-packages (from matplotlib!=3.6.1,>=3.1->seaborn) (2.8.2)\n",
      "Requirement already satisfied: pillow>=6.2.0 in c:\\users\\dl\\appdata\\roaming\\python\\python37\\site-packages (from matplotlib!=3.6.1,>=3.1->seaborn) (9.5.0)\n",
      "Requirement already satisfied: kiwisolver>=1.0.1 in c:\\users\\dl\\appdata\\roaming\\python\\python37\\site-packages (from matplotlib!=3.6.1,>=3.1->seaborn) (1.4.4)\n",
      "Requirement already satisfied: fonttools>=4.22.0 in c:\\users\\dl\\appdata\\roaming\\python\\python37\\site-packages (from matplotlib!=3.6.1,>=3.1->seaborn) (4.38.0)\n",
      "Requirement already satisfied: packaging>=20.0 in c:\\programdata\\anaconda3\\envs\\hse_env\\lib\\site-packages (from matplotlib!=3.6.1,>=3.1->seaborn) (22.0)\n",
      "Requirement already satisfied: pyparsing>=2.2.1 in c:\\users\\dl\\appdata\\roaming\\python\\python37\\site-packages (from matplotlib!=3.6.1,>=3.1->seaborn) (3.1.1)\n",
      "Requirement already satisfied: cycler>=0.10 in c:\\users\\dl\\appdata\\roaming\\python\\python37\\site-packages (from matplotlib!=3.6.1,>=3.1->seaborn) (0.11.0)\n",
      "Requirement already satisfied: pytz>=2017.3 in c:\\programdata\\anaconda3\\envs\\hse_env\\lib\\site-packages (from pandas>=0.25->seaborn) (2022.7)\n",
      "Requirement already satisfied: six>=1.5 in c:\\programdata\\anaconda3\\envs\\hse_env\\lib\\site-packages (from python-dateutil>=2.7->matplotlib!=3.6.1,>=3.1->seaborn) (1.16.0)\n"
     ]
    }
   ],
   "source": [
    "!pip install seaborn"
   ]
  },
  {
   "cell_type": "code",
   "execution_count": 28,
   "metadata": {},
   "outputs": [],
   "source": [
    "from training_helper_functions import *"
   ]
  },
  {
   "cell_type": "code",
   "execution_count": 29,
   "metadata": {
    "_cell_guid": "6c580772-81ae-42f7-8163-a0be48ea88ec",
    "_uuid": "f936be17-d70c-44a7-940d-23f36128e02f",
    "execution": {
     "iopub.execute_input": "2024-02-05T14:22:02.546147Z",
     "iopub.status.busy": "2024-02-05T14:22:02.545297Z",
     "iopub.status.idle": "2024-02-05T14:22:02.551747Z",
     "shell.execute_reply": "2024-02-05T14:22:02.550735Z",
     "shell.execute_reply.started": "2024-02-05T14:22:02.546117Z"
    },
    "jupyter": {
     "outputs_hidden": false
    }
   },
   "outputs": [],
   "source": [
    "SEED = 42"
   ]
  },
  {
   "cell_type": "code",
   "execution_count": 30,
   "metadata": {
    "_cell_guid": "f8a6a0cf-7bd1-4378-9291-407ad59cc73b",
    "_uuid": "a36052a0-ec52-4b09-b381-0071432f4108",
    "execution": {
     "iopub.execute_input": "2024-02-01T20:48:36.002563Z",
     "iopub.status.busy": "2024-02-01T20:48:36.001636Z",
     "iopub.status.idle": "2024-02-01T20:48:36.131140Z",
     "shell.execute_reply": "2024-02-01T20:48:36.130128Z",
     "shell.execute_reply.started": "2024-02-01T20:48:36.002529Z"
    },
    "jupyter": {
     "outputs_hidden": false
    }
   },
   "outputs": [],
   "source": [
    "seed_everything(SEED)\n",
    "\n",
    "train_size = int(0.8 * len(full_dataset))\n",
    "val_test_size = len(full_dataset) - train_size\n",
    "train_dataset, val_test_dataset = random_split(full_dataset,\n",
    "                                          [train_size, val_test_size])\n",
    "val_size = int(0.5 * len(val_test_dataset))\n",
    "test_size = len(val_test_dataset) - val_size\n",
    "val_dataset, test_dataset = random_split(val_test_dataset,\n",
    "                                          [val_size, test_size])"
   ]
  },
  {
   "cell_type": "code",
   "execution_count": 31,
   "metadata": {
    "_cell_guid": "0eb18e6e-8bc9-4201-af8b-07e99b5cc713",
    "_uuid": "5303b15d-3d24-4fa8-bfdf-0c17fa44381a",
    "execution": {
     "iopub.execute_input": "2024-02-01T20:48:36.375016Z",
     "iopub.status.busy": "2024-02-01T20:48:36.374117Z",
     "iopub.status.idle": "2024-02-01T20:48:36.379902Z",
     "shell.execute_reply": "2024-02-01T20:48:36.378897Z",
     "shell.execute_reply.started": "2024-02-01T20:48:36.374976Z"
    },
    "jupyter": {
     "outputs_hidden": false
    }
   },
   "outputs": [],
   "source": [
    "dataset = dict()\n",
    "dataset['train'], dataset['val'], dataset['test'] = \\\n",
    "train_dataset, val_dataset, test_dataset"
   ]
  },
  {
   "cell_type": "code",
   "execution_count": 32,
   "metadata": {
    "_cell_guid": "352e2a8f-af5b-4760-9553-7cc7b81aca94",
    "_uuid": "d3e90d23-9e40-480a-8e8f-872bbb661142",
    "execution": {
     "iopub.execute_input": "2024-02-01T20:48:37.900493Z",
     "iopub.status.busy": "2024-02-01T20:48:37.899809Z",
     "iopub.status.idle": "2024-02-01T20:48:37.906302Z",
     "shell.execute_reply": "2024-02-01T20:48:37.905407Z",
     "shell.execute_reply.started": "2024-02-01T20:48:37.900462Z"
    },
    "jupyter": {
     "outputs_hidden": false
    }
   },
   "outputs": [
    {
     "data": {
      "text/plain": [
       "(946744, 757395, 94674, 94675)"
      ]
     },
     "execution_count": 32,
     "metadata": {},
     "output_type": "execute_result"
    }
   ],
   "source": [
    "len(full_dataset), len(train_dataset), len(val_dataset), len(test_dataset)"
   ]
  },
  {
   "cell_type": "code",
   "execution_count": 33,
   "metadata": {
    "_cell_guid": "6b9dc13f-3050-4e36-9287-6ef336a8e588",
    "_uuid": "ba8cf08e-e042-4e47-9ce5-d0ef56a115ff",
    "execution": {
     "iopub.execute_input": "2024-02-01T20:49:03.256867Z",
     "iopub.status.busy": "2024-02-01T20:49:03.256235Z",
     "iopub.status.idle": "2024-02-01T20:49:03.264238Z",
     "shell.execute_reply": "2024-02-01T20:49:03.263516Z",
     "shell.execute_reply.started": "2024-02-01T20:49:03.256835Z"
    },
    "jupyter": {
     "outputs_hidden": false
    }
   },
   "outputs": [],
   "source": [
    "assert len(full_dataset) == len(train_dataset) + len(val_dataset) + len(test_dataset)"
   ]
  },
  {
   "cell_type": "code",
   "execution_count": 34,
   "metadata": {
    "_cell_guid": "c8097cd4-3da7-4b32-b2d0-38d480ec3a64",
    "_uuid": "5066f3e2-a2cd-4cbc-a87d-7740aa005254",
    "jupyter": {
     "outputs_hidden": false
    }
   },
   "outputs": [],
   "source": [
    "train_targets = pd.Series([label for _, label in train_dataset])\n",
    "val_targets   = pd.Series([label for _, label in val_dataset])\n",
    "test_targets  = pd.Series([label for _, label in test_dataset])"
   ]
  },
  {
   "cell_type": "markdown",
   "metadata": {
    "_cell_guid": "d93166f6-526b-4fca-8e19-1b7e25ccf353",
    "_uuid": "a823b1f1-6609-41ac-896d-f5378c6b4d59"
   },
   "source": [
    "#### Visualiize distribution of targets"
   ]
  },
  {
   "cell_type": "code",
   "execution_count": 35,
   "metadata": {
    "_cell_guid": "35830d2e-0f07-405d-b8e0-7fc6d0282856",
    "_uuid": "79a0f8e1-81e3-4bab-9c23-65ea59953ce9",
    "jupyter": {
     "outputs_hidden": false
    }
   },
   "outputs": [
    {
     "data": {
      "image/png": "[encoded data removed]",
      "text/plain": [
       "<Figure size 700x400 with 1 Axes>"
      ]
     },
     "metadata": {},
     "output_type": "display_data"
    }
   ],
   "source": [
    "target_distribution(train_targets,\n",
    "                    val_targets,\n",
    "                    test_targets,\n",
    "                    num_classes=4)"
   ]
  },
  {
   "cell_type": "code",
   "execution_count": 36,
   "metadata": {
    "_cell_guid": "48f2cfa4-d110-4ebc-9bf0-5bf4af9a1022",
    "_uuid": "c6cbf256-e359-4a79-8666-d597c161f48d",
    "jupyter": {
     "outputs_hidden": false
    }
   },
   "outputs": [
    {
     "data": {
      "image/png": "[encoded data removed]",
      "text/plain": [
       "<Figure size 700x400 with 1 Axes>"
      ]
     },
     "metadata": {},
     "output_type": "display_data"
    }
   ],
   "source": [
    "target_distribution(train_targets,\n",
    "                    val_targets,\n",
    "                    test_targets,\n",
    "                    num_classes=3)"
   ]
  },
  {
   "cell_type": "markdown",
   "metadata": {
    "_cell_guid": "b33320a6-d790-49c3-9888-9e4c8bdef3d8",
    "_uuid": "f03a1de0-5a1b-4941-bdcc-2be872f889da"
   },
   "source": [
    "#### Save datasets into `pickle` files"
   ]
  },
  {
   "cell_type": "code",
   "execution_count": 37,
   "metadata": {
    "_cell_guid": "a1ed7c35-2d45-4ac2-881c-12bf43d30610",
    "_uuid": "49bb82d9-d253-4921-bb40-0bac9ba9307a",
    "execution": {
     "iopub.execute_input": "2024-02-01T20:49:13.956328Z",
     "iopub.status.busy": "2024-02-01T20:49:13.955636Z",
     "iopub.status.idle": "2024-02-01T20:49:13.961200Z",
     "shell.execute_reply": "2024-02-01T20:49:13.960240Z",
     "shell.execute_reply.started": "2024-02-01T20:49:13.956296Z"
    },
    "jupyter": {
     "outputs_hidden": false
    }
   },
   "outputs": [],
   "source": [
    "def store_dataset(file_name, dataset):\n",
    "    with open(f'{path}/{file_name}.pickle', 'wb') as output:\n",
    "        pickle.dump(dataset, output)\n",
    "    return f'Dataset was stored at \"{path}/{file_name}.pickle\"'"
   ]
  },
  {
   "cell_type": "code",
   "execution_count": 38,
   "metadata": {
    "_cell_guid": "9f286dd1-5190-4e9d-9ed7-72d1bbbcf28c",
    "_uuid": "81499e95-9e19-4532-8346-2c1b29e7545c",
    "execution": {
     "iopub.execute_input": "2024-02-01T20:49:25.298970Z",
     "iopub.status.busy": "2024-02-01T20:49:25.298299Z",
     "iopub.status.idle": "2024-02-01T20:49:25.731924Z",
     "shell.execute_reply": "2024-02-01T20:49:25.730906Z",
     "shell.execute_reply.started": "2024-02-01T20:49:25.298937Z"
    },
    "jupyter": {
     "outputs_hidden": false
    }
   },
   "outputs": [],
   "source": [
    "import pickle\n",
    "import time\n",
    "\n",
    "train_path = f'{path}\\train_dataset.pickle'\n",
    "\n",
    "if not os.path.exists(path):\n",
    "    \n",
    "    for name, data in dataset.items():\n",
    "        name = name + '_dataset' \n",
    "        log = store_dataset(name, data)\n",
    "        print(log)   "
   ]
  },
  {
   "cell_type": "markdown",
   "metadata": {
    "_cell_guid": "01349788-f95a-43ad-a172-6a25fb6975ea",
    "_uuid": "b843bb1f-dc65-472c-bdf1-60b2e893fdd8"
   },
   "source": [
    "#### Restore dataset from `pickle`"
   ]
  },
  {
   "cell_type": "code",
   "execution_count": 39,
   "metadata": {
    "_cell_guid": "ab487ef3-d32c-47c0-9d85-ce915283f262",
    "_uuid": "dfd63378-e916-4a17-bda3-539ebb91a7cb",
    "execution": {
     "iopub.execute_input": "2024-02-05T14:22:23.809723Z",
     "iopub.status.busy": "2024-02-05T14:22:23.809062Z",
     "iopub.status.idle": "2024-02-05T14:22:26.614139Z",
     "shell.execute_reply": "2024-02-05T14:22:26.613373Z",
     "shell.execute_reply.started": "2024-02-05T14:22:23.809691Z"
    },
    "jupyter": {
     "outputs_hidden": false
    }
   },
   "outputs": [],
   "source": [
    "import pickle\n",
    "\n",
    "if os.path.exists(path):\n",
    "\n",
    "    dataset_name = ['train', 'val', 'test']\n",
    "    dataset = dict()\n",
    "\n",
    "    for name in dataset_name:\n",
    "        with open(f'{path}/{name}_dataset.pickle', 'rb') as data:\n",
    "            dataset[name] = pickle.load(data)"
   ]
  },
  {
   "cell_type": "code",
   "execution_count": 40,
   "metadata": {
    "_cell_guid": "7e77e052-7383-48e3-8ecc-ad07e18d8a4b",
    "_uuid": "0f2d7587-726d-499f-8e4c-8f3a0d4a1424",
    "execution": {
     "iopub.execute_input": "2024-02-05T14:22:27.701795Z",
     "iopub.status.busy": "2024-02-05T14:22:27.701439Z",
     "iopub.status.idle": "2024-02-05T14:22:27.708514Z",
     "shell.execute_reply": "2024-02-05T14:22:27.707610Z",
     "shell.execute_reply.started": "2024-02-05T14:22:27.701766Z"
    },
    "jupyter": {
     "outputs_hidden": false
    }
   },
   "outputs": [
    {
     "data": {
      "text/plain": [
       "{'train': <torch.utils.data.dataset.Subset at 0x2affa1d6788>,\n",
       " 'val': <torch.utils.data.dataset.Subset at 0x2affa1d0588>,\n",
       " 'test': <torch.utils.data.dataset.Subset at 0x2affa1d67c8>}"
      ]
     },
     "execution_count": 40,
     "metadata": {},
     "output_type": "execute_result"
    }
   ],
   "source": [
    "dataset"
   ]
  },
  {
   "cell_type": "code",
   "execution_count": 41,
   "metadata": {
    "_cell_guid": "ddd9b831-5b55-4c81-bef0-107f3bcf7785",
    "_uuid": "d4a146b1-0355-432c-983c-2e983b88becb",
    "execution": {
     "iopub.execute_input": "2024-02-05T14:22:45.921697Z",
     "iopub.status.busy": "2024-02-05T14:22:45.921336Z",
     "iopub.status.idle": "2024-02-05T14:22:45.926235Z",
     "shell.execute_reply": "2024-02-05T14:22:45.925139Z",
     "shell.execute_reply.started": "2024-02-05T14:22:45.921670Z"
    },
    "jupyter": {
     "outputs_hidden": false
    }
   },
   "outputs": [],
   "source": [
    "train_dataset, val_dataset, test_dataset = \\\n",
    "dataset['train'], dataset['val'], dataset['test']"
   ]
  },
  {
   "cell_type": "markdown",
   "metadata": {
    "_cell_guid": "f9b8e0a0-aff5-423a-b934-1d281e5e017b",
    "_uuid": "3ab4bd45-9009-4bf4-abf5-e9f240e0155d"
   },
   "source": [
    "# Create dataloaders"
   ]
  },
  {
   "cell_type": "code",
   "execution_count": 42,
   "metadata": {
    "_cell_guid": "04ceb9e4-031b-47be-a862-737f068471f4",
    "_uuid": "3ad9edb6-efc6-4b26-afe1-1fe3664b7319",
    "execution": {
     "iopub.execute_input": "2024-02-05T14:22:48.146895Z",
     "iopub.status.busy": "2024-02-05T14:22:48.146243Z",
     "iopub.status.idle": "2024-02-05T14:22:48.151964Z",
     "shell.execute_reply": "2024-02-05T14:22:48.150864Z",
     "shell.execute_reply.started": "2024-02-05T14:22:48.146857Z"
    },
    "jupyter": {
     "outputs_hidden": false
    }
   },
   "outputs": [],
   "source": [
    "from torch.utils.data import DataLoader\n",
    "import torch\n",
    "import os\n",
    "from torch import nn\n",
    "import time\n",
    "import random\n"
   ]
  },
  {
   "cell_type": "code",
   "execution_count": 43,
   "metadata": {
    "_cell_guid": "7d113cae-51c1-4a05-b817-455ae015378a",
    "_uuid": "912dec4a-f678-4783-98c8-6644a4a51f1f",
    "execution": {
     "iopub.execute_input": "2024-02-05T14:22:48.838389Z",
     "iopub.status.busy": "2024-02-05T14:22:48.837443Z",
     "iopub.status.idle": "2024-02-05T14:22:48.842762Z",
     "shell.execute_reply": "2024-02-05T14:22:48.841737Z",
     "shell.execute_reply.started": "2024-02-05T14:22:48.838353Z"
    },
    "jupyter": {
     "outputs_hidden": false
    }
   },
   "outputs": [],
   "source": [
    "batch_size = 32"
   ]
  },
  {
   "cell_type": "markdown",
   "metadata": {
    "_cell_guid": "f262e4b3-686a-4192-bca8-edc02a5841a8",
    "_uuid": "d9dc0b2e-84c0-43ee-9069-60b5a272e56e"
   },
   "source": [
    "#### Create the DataLoaders for our training, validation and test sets."
   ]
  },
  {
   "cell_type": "code",
   "execution_count": 44,
   "metadata": {
    "_cell_guid": "221f98c4-0767-41c6-917f-f0856183bba1",
    "_uuid": "16a3361d-c1b3-46eb-8e8d-cdf02cfa2898",
    "execution": {
     "iopub.execute_input": "2024-02-05T14:22:50.789440Z",
     "iopub.status.busy": "2024-02-05T14:22:50.788809Z",
     "iopub.status.idle": "2024-02-05T14:22:50.814251Z",
     "shell.execute_reply": "2024-02-05T14:22:50.813355Z",
     "shell.execute_reply.started": "2024-02-05T14:22:50.789409Z"
    },
    "jupyter": {
     "outputs_hidden": false
    }
   },
   "outputs": [],
   "source": [
    "seed_everything(SEED)\n",
    "\n",
    "train_dataloader = DataLoader(\n",
    "            train_dataset,  # The training samples.\n",
    "            batch_size = batch_size, # Trains with this batch size.\n",
    "            shuffle=True)\n",
    "\n",
    "val_dataloader = DataLoader(\n",
    "            val_dataset, # The validation samples.\n",
    "            batch_size = batch_size, # Evaluate with this batch size.\n",
    "            shuffle=True)\n",
    "\n",
    "test_dataloader = DataLoader(\n",
    "            test_dataset, # The test samples.\n",
    "            batch_size=batch_size,\n",
    "            shuffle=True)"
   ]
  },
  {
   "cell_type": "code",
   "execution_count": 45,
   "metadata": {
    "_cell_guid": "032f3680-704a-45e5-bf62-c8adf8193882",
    "_uuid": "50878ca9-c65c-467c-97ea-3a25c8608b8e",
    "execution": {
     "iopub.execute_input": "2024-02-05T14:22:52.582359Z",
     "iopub.status.busy": "2024-02-05T14:22:52.582034Z",
     "iopub.status.idle": "2024-02-05T14:22:52.588366Z",
     "shell.execute_reply": "2024-02-05T14:22:52.587252Z",
     "shell.execute_reply.started": "2024-02-05T14:22:52.582328Z"
    },
    "jupyter": {
     "outputs_hidden": false
    }
   },
   "outputs": [
    {
     "data": {
      "text/plain": [
       "757395"
      ]
     },
     "execution_count": 45,
     "metadata": {},
     "output_type": "execute_result"
    }
   ],
   "source": [
    "len(train_dataset)"
   ]
  },
  {
   "cell_type": "code",
   "execution_count": 46,
   "metadata": {
    "_cell_guid": "463e68d4-3132-499b-8ac1-6d0d4f8384cf",
    "_uuid": "0c1c7e3a-3dce-45ef-8193-137cc05d6ac3",
    "execution": {
     "iopub.execute_input": "2024-02-05T14:22:53.781925Z",
     "iopub.status.busy": "2024-02-05T14:22:53.780994Z",
     "iopub.status.idle": "2024-02-05T14:22:53.787617Z",
     "shell.execute_reply": "2024-02-05T14:22:53.786629Z",
     "shell.execute_reply.started": "2024-02-05T14:22:53.781890Z"
    },
    "jupyter": {
     "outputs_hidden": false
    }
   },
   "outputs": [
    {
     "data": {
      "text/plain": [
       "757408"
      ]
     },
     "execution_count": 46,
     "metadata": {},
     "output_type": "execute_result"
    }
   ],
   "source": [
    "len(train_dataloader) * batch_size"
   ]
  },
  {
   "cell_type": "markdown",
   "metadata": {
    "_cell_guid": "b9e7f832-0104-488f-96c4-c1434d6835a2",
    "_uuid": "f8df52c0-dcd1-42d5-a450-c5235d42d180"
   },
   "source": [
    "Let us create a dictionary `dataloaders`, this will make usage of  `train_dataloader`, `validation_dataloader` and `test_dataloader` more convenient."
   ]
  },
  {
   "cell_type": "code",
   "execution_count": 47,
   "metadata": {
    "_cell_guid": "d8e145e8-5440-45ac-9582-c595d7f0a7ed",
    "_uuid": "032f4430-592b-4023-a5de-16b15cbde12d",
    "execution": {
     "iopub.execute_input": "2024-02-05T14:22:55.333379Z",
     "iopub.status.busy": "2024-02-05T14:22:55.332982Z",
     "iopub.status.idle": "2024-02-05T14:22:55.339819Z",
     "shell.execute_reply": "2024-02-05T14:22:55.338934Z",
     "shell.execute_reply.started": "2024-02-05T14:22:55.333349Z"
    },
    "jupyter": {
     "outputs_hidden": false
    }
   },
   "outputs": [
    {
     "data": {
      "text/plain": [
       "{'Train': <torch.utils.data.dataloader.DataLoader at 0x2affa1d6548>,\n",
       " 'Valid': <torch.utils.data.dataloader.DataLoader at 0x2af85de5d48>,\n",
       " 'Test': <torch.utils.data.dataloader.DataLoader at 0x2af85de5948>}"
      ]
     },
     "execution_count": 47,
     "metadata": {},
     "output_type": "execute_result"
    }
   ],
   "source": [
    "dataloaders = {\n",
    "    'Train': train_dataloader,\n",
    "    'Valid': val_dataloader,\n",
    "    'Test': test_dataloader\n",
    "}\n",
    "dataloaders"
   ]
  },
  {
   "cell_type": "code",
   "execution_count": 48,
   "metadata": {
    "_cell_guid": "01654191-99f0-4d18-8152-10560999018a",
    "_uuid": "4a5bde9f-b332-445c-b6ce-8395b8b3fc23",
    "execution": {
     "iopub.execute_input": "2024-02-05T14:22:57.341270Z",
     "iopub.status.busy": "2024-02-05T14:22:57.340948Z",
     "iopub.status.idle": "2024-02-05T14:22:57.347650Z",
     "shell.execute_reply": "2024-02-05T14:22:57.346798Z",
     "shell.execute_reply.started": "2024-02-05T14:22:57.341247Z"
    },
    "jupyter": {
     "outputs_hidden": false
    }
   },
   "outputs": [
    {
     "data": {
      "text/plain": [
       "{'Train': 757395, 'Valid': 94674, 'Test': 94675}"
      ]
     },
     "execution_count": 48,
     "metadata": {},
     "output_type": "execute_result"
    }
   ],
   "source": [
    "dataset_sizes = {\n",
    "    'Train': len(train_dataloader.dataset),\n",
    "    'Valid': len(val_dataloader.dataset),\n",
    "    'Test': len(test_dataloader.dataset)\n",
    "}\n",
    "dataset_sizes"
   ]
  },
  {
   "cell_type": "markdown",
   "metadata": {
    "_cell_guid": "aedddb76-1fd7-410c-b073-926a299b53f8",
    "_uuid": "765afe0c-a55c-4632-a8df-6ac908d31579"
   },
   "source": [
    "# Models"
   ]
  },
  {
   "cell_type": "markdown",
   "metadata": {
    "_cell_guid": "f05e4040-83b6-4b92-a51d-42c764b26e9b",
    "_uuid": "2bece33b-4c24-4d18-a5d9-2708012ffaf4"
   },
   "source": [
    "## 1. Multilayer Perceptron Model (MLP)"
   ]
  },
  {
   "cell_type": "code",
   "execution_count": 49,
   "metadata": {
    "_cell_guid": "267ac335-dddc-4fef-995c-21e37b91129e",
    "_uuid": "63e214a1-9a1a-4337-a227-7b69f766fbd4",
    "execution": {
     "iopub.execute_input": "2024-02-05T14:23:02.729797Z",
     "iopub.status.busy": "2024-02-05T14:23:02.728957Z",
     "iopub.status.idle": "2024-02-05T14:23:03.246350Z",
     "shell.execute_reply": "2024-02-05T14:23:03.245509Z",
     "shell.execute_reply.started": "2024-02-05T14:23:02.729765Z"
    },
    "jupyter": {
     "outputs_hidden": false
    }
   },
   "outputs": [],
   "source": [
    "from torch.optim import Adam, NAdam, lr_scheduler\n",
    "from sklearn.metrics import f1_score, cohen_kappa_score, balanced_accuracy_score\n",
    "import torch.nn.functional as F"
   ]
  },
  {
   "cell_type": "code",
   "execution_count": 50,
   "metadata": {
    "_cell_guid": "dbd9395b-630d-4f87-8bdc-77b817fc3438",
    "_uuid": "a1bbd0b3-ef82-46d0-a205-693a7b02ccfd",
    "execution": {
     "iopub.execute_input": "2024-02-05T14:23:03.725878Z",
     "iopub.status.busy": "2024-02-05T14:23:03.724937Z",
     "iopub.status.idle": "2024-02-05T14:23:03.731740Z",
     "shell.execute_reply": "2024-02-05T14:23:03.730905Z",
     "shell.execute_reply.started": "2024-02-05T14:23:03.725848Z"
    },
    "jupyter": {
     "outputs_hidden": false
    }
   },
   "outputs": [
    {
     "data": {
      "text/plain": [
       "(32, 5)"
      ]
     },
     "execution_count": 50,
     "metadata": {},
     "output_type": "execute_result"
    }
   ],
   "source": [
    "n_out = 4                 # number of targets\n",
    "train_dataset[0][0].shape # in_features"
   ]
  },
  {
   "cell_type": "code",
   "execution_count": 51,
   "metadata": {
    "execution": {
     "iopub.execute_input": "2024-02-05T14:23:05.345176Z",
     "iopub.status.busy": "2024-02-05T14:23:05.344449Z",
     "iopub.status.idle": "2024-02-05T14:23:05.349075Z",
     "shell.execute_reply": "2024-02-05T14:23:05.348131Z",
     "shell.execute_reply.started": "2024-02-05T14:23:05.345139Z"
    }
   },
   "outputs": [],
   "source": [
    "window_size = 32\n",
    "step = 1"
   ]
  },
  {
   "cell_type": "code",
   "execution_count": 52,
   "metadata": {
    "_cell_guid": "375e74db-111c-4fbc-ab38-36ba330acf94",
    "_uuid": "8d4fb25d-4b37-44be-a40e-00f581c26647",
    "execution": {
     "iopub.execute_input": "2024-02-01T21:28:54.132575Z",
     "iopub.status.busy": "2024-02-01T21:28:54.132252Z",
     "iopub.status.idle": "2024-02-01T21:28:54.138431Z",
     "shell.execute_reply": "2024-02-01T21:28:54.137404Z",
     "shell.execute_reply.started": "2024-02-01T21:28:54.132550Z"
    },
    "jupyter": {
     "outputs_hidden": false
    }
   },
   "outputs": [],
   "source": [
    "class MLP(nn.Module):\n",
    "    def __init__(self, window_size: int=window_size):\n",
    "        super(MLP, self).__init__()\n",
    "        self.layers = nn.Sequential(\n",
    "            nn.Flatten(),\n",
    "            nn.Linear(5 * window_size, 1024),\n",
    "            nn.ReLU(),\n",
    "            nn.Linear(1024, 4))\n",
    "    def forward(self, x):\n",
    "        return self.layers(x)"
   ]
  },
  {
   "cell_type": "markdown",
   "metadata": {
    "_cell_guid": "dc98cc4e-93b9-4776-87ec-d5711673e3e7",
    "_uuid": "165e2f21-908f-442f-ad19-b56ff20b7a04"
   },
   "source": [
    "## 2. CNN"
   ]
  },
  {
   "cell_type": "code",
   "execution_count": 53,
   "metadata": {
    "_cell_guid": "bb0978b2-0242-4eff-b572-4edf30da8aa2",
    "_uuid": "8e6ac985-3bbe-4ef1-8fcc-da5aebc552b4",
    "execution": {
     "iopub.execute_input": "2024-02-01T21:28:55.548673Z",
     "iopub.status.busy": "2024-02-01T21:28:55.547851Z",
     "iopub.status.idle": "2024-02-01T21:28:55.556886Z",
     "shell.execute_reply": "2024-02-01T21:28:55.555982Z",
     "shell.execute_reply.started": "2024-02-01T21:28:55.548643Z"
    },
    "jupyter": {
     "outputs_hidden": false
    }
   },
   "outputs": [],
   "source": [
    "class CNN(nn.Module):    \n",
    "    def __init__(self, batch_size=32, window_size=32, features_size=5):        \n",
    "        super(CNN, self).__init__()\n",
    "        self.batch_size = batch_size\n",
    "        self.window_size = window_size\n",
    "        self.features_size = features_size \n",
    "        self.conv1 = nn.Conv1d(features_size, features_size * 4, 2, 2, groups=5)        \n",
    "        self.pool1 = nn.MaxPool1d(2, 2)\n",
    "        self.conv2 = nn.Conv1d(features_size * 4, features_size * 16, 2, 2, groups=20)       \n",
    "        self.pool2 = nn.MaxPool1d(2, 2)\n",
    "        self.fc1 = nn.Linear(160, 80)\n",
    "        self.fc2 = nn.Linear(80, 4)\n",
    "        \n",
    "    def forward(self, x):\n",
    "        self.bach_size = x.shape[0]\n",
    "        x = self.pool1(F.relu(self.conv1(x)))\n",
    "        x = self.pool2(F.relu(self.conv2(x)))\n",
    "        x = x.reshape(self.bach_size, 160)\n",
    "        x = F.relu(self.fc1(x))\n",
    "        x = self.fc2(x)        \n",
    "        return x"
   ]
  },
  {
   "cell_type": "markdown",
   "metadata": {
    "_cell_guid": "0205291d-85bd-494a-a40d-2cb4ba5cc654",
    "_uuid": "4239b3af-8638-4841-a12a-e7f90d29cd3b"
   },
   "source": [
    "## 3. GRU"
   ]
  },
  {
   "cell_type": "code",
   "execution_count": 54,
   "metadata": {
    "_cell_guid": "b5f4ef4e-15d9-4b44-8f41-6dc3d64b986f",
    "_uuid": "091d82cc-06c7-4809-ac17-a1b14b99103f",
    "execution": {
     "iopub.execute_input": "2024-02-01T21:28:57.614423Z",
     "iopub.status.busy": "2024-02-01T21:28:57.614131Z",
     "iopub.status.idle": "2024-02-01T21:28:57.621978Z",
     "shell.execute_reply": "2024-02-01T21:28:57.621061Z",
     "shell.execute_reply.started": "2024-02-01T21:28:57.614400Z"
    },
    "jupyter": {
     "outputs_hidden": false
    }
   },
   "outputs": [],
   "source": [
    "class GRU(nn.Module):    \n",
    "    def __init__(self, num_sensors=32, num_states=4, hidden_dim=128, num_layers=2, dropout=0.4):\n",
    "        super().__init__()\n",
    "        self.gru = nn.GRU(num_sensors, hidden_dim, num_layers, batch_first=True)\n",
    "        self.linear1 = nn.Linear(hidden_dim*num_layers, hidden_dim)\n",
    "        self.dropout = nn.Dropout(dropout)\n",
    "        self.linear2 = nn.Linear(hidden_dim, num_states)\n",
    "        self.dropout = nn.Dropout(dropout)\n",
    "\n",
    "    def forward(self, x):\n",
    "        h = self.gru(x)[1].permute(1, 0, 2)\n",
    "        h = h.reshape(h.size(0), -1)\n",
    "        linear_out = self.linear1(h)\n",
    "        linear_out = torch.relu(linear_out)\n",
    "        linear_out = self.dropout(linear_out)\n",
    "        out = self.linear2(linear_out)\n",
    "        return out"
   ]
  },
  {
   "cell_type": "markdown",
   "metadata": {
    "_cell_guid": "5b9c30f1-d613-4375-9102-cc1aa0eb9cef",
    "_uuid": "809bc590-6f38-4a37-b49d-bfe68e84c275"
   },
   "source": [
    "# Preparation for training the models"
   ]
  },
  {
   "cell_type": "markdown",
   "metadata": {
    "_cell_guid": "6689a1c8-13f9-4478-af47-ea130eaab697",
    "_uuid": "5a05e2aa-23e6-4193-8181-ca5b6e1cb4a5"
   },
   "source": [
    "Check the potential ability to use GPU for model training."
   ]
  },
  {
   "cell_type": "code",
   "execution_count": 18,
   "metadata": {
    "_cell_guid": "bac713e6-5871-4a58-8e00-5c19731c6554",
    "_uuid": "1d52008b-1b80-4c8a-919d-b0ed800b7cad",
    "execution": {
     "iopub.execute_input": "2024-02-05T14:23:20.081706Z",
     "iopub.status.busy": "2024-02-05T14:23:20.081319Z",
     "iopub.status.idle": "2024-02-05T14:23:20.142351Z",
     "shell.execute_reply": "2024-02-05T14:23:20.141348Z",
     "shell.execute_reply.started": "2024-02-05T14:23:20.081676Z"
    },
    "jupyter": {
     "outputs_hidden": false
    }
   },
   "outputs": [
    {
     "data": {
      "text/plain": [
       "'cuda'"
      ]
     },
     "execution_count": 18,
     "metadata": {},
     "output_type": "execute_result"
    }
   ],
   "source": [
    "device = torch.device('cuda:0' if torch.cuda.is_available() else 'cpu')\n",
    "device.type"
   ]
  },
  {
   "cell_type": "markdown",
   "metadata": {},
   "source": [
    "# Training models:\n",
    "### 5 times to average metrics obtained on test data\n",
    "### 6 epochs for each training process"
   ]
  },
  {
   "cell_type": "markdown",
   "metadata": {},
   "source": [
    "# MLP"
   ]
  },
  {
   "cell_type": "code",
   "execution_count": 34,
   "metadata": {
    "execution": {
     "iopub.execute_input": "2024-02-01T21:48:53.133936Z",
     "iopub.status.busy": "2024-02-01T21:48:53.133009Z",
     "iopub.status.idle": "2024-02-01T22:15:57.094894Z",
     "shell.execute_reply": "2024-02-01T22:15:57.093948Z",
     "shell.execute_reply.started": "2024-02-01T21:48:53.133893Z"
    }
   },
   "outputs": [
    {
     "data": {
      "application/vnd.jupyter.widget-view+json": {
       "model_id": "7b372d6514d040f4863d7e6ad7eaa896",
       "version_major": 2,
       "version_minor": 0
      },
      "text/plain": [
       "Trainings for MLP:   0%|          | 0/5 [00:00<?, ?it/s]"
      ]
     },
     "metadata": {},
     "output_type": "display_data"
    },
    {
     "name": "stdout",
     "output_type": "stream",
     "text": [
      "Model MLP training 1\n",
      "Epoch 1/6\n"
     ]
    },
    {
     "data": {
      "application/vnd.jupyter.widget-view+json": {
       "model_id": "9e5c5aed7c8c4306ae76c042b332eba9",
       "version_major": 2,
       "version_minor": 0
      },
      "text/plain": [
       "E1 Train\t:   0%|          | 0/23669 [00:00<?, ?it/s]"
      ]
     },
     "metadata": {},
     "output_type": "display_data"
    },
    {
     "name": "stdout",
     "output_type": "stream",
     "text": [
      "Train average CE loss: 0.1136\n",
      "\n"
     ]
    },
    {
     "data": {
      "application/vnd.jupyter.widget-view+json": {
       "model_id": "30aa311a9514470da3b78873e945254e",
       "version_major": 2,
       "version_minor": 0
      },
      "text/plain": [
       "E1 Valid\t:   0%|          | 0/2959 [00:00<?, ?it/s]"
      ]
     },
     "metadata": {},
     "output_type": "display_data"
    },
    {
     "name": "stdout",
     "output_type": "stream",
     "text": [
      "Valid average CE loss: 0.0929\n",
      "Learning rate = 0.001 \n",
      "\n",
      "Metrics:\n",
      "\t- b_acc = 0.657\n",
      "\t- kappa = 0.706\n",
      "\t- F1-sc = [0.99  0.548 0.908 0.462]\n",
      "------------------------------\n",
      "\n",
      "Epoch 2/6\n"
     ]
    },
    {
     "data": {
      "application/vnd.jupyter.widget-view+json": {
       "model_id": "330f573100e44b9bb54143ec4001ba89",
       "version_major": 2,
       "version_minor": 0
      },
      "text/plain": [
       "E2 Train\t:   0%|          | 0/23669 [00:00<?, ?it/s]"
      ]
     },
     "metadata": {},
     "output_type": "display_data"
    },
    {
     "name": "stdout",
     "output_type": "stream",
     "text": [
      "Train average CE loss: 0.0952\n",
      "\n"
     ]
    },
    {
     "data": {
      "application/vnd.jupyter.widget-view+json": {
       "model_id": "e33832b5ac6c464c8a59d9a4d284063f",
       "version_major": 2,
       "version_minor": 0
      },
      "text/plain": [
       "E2 Valid\t:   0%|          | 0/2959 [00:00<?, ?it/s]"
      ]
     },
     "metadata": {},
     "output_type": "display_data"
    },
    {
     "name": "stdout",
     "output_type": "stream",
     "text": [
      "Valid average CE loss: 0.0934\n",
      "Learning rate = 0.001 \n",
      "\n",
      "Metrics:\n",
      "\t- b_acc = 0.724\n",
      "\t- kappa = 0.734\n",
      "\t- F1-sc = [0.99  0.59  0.933 0.586]\n",
      "------------------------------\n",
      "\n",
      "Epoch 3/6\n"
     ]
    },
    {
     "data": {
      "application/vnd.jupyter.widget-view+json": {
       "model_id": "7ef002a390b14d6f82bbe6056169b424",
       "version_major": 2,
       "version_minor": 0
      },
      "text/plain": [
       "E3 Train\t:   0%|          | 0/23669 [00:00<?, ?it/s]"
      ]
     },
     "metadata": {},
     "output_type": "display_data"
    },
    {
     "name": "stdout",
     "output_type": "stream",
     "text": [
      "Train average CE loss: 0.0873\n",
      "\n"
     ]
    },
    {
     "data": {
      "application/vnd.jupyter.widget-view+json": {
       "model_id": "ac25fa37e2944d9e804414a347ec84b8",
       "version_major": 2,
       "version_minor": 0
      },
      "text/plain": [
       "E3 Valid\t:   0%|          | 0/2959 [00:00<?, ?it/s]"
      ]
     },
     "metadata": {},
     "output_type": "display_data"
    },
    {
     "name": "stdout",
     "output_type": "stream",
     "text": [
      "Valid average CE loss: 0.0909\n",
      "Learning rate = 0.001 \n",
      "\n",
      "Metrics:\n",
      "\t- b_acc = 0.707\n",
      "\t- kappa = 0.753\n",
      "\t- F1-sc = [0.991 0.618 0.94  0.577]\n",
      "------------------------------\n",
      "\n",
      "Epoch 4/6\n"
     ]
    },
    {
     "data": {
      "application/vnd.jupyter.widget-view+json": {
       "model_id": "ba025653d2d843e0b82a766081c654b6",
       "version_major": 2,
       "version_minor": 0
      },
      "text/plain": [
       "E4 Train\t:   0%|          | 0/23669 [00:00<?, ?it/s]"
      ]
     },
     "metadata": {},
     "output_type": "display_data"
    },
    {
     "name": "stdout",
     "output_type": "stream",
     "text": [
      "Train average CE loss: 0.0847\n",
      "\n"
     ]
    },
    {
     "data": {
      "application/vnd.jupyter.widget-view+json": {
       "model_id": "84f8109ec3c148bd915022f9f6de1297",
       "version_major": 2,
       "version_minor": 0
      },
      "text/plain": [
       "E4 Valid\t:   0%|          | 0/2959 [00:00<?, ?it/s]"
      ]
     },
     "metadata": {},
     "output_type": "display_data"
    },
    {
     "name": "stdout",
     "output_type": "stream",
     "text": [
      "Valid average CE loss: 0.0792\n",
      "Learning rate = 0.001 \n",
      "\n",
      "Metrics:\n",
      "\t- b_acc = 0.711\n",
      "\t- kappa = 0.75\n",
      "\t- F1-sc = [0.991 0.597 0.947 0.583]\n",
      "------------------------------\n",
      "\n",
      "Epoch 5/6\n"
     ]
    },
    {
     "data": {
      "application/vnd.jupyter.widget-view+json": {
       "model_id": "b0eca84c31a1457a8a1a11d93b9b6352",
       "version_major": 2,
       "version_minor": 0
      },
      "text/plain": [
       "E5 Train\t:   0%|          | 0/23669 [00:00<?, ?it/s]"
      ]
     },
     "metadata": {},
     "output_type": "display_data"
    },
    {
     "name": "stdout",
     "output_type": "stream",
     "text": [
      "Train average CE loss: 0.0695\n",
      "\n"
     ]
    },
    {
     "data": {
      "application/vnd.jupyter.widget-view+json": {
       "model_id": "b3a9e25d782749af90d4aeb65f11cdaf",
       "version_major": 2,
       "version_minor": 0
      },
      "text/plain": [
       "E5 Valid\t:   0%|          | 0/2959 [00:00<?, ?it/s]"
      ]
     },
     "metadata": {},
     "output_type": "display_data"
    },
    {
     "name": "stdout",
     "output_type": "stream",
     "text": [
      "Valid average CE loss: 0.0801\n",
      "Learning rate = 0.0005 \n",
      "\n",
      "Metrics:\n",
      "\t- b_acc = 0.778\n",
      "\t- kappa = 0.774\n",
      "\t- F1-sc = [0.991 0.626 0.964 0.759]\n",
      "------------------------------\n",
      "\n",
      "Epoch 6/6\n"
     ]
    },
    {
     "data": {
      "application/vnd.jupyter.widget-view+json": {
       "model_id": "4e1d458dfb8942d39e81e17eef81fab6",
       "version_major": 2,
       "version_minor": 0
      },
      "text/plain": [
       "E6 Train\t:   0%|          | 0/23669 [00:00<?, ?it/s]"
      ]
     },
     "metadata": {},
     "output_type": "display_data"
    },
    {
     "name": "stdout",
     "output_type": "stream",
     "text": [
      "Train average CE loss: 0.0672\n",
      "\n"
     ]
    },
    {
     "data": {
      "application/vnd.jupyter.widget-view+json": {
       "model_id": "651ecbb925b84ba9ae3b13894e785471",
       "version_major": 2,
       "version_minor": 0
      },
      "text/plain": [
       "E6 Valid\t:   0%|          | 0/2959 [00:00<?, ?it/s]"
      ]
     },
     "metadata": {},
     "output_type": "display_data"
    },
    {
     "name": "stdout",
     "output_type": "stream",
     "text": [
      "Valid average CE loss: 0.0656\n",
      "Learning rate = 0.0005 \n",
      "\n",
      "Metrics:\n",
      "\t- b_acc = 0.775\n",
      "\t- kappa = 0.781\n",
      "\t- F1-sc = [0.992 0.636 0.967 0.739]\n",
      "------------------------------\n",
      "\n",
      "Training complete in 0:05:18 (hh:mm:ss)\n",
      "Best average F1-score: 0.835074 was at epoch 5\n",
      "\n",
      "Evaluate MLP model_1 on test data:\n"
     ]
    },
    {
     "data": {
      "application/vnd.jupyter.widget-view+json": {
       "model_id": "df6e495cd5d048d69a8a7a57dfe261d1",
       "version_major": 2,
       "version_minor": 0
      },
      "text/plain": [
       "  0%|          | 0/2959 [00:00<?, ?it/s]"
      ]
     },
     "metadata": {},
     "output_type": "display_data"
    },
    {
     "name": "stdout",
     "output_type": "stream",
     "text": [
      "b_acc = 0.759\n",
      "kappa = 0.76\n",
      "f1_sc = [0.991 0.61  0.96  0.733] \n",
      "\n",
      "*****************************************************************************************************************************\n",
      "\n",
      "Model MLP training 2\n",
      "Epoch 1/6\n"
     ]
    },
    {
     "data": {
      "application/vnd.jupyter.widget-view+json": {
       "model_id": "ab53d1ad104241c7be9db082a2bf182a",
       "version_major": 2,
       "version_minor": 0
      },
      "text/plain": [
       "E1 Train\t:   0%|          | 0/23669 [00:00<?, ?it/s]"
      ]
     },
     "metadata": {},
     "output_type": "display_data"
    },
    {
     "name": "stdout",
     "output_type": "stream",
     "text": [
      "Train average CE loss: 0.1141\n",
      "\n"
     ]
    },
    {
     "data": {
      "application/vnd.jupyter.widget-view+json": {
       "model_id": "7c68fd0d2c6a46e7ad99f113e568151c",
       "version_major": 2,
       "version_minor": 0
      },
      "text/plain": [
       "E1 Valid\t:   0%|          | 0/2959 [00:00<?, ?it/s]"
      ]
     },
     "metadata": {},
     "output_type": "display_data"
    },
    {
     "name": "stdout",
     "output_type": "stream",
     "text": [
      "Valid average CE loss: 0.0930\n",
      "Learning rate = 0.001 \n",
      "\n",
      "Metrics:\n",
      "\t- b_acc = 0.675\n",
      "\t- kappa = 0.727\n",
      "\t- F1-sc = [0.99  0.584 0.923 0.486]\n",
      "------------------------------\n",
      "\n",
      "Epoch 2/6\n"
     ]
    },
    {
     "data": {
      "application/vnd.jupyter.widget-view+json": {
       "model_id": "1fa3ec23a2d0458b87cae5ca1cd301db",
       "version_major": 2,
       "version_minor": 0
      },
      "text/plain": [
       "E2 Train\t:   0%|          | 0/23669 [00:00<?, ?it/s]"
      ]
     },
     "metadata": {},
     "output_type": "display_data"
    },
    {
     "name": "stdout",
     "output_type": "stream",
     "text": [
      "Train average CE loss: 0.0945\n",
      "\n"
     ]
    },
    {
     "data": {
      "application/vnd.jupyter.widget-view+json": {
       "model_id": "bdd968cbfe0d4e8abc521e99281052ac",
       "version_major": 2,
       "version_minor": 0
      },
      "text/plain": [
       "E2 Valid\t:   0%|          | 0/2959 [00:00<?, ?it/s]"
      ]
     },
     "metadata": {},
     "output_type": "display_data"
    },
    {
     "name": "stdout",
     "output_type": "stream",
     "text": [
      "Valid average CE loss: 0.0894\n",
      "Learning rate = 0.001 \n",
      "\n",
      "Metrics:\n",
      "\t- b_acc = 0.673\n",
      "\t- kappa = 0.722\n",
      "\t- F1-sc = [0.99  0.556 0.929 0.529]\n",
      "------------------------------\n",
      "\n",
      "Epoch 3/6\n"
     ]
    },
    {
     "data": {
      "application/vnd.jupyter.widget-view+json": {
       "model_id": "cc7402e6424c4f54a1fa47dc3c6f7911",
       "version_major": 2,
       "version_minor": 0
      },
      "text/plain": [
       "E3 Train\t:   0%|          | 0/23669 [00:00<?, ?it/s]"
      ]
     },
     "metadata": {},
     "output_type": "display_data"
    },
    {
     "name": "stdout",
     "output_type": "stream",
     "text": [
      "Train average CE loss: 0.0876\n",
      "\n"
     ]
    },
    {
     "data": {
      "application/vnd.jupyter.widget-view+json": {
       "model_id": "2dcfef275b6447e7beacb9c8a59b5673",
       "version_major": 2,
       "version_minor": 0
      },
      "text/plain": [
       "E3 Valid\t:   0%|          | 0/2959 [00:00<?, ?it/s]"
      ]
     },
     "metadata": {},
     "output_type": "display_data"
    },
    {
     "name": "stdout",
     "output_type": "stream",
     "text": [
      "Valid average CE loss: 0.0887\n",
      "Learning rate = 0.001 \n",
      "\n",
      "Metrics:\n",
      "\t- b_acc = 0.693\n",
      "\t- kappa = 0.73\n",
      "\t- F1-sc = [0.99  0.557 0.94  0.576]\n",
      "------------------------------\n",
      "\n",
      "Epoch 4/6\n"
     ]
    },
    {
     "data": {
      "application/vnd.jupyter.widget-view+json": {
       "model_id": "9bfbe2dc7e5b4233b708f1505be3674c",
       "version_major": 2,
       "version_minor": 0
      },
      "text/plain": [
       "E4 Train\t:   0%|          | 0/23669 [00:00<?, ?it/s]"
      ]
     },
     "metadata": {},
     "output_type": "display_data"
    },
    {
     "name": "stdout",
     "output_type": "stream",
     "text": [
      "Train average CE loss: 0.0840\n",
      "\n"
     ]
    },
    {
     "data": {
      "application/vnd.jupyter.widget-view+json": {
       "model_id": "5c27313ce89f4757b895777e9552ba4e",
       "version_major": 2,
       "version_minor": 0
      },
      "text/plain": [
       "E4 Valid\t:   0%|          | 0/2959 [00:00<?, ?it/s]"
      ]
     },
     "metadata": {},
     "output_type": "display_data"
    },
    {
     "name": "stdout",
     "output_type": "stream",
     "text": [
      "Valid average CE loss: 0.0820\n",
      "Learning rate = 0.001 \n",
      "\n",
      "Metrics:\n",
      "\t- b_acc = 0.76\n",
      "\t- kappa = 0.768\n",
      "\t- F1-sc = [0.991 0.642 0.948 0.67 ]\n",
      "------------------------------\n",
      "\n",
      "Epoch 5/6\n"
     ]
    },
    {
     "data": {
      "application/vnd.jupyter.widget-view+json": {
       "model_id": "04a113be81964ac9a09ead98cbcbd7a3",
       "version_major": 2,
       "version_minor": 0
      },
      "text/plain": [
       "E5 Train\t:   0%|          | 0/23669 [00:00<?, ?it/s]"
      ]
     },
     "metadata": {},
     "output_type": "display_data"
    },
    {
     "name": "stdout",
     "output_type": "stream",
     "text": [
      "Train average CE loss: 0.0698\n",
      "\n"
     ]
    },
    {
     "data": {
      "application/vnd.jupyter.widget-view+json": {
       "model_id": "0e2d5ff5464c4e73a76103d95c991264",
       "version_major": 2,
       "version_minor": 0
      },
      "text/plain": [
       "E5 Valid\t:   0%|          | 0/2959 [00:00<?, ?it/s]"
      ]
     },
     "metadata": {},
     "output_type": "display_data"
    },
    {
     "name": "stdout",
     "output_type": "stream",
     "text": [
      "Valid average CE loss: 0.0677\n",
      "Learning rate = 0.0005 \n",
      "\n",
      "Metrics:\n",
      "\t- b_acc = 0.761\n",
      "\t- kappa = 0.785\n",
      "\t- F1-sc = [0.992 0.651 0.967 0.678]\n",
      "------------------------------\n",
      "\n",
      "Epoch 6/6\n"
     ]
    },
    {
     "data": {
      "application/vnd.jupyter.widget-view+json": {
       "model_id": "7241e3f6055a455e9aa21aa672402cf9",
       "version_major": 2,
       "version_minor": 0
      },
      "text/plain": [
       "E6 Train\t:   0%|          | 0/23669 [00:00<?, ?it/s]"
      ]
     },
     "metadata": {},
     "output_type": "display_data"
    },
    {
     "name": "stdout",
     "output_type": "stream",
     "text": [
      "Train average CE loss: 0.0662\n",
      "\n"
     ]
    },
    {
     "data": {
      "application/vnd.jupyter.widget-view+json": {
       "model_id": "49c18e439d594057a0cb1de5629e7c4e",
       "version_major": 2,
       "version_minor": 0
      },
      "text/plain": [
       "E6 Valid\t:   0%|          | 0/2959 [00:00<?, ?it/s]"
      ]
     },
     "metadata": {},
     "output_type": "display_data"
    },
    {
     "name": "stdout",
     "output_type": "stream",
     "text": [
      "Valid average CE loss: 0.0627\n",
      "Learning rate = 0.0005 \n",
      "\n",
      "Metrics:\n",
      "\t- b_acc = 0.772\n",
      "\t- kappa = 0.784\n",
      "\t- F1-sc = [0.992 0.634 0.972 0.744]\n",
      "------------------------------\n",
      "\n",
      "Training complete in 0:05:16 (hh:mm:ss)\n",
      "Best average F1-score: 0.835528 was at epoch 6\n",
      "\n",
      "Evaluate MLP model_2 on test data:\n"
     ]
    },
    {
     "data": {
      "application/vnd.jupyter.widget-view+json": {
       "model_id": "f0bad09e960248798c9dbac4756b2265",
       "version_major": 2,
       "version_minor": 0
      },
      "text/plain": [
       "  0%|          | 0/2959 [00:00<?, ?it/s]"
      ]
     },
     "metadata": {},
     "output_type": "display_data"
    },
    {
     "name": "stdout",
     "output_type": "stream",
     "text": [
      "b_acc = 0.758\n",
      "kappa = 0.769\n",
      "f1_sc = [0.992 0.622 0.963 0.718] \n",
      "\n",
      "*****************************************************************************************************************************\n",
      "\n",
      "Model MLP training 3\n",
      "Epoch 1/6\n"
     ]
    },
    {
     "data": {
      "application/vnd.jupyter.widget-view+json": {
       "model_id": "6dfaed1b50824f428dc324d29ca89cfd",
       "version_major": 2,
       "version_minor": 0
      },
      "text/plain": [
       "E1 Train\t:   0%|          | 0/23669 [00:00<?, ?it/s]"
      ]
     },
     "metadata": {},
     "output_type": "display_data"
    },
    {
     "name": "stdout",
     "output_type": "stream",
     "text": [
      "Train average CE loss: 0.1132\n",
      "\n"
     ]
    },
    {
     "data": {
      "application/vnd.jupyter.widget-view+json": {
       "model_id": "ed7e217a2a254fe2a78898c78e79bfad",
       "version_major": 2,
       "version_minor": 0
      },
      "text/plain": [
       "E1 Valid\t:   0%|          | 0/2959 [00:00<?, ?it/s]"
      ]
     },
     "metadata": {},
     "output_type": "display_data"
    },
    {
     "name": "stdout",
     "output_type": "stream",
     "text": [
      "Valid average CE loss: 0.1048\n",
      "Learning rate = 0.001 \n",
      "\n",
      "Metrics:\n",
      "\t- b_acc = 0.654\n",
      "\t- kappa = 0.689\n",
      "\t- F1-sc = [0.989 0.508 0.92  0.46 ]\n",
      "------------------------------\n",
      "\n",
      "Epoch 2/6\n"
     ]
    },
    {
     "data": {
      "application/vnd.jupyter.widget-view+json": {
       "model_id": "5d0007251c0142a2b93742b19020c727",
       "version_major": 2,
       "version_minor": 0
      },
      "text/plain": [
       "E2 Train\t:   0%|          | 0/23669 [00:00<?, ?it/s]"
      ]
     },
     "metadata": {},
     "output_type": "display_data"
    },
    {
     "name": "stdout",
     "output_type": "stream",
     "text": [
      "Train average CE loss: 0.0934\n",
      "\n"
     ]
    },
    {
     "data": {
      "application/vnd.jupyter.widget-view+json": {
       "model_id": "7985d59652a24b4ebee9c0dd3581747b",
       "version_major": 2,
       "version_minor": 0
      },
      "text/plain": [
       "E2 Valid\t:   0%|          | 0/2959 [00:00<?, ?it/s]"
      ]
     },
     "metadata": {},
     "output_type": "display_data"
    },
    {
     "name": "stdout",
     "output_type": "stream",
     "text": [
      "Valid average CE loss: 0.0919\n",
      "Learning rate = 0.001 \n",
      "\n",
      "Metrics:\n",
      "\t- b_acc = 0.671\n",
      "\t- kappa = 0.724\n",
      "\t- F1-sc = [0.99  0.566 0.928 0.501]\n",
      "------------------------------\n",
      "\n",
      "Epoch 3/6\n"
     ]
    },
    {
     "data": {
      "application/vnd.jupyter.widget-view+json": {
       "model_id": "695287c10b1840b39e0c635209031ebb",
       "version_major": 2,
       "version_minor": 0
      },
      "text/plain": [
       "E3 Train\t:   0%|          | 0/23669 [00:00<?, ?it/s]"
      ]
     },
     "metadata": {},
     "output_type": "display_data"
    },
    {
     "name": "stdout",
     "output_type": "stream",
     "text": [
      "Train average CE loss: 0.0879\n",
      "\n"
     ]
    },
    {
     "data": {
      "application/vnd.jupyter.widget-view+json": {
       "model_id": "5a975d43b31d45ae93eb79fb2a6ff595",
       "version_major": 2,
       "version_minor": 0
      },
      "text/plain": [
       "E3 Valid\t:   0%|          | 0/2959 [00:00<?, ?it/s]"
      ]
     },
     "metadata": {},
     "output_type": "display_data"
    },
    {
     "name": "stdout",
     "output_type": "stream",
     "text": [
      "Valid average CE loss: 0.0893\n",
      "Learning rate = 0.001 \n",
      "\n",
      "Metrics:\n",
      "\t- b_acc = 0.72\n",
      "\t- kappa = 0.745\n",
      "\t- F1-sc = [0.99  0.603 0.945 0.597]\n",
      "------------------------------\n",
      "\n",
      "Epoch 4/6\n"
     ]
    },
    {
     "data": {
      "application/vnd.jupyter.widget-view+json": {
       "model_id": "ac907b73f49f49ea96fb8fe25b0c948e",
       "version_major": 2,
       "version_minor": 0
      },
      "text/plain": [
       "E4 Train\t:   0%|          | 0/23669 [00:00<?, ?it/s]"
      ]
     },
     "metadata": {},
     "output_type": "display_data"
    },
    {
     "name": "stdout",
     "output_type": "stream",
     "text": [
      "Train average CE loss: 0.0840\n",
      "\n"
     ]
    },
    {
     "data": {
      "application/vnd.jupyter.widget-view+json": {
       "model_id": "24974e99bed34cc2acf6caaa8d7ee83d",
       "version_major": 2,
       "version_minor": 0
      },
      "text/plain": [
       "E4 Valid\t:   0%|          | 0/2959 [00:00<?, ?it/s]"
      ]
     },
     "metadata": {},
     "output_type": "display_data"
    },
    {
     "name": "stdout",
     "output_type": "stream",
     "text": [
      "Valid average CE loss: 0.0796\n",
      "Learning rate = 0.001 \n",
      "\n",
      "Metrics:\n",
      "\t- b_acc = 0.725\n",
      "\t- kappa = 0.751\n",
      "\t- F1-sc = [0.991 0.597 0.95  0.652]\n",
      "------------------------------\n",
      "\n",
      "Epoch 5/6\n"
     ]
    },
    {
     "data": {
      "application/vnd.jupyter.widget-view+json": {
       "model_id": "40f6f659b4f04828b1287728453eb00d",
       "version_major": 2,
       "version_minor": 0
      },
      "text/plain": [
       "E5 Train\t:   0%|          | 0/23669 [00:00<?, ?it/s]"
      ]
     },
     "metadata": {},
     "output_type": "display_data"
    },
    {
     "name": "stdout",
     "output_type": "stream",
     "text": [
      "Train average CE loss: 0.0703\n",
      "\n"
     ]
    },
    {
     "data": {
      "application/vnd.jupyter.widget-view+json": {
       "model_id": "cc36ece4f25b45669af53107ce3372f3",
       "version_major": 2,
       "version_minor": 0
      },
      "text/plain": [
       "E5 Valid\t:   0%|          | 0/2959 [00:00<?, ?it/s]"
      ]
     },
     "metadata": {},
     "output_type": "display_data"
    },
    {
     "name": "stdout",
     "output_type": "stream",
     "text": [
      "Valid average CE loss: 0.0656\n",
      "Learning rate = 0.0005 \n",
      "\n",
      "Metrics:\n",
      "\t- b_acc = 0.764\n",
      "\t- kappa = 0.774\n",
      "\t- F1-sc = [0.992 0.629 0.962 0.725]\n",
      "------------------------------\n",
      "\n",
      "Epoch 6/6\n"
     ]
    },
    {
     "data": {
      "application/vnd.jupyter.widget-view+json": {
       "model_id": "584000a92e5a44e8abbc3c8b7bc77370",
       "version_major": 2,
       "version_minor": 0
      },
      "text/plain": [
       "E6 Train\t:   0%|          | 0/23669 [00:00<?, ?it/s]"
      ]
     },
     "metadata": {},
     "output_type": "display_data"
    },
    {
     "name": "stdout",
     "output_type": "stream",
     "text": [
      "Train average CE loss: 0.0667\n",
      "\n"
     ]
    },
    {
     "data": {
      "application/vnd.jupyter.widget-view+json": {
       "model_id": "eb05787756ca4123837707ea8b8aa79c",
       "version_major": 2,
       "version_minor": 0
      },
      "text/plain": [
       "E6 Valid\t:   0%|          | 0/2959 [00:00<?, ?it/s]"
      ]
     },
     "metadata": {},
     "output_type": "display_data"
    },
    {
     "name": "stdout",
     "output_type": "stream",
     "text": [
      "Valid average CE loss: 0.0606\n",
      "Learning rate = 0.0005 \n",
      "\n",
      "Metrics:\n",
      "\t- b_acc = 0.781\n",
      "\t- kappa = 0.794\n",
      "\t- F1-sc = [0.992 0.653 0.973 0.748]\n",
      "------------------------------\n",
      "\n",
      "Training complete in 0:05:25 (hh:mm:ss)\n",
      "Best average F1-score: 0.841620 was at epoch 6\n",
      "\n",
      "Evaluate MLP model_3 on test data:\n"
     ]
    },
    {
     "data": {
      "application/vnd.jupyter.widget-view+json": {
       "model_id": "1f7571aec8e745dfb419927f35f77eb9",
       "version_major": 2,
       "version_minor": 0
      },
      "text/plain": [
       "  0%|          | 0/2959 [00:00<?, ?it/s]"
      ]
     },
     "metadata": {},
     "output_type": "display_data"
    },
    {
     "name": "stdout",
     "output_type": "stream",
     "text": [
      "b_acc = 0.77\n",
      "kappa = 0.784\n",
      "f1_sc = [0.992 0.644 0.97  0.735] \n",
      "\n",
      "*****************************************************************************************************************************\n",
      "\n",
      "Model MLP training 4\n",
      "Epoch 1/6\n"
     ]
    },
    {
     "data": {
      "application/vnd.jupyter.widget-view+json": {
       "model_id": "d67e522676f24ded925231cc2e5dfcdd",
       "version_major": 2,
       "version_minor": 0
      },
      "text/plain": [
       "E1 Train\t:   0%|          | 0/23669 [00:00<?, ?it/s]"
      ]
     },
     "metadata": {},
     "output_type": "display_data"
    },
    {
     "name": "stdout",
     "output_type": "stream",
     "text": [
      "Train average CE loss: 0.1126\n",
      "\n"
     ]
    },
    {
     "data": {
      "application/vnd.jupyter.widget-view+json": {
       "model_id": "0ec0c092f6874238bac90f8725454c23",
       "version_major": 2,
       "version_minor": 0
      },
      "text/plain": [
       "E1 Valid\t:   0%|          | 0/2959 [00:00<?, ?it/s]"
      ]
     },
     "metadata": {},
     "output_type": "display_data"
    },
    {
     "name": "stdout",
     "output_type": "stream",
     "text": [
      "Valid average CE loss: 0.0933\n",
      "Learning rate = 0.001 \n",
      "\n",
      "Metrics:\n",
      "\t- b_acc = 0.638\n",
      "\t- kappa = 0.722\n",
      "\t- F1-sc = [0.99  0.576 0.915 0.33 ]\n",
      "------------------------------\n",
      "\n",
      "Epoch 2/6\n"
     ]
    },
    {
     "data": {
      "application/vnd.jupyter.widget-view+json": {
       "model_id": "b6c069089fb44db1ac810ee12708e220",
       "version_major": 2,
       "version_minor": 0
      },
      "text/plain": [
       "E2 Train\t:   0%|          | 0/23669 [00:00<?, ?it/s]"
      ]
     },
     "metadata": {},
     "output_type": "display_data"
    },
    {
     "name": "stdout",
     "output_type": "stream",
     "text": [
      "Train average CE loss: 0.0941\n",
      "\n"
     ]
    },
    {
     "data": {
      "application/vnd.jupyter.widget-view+json": {
       "model_id": "1483b1b2f87644db8a98aa8f6bb0f07f",
       "version_major": 2,
       "version_minor": 0
      },
      "text/plain": [
       "E2 Valid\t:   0%|          | 0/2959 [00:00<?, ?it/s]"
      ]
     },
     "metadata": {},
     "output_type": "display_data"
    },
    {
     "name": "stdout",
     "output_type": "stream",
     "text": [
      "Valid average CE loss: 0.0926\n",
      "Learning rate = 0.001 \n",
      "\n",
      "Metrics:\n",
      "\t- b_acc = 0.699\n",
      "\t- kappa = 0.724\n",
      "\t- F1-sc = [0.99  0.55  0.937 0.604]\n",
      "------------------------------\n",
      "\n",
      "Epoch 3/6\n"
     ]
    },
    {
     "data": {
      "application/vnd.jupyter.widget-view+json": {
       "model_id": "5f0048ce3ceb43b58584c584a47ccbae",
       "version_major": 2,
       "version_minor": 0
      },
      "text/plain": [
       "E3 Train\t:   0%|          | 0/23669 [00:00<?, ?it/s]"
      ]
     },
     "metadata": {},
     "output_type": "display_data"
    },
    {
     "name": "stdout",
     "output_type": "stream",
     "text": [
      "Train average CE loss: 0.0879\n",
      "\n"
     ]
    },
    {
     "data": {
      "application/vnd.jupyter.widget-view+json": {
       "model_id": "652b51b44d164909ae259afbc91c3602",
       "version_major": 2,
       "version_minor": 0
      },
      "text/plain": [
       "E3 Valid\t:   0%|          | 0/2959 [00:00<?, ?it/s]"
      ]
     },
     "metadata": {},
     "output_type": "display_data"
    },
    {
     "name": "stdout",
     "output_type": "stream",
     "text": [
      "Valid average CE loss: 0.0850\n",
      "Learning rate = 0.001 \n",
      "\n",
      "Metrics:\n",
      "\t- b_acc = 0.706\n",
      "\t- kappa = 0.757\n",
      "\t- F1-sc = [0.991 0.62  0.942 0.554]\n",
      "------------------------------\n",
      "\n",
      "Epoch 4/6\n"
     ]
    },
    {
     "data": {
      "application/vnd.jupyter.widget-view+json": {
       "model_id": "253d5acc257d4ab786439170ae33c587",
       "version_major": 2,
       "version_minor": 0
      },
      "text/plain": [
       "E4 Train\t:   0%|          | 0/23669 [00:00<?, ?it/s]"
      ]
     },
     "metadata": {},
     "output_type": "display_data"
    },
    {
     "name": "stdout",
     "output_type": "stream",
     "text": [
      "Train average CE loss: 0.0837\n",
      "\n"
     ]
    },
    {
     "data": {
      "application/vnd.jupyter.widget-view+json": {
       "model_id": "ca7d3e9061db4899b4693d66a3b372e2",
       "version_major": 2,
       "version_minor": 0
      },
      "text/plain": [
       "E4 Valid\t:   0%|          | 0/2959 [00:00<?, ?it/s]"
      ]
     },
     "metadata": {},
     "output_type": "display_data"
    },
    {
     "name": "stdout",
     "output_type": "stream",
     "text": [
      "Valid average CE loss: 0.0824\n",
      "Learning rate = 0.001 \n",
      "\n",
      "Metrics:\n",
      "\t- b_acc = 0.718\n",
      "\t- kappa = 0.763\n",
      "\t- F1-sc = [0.991 0.63  0.948 0.594]\n",
      "------------------------------\n",
      "\n",
      "Epoch 5/6\n"
     ]
    },
    {
     "data": {
      "application/vnd.jupyter.widget-view+json": {
       "model_id": "17d09772c3c6497d92eef2dddfa1091a",
       "version_major": 2,
       "version_minor": 0
      },
      "text/plain": [
       "E5 Train\t:   0%|          | 0/23669 [00:00<?, ?it/s]"
      ]
     },
     "metadata": {},
     "output_type": "display_data"
    },
    {
     "name": "stdout",
     "output_type": "stream",
     "text": [
      "Train average CE loss: 0.0700\n",
      "\n"
     ]
    },
    {
     "data": {
      "application/vnd.jupyter.widget-view+json": {
       "model_id": "d6d5416767394d95b24a3860f8a4dadd",
       "version_major": 2,
       "version_minor": 0
      },
      "text/plain": [
       "E5 Valid\t:   0%|          | 0/2959 [00:00<?, ?it/s]"
      ]
     },
     "metadata": {},
     "output_type": "display_data"
    },
    {
     "name": "stdout",
     "output_type": "stream",
     "text": [
      "Valid average CE loss: 0.0672\n",
      "Learning rate = 0.0005 \n",
      "\n",
      "Metrics:\n",
      "\t- b_acc = 0.757\n",
      "\t- kappa = 0.778\n",
      "\t- F1-sc = [0.992 0.634 0.961 0.711]\n",
      "------------------------------\n",
      "\n",
      "Epoch 6/6\n"
     ]
    },
    {
     "data": {
      "application/vnd.jupyter.widget-view+json": {
       "model_id": "9d5c2364eb6b43a1aa5f16bdda6dabe4",
       "version_major": 2,
       "version_minor": 0
      },
      "text/plain": [
       "E6 Train\t:   0%|          | 0/23669 [00:00<?, ?it/s]"
      ]
     },
     "metadata": {},
     "output_type": "display_data"
    },
    {
     "name": "stdout",
     "output_type": "stream",
     "text": [
      "Train average CE loss: 0.0674\n",
      "\n"
     ]
    },
    {
     "data": {
      "application/vnd.jupyter.widget-view+json": {
       "model_id": "fe9567fd6e984738b7cd6da3d0c7c49c",
       "version_major": 2,
       "version_minor": 0
      },
      "text/plain": [
       "E6 Valid\t:   0%|          | 0/2959 [00:00<?, ?it/s]"
      ]
     },
     "metadata": {},
     "output_type": "display_data"
    },
    {
     "name": "stdout",
     "output_type": "stream",
     "text": [
      "Valid average CE loss: 0.0664\n",
      "Learning rate = 0.0005 \n",
      "\n",
      "Metrics:\n",
      "\t- b_acc = 0.78\n",
      "\t- kappa = 0.784\n",
      "\t- F1-sc = [0.992 0.651 0.969 0.713]\n",
      "------------------------------\n",
      "\n",
      "Training complete in 0:05:23 (hh:mm:ss)\n",
      "Best average F1-score: 0.831002 was at epoch 6\n",
      "\n",
      "Evaluate MLP model_4 on test data:\n"
     ]
    },
    {
     "data": {
      "application/vnd.jupyter.widget-view+json": {
       "model_id": "2b33cdb1d988405b9363c1ce45003ae8",
       "version_major": 2,
       "version_minor": 0
      },
      "text/plain": [
       "  0%|          | 0/2959 [00:00<?, ?it/s]"
      ]
     },
     "metadata": {},
     "output_type": "display_data"
    },
    {
     "name": "stdout",
     "output_type": "stream",
     "text": [
      "b_acc = 0.773\n",
      "kappa = 0.773\n",
      "f1_sc = [0.991 0.639 0.966 0.716] \n",
      "\n",
      "*****************************************************************************************************************************\n",
      "\n",
      "Model MLP training 5\n",
      "Epoch 1/6\n"
     ]
    },
    {
     "data": {
      "application/vnd.jupyter.widget-view+json": {
       "model_id": "0036369a37004b3d97224642f324e21e",
       "version_major": 2,
       "version_minor": 0
      },
      "text/plain": [
       "E1 Train\t:   0%|          | 0/23669 [00:00<?, ?it/s]"
      ]
     },
     "metadata": {},
     "output_type": "display_data"
    },
    {
     "name": "stdout",
     "output_type": "stream",
     "text": [
      "Train average CE loss: 0.1134\n",
      "\n"
     ]
    },
    {
     "data": {
      "application/vnd.jupyter.widget-view+json": {
       "model_id": "95ca460ace4d420190fdb17a1f533c33",
       "version_major": 2,
       "version_minor": 0
      },
      "text/plain": [
       "E1 Valid\t:   0%|          | 0/2959 [00:00<?, ?it/s]"
      ]
     },
     "metadata": {},
     "output_type": "display_data"
    },
    {
     "name": "stdout",
     "output_type": "stream",
     "text": [
      "Valid average CE loss: 0.0990\n",
      "Learning rate = 0.001 \n",
      "\n",
      "Metrics:\n",
      "\t- b_acc = 0.627\n",
      "\t- kappa = 0.699\n",
      "\t- F1-sc = [0.99  0.533 0.913 0.377]\n",
      "------------------------------\n",
      "\n",
      "Epoch 2/6\n"
     ]
    },
    {
     "data": {
      "application/vnd.jupyter.widget-view+json": {
       "model_id": "20ccc8b651794853bd326145a4eee483",
       "version_major": 2,
       "version_minor": 0
      },
      "text/plain": [
       "E2 Train\t:   0%|          | 0/23669 [00:00<?, ?it/s]"
      ]
     },
     "metadata": {},
     "output_type": "display_data"
    },
    {
     "name": "stdout",
     "output_type": "stream",
     "text": [
      "Train average CE loss: 0.0944\n",
      "\n"
     ]
    },
    {
     "data": {
      "application/vnd.jupyter.widget-view+json": {
       "model_id": "9e3d1d890eb348a8beb1fc736bee03cc",
       "version_major": 2,
       "version_minor": 0
      },
      "text/plain": [
       "E2 Valid\t:   0%|          | 0/2959 [00:00<?, ?it/s]"
      ]
     },
     "metadata": {},
     "output_type": "display_data"
    },
    {
     "name": "stdout",
     "output_type": "stream",
     "text": [
      "Valid average CE loss: 0.0855\n",
      "Learning rate = 0.001 \n",
      "\n",
      "Metrics:\n",
      "\t- b_acc = 0.724\n",
      "\t- kappa = 0.745\n",
      "\t- F1-sc = [0.99  0.605 0.937 0.614]\n",
      "------------------------------\n",
      "\n",
      "Epoch 3/6\n"
     ]
    },
    {
     "data": {
      "application/vnd.jupyter.widget-view+json": {
       "model_id": "727c2f38df7e443795fc86966735ee9b",
       "version_major": 2,
       "version_minor": 0
      },
      "text/plain": [
       "E3 Train\t:   0%|          | 0/23669 [00:00<?, ?it/s]"
      ]
     },
     "metadata": {},
     "output_type": "display_data"
    },
    {
     "name": "stdout",
     "output_type": "stream",
     "text": [
      "Train average CE loss: 0.0882\n",
      "\n"
     ]
    },
    {
     "data": {
      "application/vnd.jupyter.widget-view+json": {
       "model_id": "c33798b3c0f2467f9676709eed46be38",
       "version_major": 2,
       "version_minor": 0
      },
      "text/plain": [
       "E3 Valid\t:   0%|          | 0/2959 [00:00<?, ?it/s]"
      ]
     },
     "metadata": {},
     "output_type": "display_data"
    },
    {
     "name": "stdout",
     "output_type": "stream",
     "text": [
      "Valid average CE loss: 0.0891\n",
      "Learning rate = 0.001 \n",
      "\n",
      "Metrics:\n",
      "\t- b_acc = 0.73\n",
      "\t- kappa = 0.742\n",
      "\t- F1-sc = [0.991 0.581 0.946 0.59 ]\n",
      "------------------------------\n",
      "\n",
      "Epoch 4/6\n"
     ]
    },
    {
     "data": {
      "application/vnd.jupyter.widget-view+json": {
       "model_id": "b9e524f43bcb4376999e2bc681ec489d",
       "version_major": 2,
       "version_minor": 0
      },
      "text/plain": [
       "E4 Train\t:   0%|          | 0/23669 [00:00<?, ?it/s]"
      ]
     },
     "metadata": {},
     "output_type": "display_data"
    },
    {
     "name": "stdout",
     "output_type": "stream",
     "text": [
      "Train average CE loss: 0.0852\n",
      "\n"
     ]
    },
    {
     "data": {
      "application/vnd.jupyter.widget-view+json": {
       "model_id": "415b13db43bc4afaa31a539e6b2520d4",
       "version_major": 2,
       "version_minor": 0
      },
      "text/plain": [
       "E4 Valid\t:   0%|          | 0/2959 [00:00<?, ?it/s]"
      ]
     },
     "metadata": {},
     "output_type": "display_data"
    },
    {
     "name": "stdout",
     "output_type": "stream",
     "text": [
      "Valid average CE loss: 0.0798\n",
      "Learning rate = 0.001 \n",
      "\n",
      "Metrics:\n",
      "\t- b_acc = 0.719\n",
      "\t- kappa = 0.754\n",
      "\t- F1-sc = [0.991 0.594 0.951 0.642]\n",
      "------------------------------\n",
      "\n",
      "Epoch 5/6\n"
     ]
    },
    {
     "data": {
      "application/vnd.jupyter.widget-view+json": {
       "model_id": "3c6c470be3ff4433a365ea0360732434",
       "version_major": 2,
       "version_minor": 0
      },
      "text/plain": [
       "E5 Train\t:   0%|          | 0/23669 [00:00<?, ?it/s]"
      ]
     },
     "metadata": {},
     "output_type": "display_data"
    },
    {
     "name": "stdout",
     "output_type": "stream",
     "text": [
      "Train average CE loss: 0.0703\n",
      "\n"
     ]
    },
    {
     "data": {
      "application/vnd.jupyter.widget-view+json": {
       "model_id": "9da750505f2d4a329c23aef24cf65ea6",
       "version_major": 2,
       "version_minor": 0
      },
      "text/plain": [
       "E5 Valid\t:   0%|          | 0/2959 [00:00<?, ?it/s]"
      ]
     },
     "metadata": {},
     "output_type": "display_data"
    },
    {
     "name": "stdout",
     "output_type": "stream",
     "text": [
      "Valid average CE loss: 0.0641\n",
      "Learning rate = 0.0005 \n",
      "\n",
      "Metrics:\n",
      "\t- b_acc = 0.774\n",
      "\t- kappa = 0.786\n",
      "\t- F1-sc = [0.992 0.649 0.966 0.737]\n",
      "------------------------------\n",
      "\n",
      "Epoch 6/6\n"
     ]
    },
    {
     "data": {
      "application/vnd.jupyter.widget-view+json": {
       "model_id": "4accb621cac24ca990f7f016fd6e009f",
       "version_major": 2,
       "version_minor": 0
      },
      "text/plain": [
       "E6 Train\t:   0%|          | 0/23669 [00:00<?, ?it/s]"
      ]
     },
     "metadata": {},
     "output_type": "display_data"
    },
    {
     "name": "stdout",
     "output_type": "stream",
     "text": [
      "Train average CE loss: 0.0668\n",
      "\n"
     ]
    },
    {
     "data": {
      "application/vnd.jupyter.widget-view+json": {
       "model_id": "632df6aa64404b9f804d08457960e6c0",
       "version_major": 2,
       "version_minor": 0
      },
      "text/plain": [
       "E6 Valid\t:   0%|          | 0/2959 [00:00<?, ?it/s]"
      ]
     },
     "metadata": {},
     "output_type": "display_data"
    },
    {
     "name": "stdout",
     "output_type": "stream",
     "text": [
      "Valid average CE loss: 0.0686\n",
      "Learning rate = 0.0005 \n",
      "\n",
      "Metrics:\n",
      "\t- b_acc = 0.767\n",
      "\t- kappa = 0.772\n",
      "\t- F1-sc = [0.992 0.616 0.962 0.734]\n",
      "------------------------------\n",
      "\n",
      "Training complete in 0:05:24 (hh:mm:ss)\n",
      "Best average F1-score: 0.836026 was at epoch 5\n",
      "\n",
      "Evaluate MLP model_5 on test data:\n"
     ]
    },
    {
     "data": {
      "application/vnd.jupyter.widget-view+json": {
       "model_id": "93685dc4de78415ea54f8d0ba2e30725",
       "version_major": 2,
       "version_minor": 0
      },
      "text/plain": [
       "  0%|          | 0/2959 [00:00<?, ?it/s]"
      ]
     },
     "metadata": {},
     "output_type": "display_data"
    },
    {
     "name": "stdout",
     "output_type": "stream",
     "text": [
      "b_acc = 0.767\n",
      "kappa = 0.768\n",
      "f1_sc = [0.991 0.625 0.962 0.747] \n",
      "\n",
      "*****************************************************************************************************************************\n",
      "\n",
      "MLP {'b_acc': 0.766, 'kappa': 0.771, 'f1_sc': array([[0.991, 0.628, 0.964, 0.73 ]])}\n"
     ]
    }
   ],
   "source": [
    "average_metrics = {}\n",
    "metrics = {'b_acc': 0,\n",
    "           'kappa': 0,\n",
    "           'f1_sc': np.zeros((1, 4))          \n",
    "              }\n",
    "num_trainings = 5\n",
    "num_epochs = 6\n",
    "for i in trange(num_trainings, desc=f'Trainings for MLP'):\n",
    "    seed_everything(i)\n",
    "    model = MLP(window_size=window_size)\n",
    "    model = model.to(device)\n",
    "    criterion = nn.CrossEntropyLoss()\n",
    "    optimizer = Adam(model.parameters(), lr=0.001)\n",
    "    exp_lr_scheduler = lr_scheduler.StepLR(optimizer, step_size=4, gamma=0.5)\n",
    "    print(f'Model {model._get_name()} training {i+1}')\n",
    "    _, model = train_model(model, dataloaders, criterion,\n",
    "                             optimizer, exp_lr_scheduler, num_epochs=num_epochs, SEED=i)\n",
    "    print()\n",
    "    print(f'Evaluate {model._get_name()} model_{i+1} on test data:')\n",
    "    b_accuracy, kappa, f1 = test(model, dataloaders['Test'], SEED=i)\n",
    "    metrics['b_acc'] += b_accuracy\n",
    "    metrics['kappa'] += kappa\n",
    "    metrics['f1_sc'] += f1\n",
    "    print('b_acc =', np.around(b_accuracy, 3))\n",
    "    print('kappa =', np.around(kappa, 3))\n",
    "    print('f1_sc =', np.around(f1, 3), '\\n')\n",
    "    print('*' * 125, end='\\n\\n')\n",
    "\n",
    "average_metrics[model._get_name()] = {}\n",
    "for key, value in metrics.items():\n",
    "    average_metrics[model._get_name()][key] = np.around(value / num_trainings, 3)\n",
    "    \n",
    "for key, value in average_metrics.items():\n",
    "    print(key, value)"
   ]
  },
  {
   "cell_type": "markdown",
   "metadata": {},
   "source": [
    "# CNN"
   ]
  },
  {
   "cell_type": "code",
   "execution_count": 35,
   "metadata": {
    "execution": {
     "iopub.execute_input": "2024-02-01T22:15:57.097056Z",
     "iopub.status.busy": "2024-02-01T22:15:57.096731Z",
     "iopub.status.idle": "2024-02-01T22:49:54.813531Z",
     "shell.execute_reply": "2024-02-01T22:49:54.812573Z",
     "shell.execute_reply.started": "2024-02-01T22:15:57.097029Z"
    }
   },
   "outputs": [
    {
     "data": {
      "application/vnd.jupyter.widget-view+json": {
       "model_id": "2969c94703554ea59f0b1f9ac862cfb8",
       "version_major": 2,
       "version_minor": 0
      },
      "text/plain": [
       "Trainings for CNN:   0%|          | 0/5 [00:00<?, ?it/s]"
      ]
     },
     "metadata": {},
     "output_type": "display_data"
    },
    {
     "name": "stdout",
     "output_type": "stream",
     "text": [
      "Model CNN training 1\n",
      "Epoch 1/6\n"
     ]
    },
    {
     "data": {
      "application/vnd.jupyter.widget-view+json": {
       "model_id": "e5da995a85714a2b9df8d9edf6cbeaad",
       "version_major": 2,
       "version_minor": 0
      },
      "text/plain": [
       "E1 Train\t:   0%|          | 0/23669 [00:00<?, ?it/s]"
      ]
     },
     "metadata": {},
     "output_type": "display_data"
    },
    {
     "name": "stdout",
     "output_type": "stream",
     "text": [
      "Train average CE loss: 0.1164\n",
      "\n"
     ]
    },
    {
     "data": {
      "application/vnd.jupyter.widget-view+json": {
       "model_id": "26271ca15a4141da8e9423ac90458489",
       "version_major": 2,
       "version_minor": 0
      },
      "text/plain": [
       "E1 Valid\t:   0%|          | 0/2959 [00:00<?, ?it/s]"
      ]
     },
     "metadata": {},
     "output_type": "display_data"
    },
    {
     "name": "stdout",
     "output_type": "stream",
     "text": [
      "Valid average CE loss: 0.0845\n",
      "Learning rate = 0.001 \n",
      "\n",
      "Metrics:\n",
      "\t- b_acc = 0.647\n",
      "\t- kappa = 0.689\n",
      "\t- F1-sc = [0.989 0.514 0.909 0.499]\n",
      "------------------------------\n",
      "\n",
      "Epoch 2/6\n"
     ]
    },
    {
     "data": {
      "application/vnd.jupyter.widget-view+json": {
       "model_id": "1aec092777ad4d38804b330f906f76ae",
       "version_major": 2,
       "version_minor": 0
      },
      "text/plain": [
       "E2 Train\t:   0%|          | 0/23669 [00:00<?, ?it/s]"
      ]
     },
     "metadata": {},
     "output_type": "display_data"
    },
    {
     "name": "stdout",
     "output_type": "stream",
     "text": [
      "Train average CE loss: 0.0767\n",
      "\n"
     ]
    },
    {
     "data": {
      "application/vnd.jupyter.widget-view+json": {
       "model_id": "32e31ba8f33248fc8924ce548a03710d",
       "version_major": 2,
       "version_minor": 0
      },
      "text/plain": [
       "E2 Valid\t:   0%|          | 0/2959 [00:00<?, ?it/s]"
      ]
     },
     "metadata": {},
     "output_type": "display_data"
    },
    {
     "name": "stdout",
     "output_type": "stream",
     "text": [
      "Valid average CE loss: 0.0657\n",
      "Learning rate = 0.001 \n",
      "\n",
      "Metrics:\n",
      "\t- b_acc = 0.766\n",
      "\t- kappa = 0.767\n",
      "\t- F1-sc = [0.991 0.633 0.942 0.69 ]\n",
      "------------------------------\n",
      "\n",
      "Epoch 3/6\n"
     ]
    },
    {
     "data": {
      "application/vnd.jupyter.widget-view+json": {
       "model_id": "19899e82ed764fcfb66ed337228a2a40",
       "version_major": 2,
       "version_minor": 0
      },
      "text/plain": [
       "E3 Train\t:   0%|          | 0/23669 [00:00<?, ?it/s]"
      ]
     },
     "metadata": {},
     "output_type": "display_data"
    },
    {
     "name": "stdout",
     "output_type": "stream",
     "text": [
      "Train average CE loss: 0.0652\n",
      "\n"
     ]
    },
    {
     "data": {
      "application/vnd.jupyter.widget-view+json": {
       "model_id": "3b59e6eb44fa4f369b8431b1c998e92c",
       "version_major": 2,
       "version_minor": 0
      },
      "text/plain": [
       "E3 Valid\t:   0%|          | 0/2959 [00:00<?, ?it/s]"
      ]
     },
     "metadata": {},
     "output_type": "display_data"
    },
    {
     "name": "stdout",
     "output_type": "stream",
     "text": [
      "Valid average CE loss: 0.0641\n",
      "Learning rate = 0.001 \n",
      "\n",
      "Metrics:\n",
      "\t- b_acc = 0.769\n",
      "\t- kappa = 0.785\n",
      "\t- F1-sc = [0.992 0.654 0.955 0.719]\n",
      "------------------------------\n",
      "\n",
      "Epoch 4/6\n"
     ]
    },
    {
     "data": {
      "application/vnd.jupyter.widget-view+json": {
       "model_id": "0483d366ca294b2e9ad7ee340a18e65e",
       "version_major": 2,
       "version_minor": 0
      },
      "text/plain": [
       "E4 Train\t:   0%|          | 0/23669 [00:00<?, ?it/s]"
      ]
     },
     "metadata": {},
     "output_type": "display_data"
    },
    {
     "name": "stdout",
     "output_type": "stream",
     "text": [
      "Train average CE loss: 0.0600\n",
      "\n"
     ]
    },
    {
     "data": {
      "application/vnd.jupyter.widget-view+json": {
       "model_id": "3f12062e6d37446db5080bf03fa49258",
       "version_major": 2,
       "version_minor": 0
      },
      "text/plain": [
       "E4 Valid\t:   0%|          | 0/2959 [00:00<?, ?it/s]"
      ]
     },
     "metadata": {},
     "output_type": "display_data"
    },
    {
     "name": "stdout",
     "output_type": "stream",
     "text": [
      "Valid average CE loss: 0.0574\n",
      "Learning rate = 0.001 \n",
      "\n",
      "Metrics:\n",
      "\t- b_acc = 0.779\n",
      "\t- kappa = 0.795\n",
      "\t- F1-sc = [0.992 0.675 0.953 0.746]\n",
      "------------------------------\n",
      "\n",
      "Epoch 5/6\n"
     ]
    },
    {
     "data": {
      "application/vnd.jupyter.widget-view+json": {
       "model_id": "dc7af626b3f64e2ba65300ba2dd5c7cf",
       "version_major": 2,
       "version_minor": 0
      },
      "text/plain": [
       "E5 Train\t:   0%|          | 0/23669 [00:00<?, ?it/s]"
      ]
     },
     "metadata": {},
     "output_type": "display_data"
    },
    {
     "name": "stdout",
     "output_type": "stream",
     "text": [
      "Train average CE loss: 0.0506\n",
      "\n"
     ]
    },
    {
     "data": {
      "application/vnd.jupyter.widget-view+json": {
       "model_id": "3e0ccb1ae5c245a291960b0b0fb7e1df",
       "version_major": 2,
       "version_minor": 0
      },
      "text/plain": [
       "E5 Valid\t:   0%|          | 0/2959 [00:00<?, ?it/s]"
      ]
     },
     "metadata": {},
     "output_type": "display_data"
    },
    {
     "name": "stdout",
     "output_type": "stream",
     "text": [
      "Valid average CE loss: 0.0599\n",
      "Learning rate = 0.0005 \n",
      "\n",
      "Metrics:\n",
      "\t- b_acc = 0.841\n",
      "\t- kappa = 0.824\n",
      "\t- F1-sc = [0.993 0.723 0.97  0.793]\n",
      "------------------------------\n",
      "\n",
      "Epoch 6/6\n"
     ]
    },
    {
     "data": {
      "application/vnd.jupyter.widget-view+json": {
       "model_id": "7c41d93b2a5044b0b552f7dce6349331",
       "version_major": 2,
       "version_minor": 0
      },
      "text/plain": [
       "E6 Train\t:   0%|          | 0/23669 [00:00<?, ?it/s]"
      ]
     },
     "metadata": {},
     "output_type": "display_data"
    },
    {
     "name": "stdout",
     "output_type": "stream",
     "text": [
      "Train average CE loss: 0.0477\n",
      "\n"
     ]
    },
    {
     "data": {
      "application/vnd.jupyter.widget-view+json": {
       "model_id": "837de7faf1664b54b0c44cdc3e037429",
       "version_major": 2,
       "version_minor": 0
      },
      "text/plain": [
       "E6 Valid\t:   0%|          | 0/2959 [00:00<?, ?it/s]"
      ]
     },
     "metadata": {},
     "output_type": "display_data"
    },
    {
     "name": "stdout",
     "output_type": "stream",
     "text": [
      "Valid average CE loss: 0.0536\n",
      "Learning rate = 0.0005 \n",
      "\n",
      "Metrics:\n",
      "\t- b_acc = 0.852\n",
      "\t- kappa = 0.838\n",
      "\t- F1-sc = [0.993 0.744 0.974 0.8  ]\n",
      "------------------------------\n",
      "\n",
      "Training complete in 0:06:43 (hh:mm:ss)\n",
      "Best average F1-score: 0.877710 was at epoch 6\n",
      "\n",
      "Evaluate CNN model_1 on test data:\n"
     ]
    },
    {
     "data": {
      "application/vnd.jupyter.widget-view+json": {
       "model_id": "b13892d363d9471a98fdf7c5a2c8fbb2",
       "version_major": 2,
       "version_minor": 0
      },
      "text/plain": [
       "  0%|          | 0/2959 [00:00<?, ?it/s]"
      ]
     },
     "metadata": {},
     "output_type": "display_data"
    },
    {
     "name": "stdout",
     "output_type": "stream",
     "text": [
      "b_acc = 0.85\n",
      "kappa = 0.839\n",
      "f1_sc = [0.993 0.752 0.976 0.784] \n",
      "\n",
      "*****************************************************************************************************************************\n",
      "\n",
      "Model CNN training 2\n",
      "Epoch 1/6\n"
     ]
    },
    {
     "data": {
      "application/vnd.jupyter.widget-view+json": {
       "model_id": "1c7495effb6d4c20b9c46f2d25eb3e9c",
       "version_major": 2,
       "version_minor": 0
      },
      "text/plain": [
       "E1 Train\t:   0%|          | 0/23669 [00:00<?, ?it/s]"
      ]
     },
     "metadata": {},
     "output_type": "display_data"
    },
    {
     "name": "stdout",
     "output_type": "stream",
     "text": [
      "Train average CE loss: 0.1114\n",
      "\n"
     ]
    },
    {
     "data": {
      "application/vnd.jupyter.widget-view+json": {
       "model_id": "e809b18f2fc047b9bfc8e67b29523487",
       "version_major": 2,
       "version_minor": 0
      },
      "text/plain": [
       "E1 Valid\t:   0%|          | 0/2959 [00:00<?, ?it/s]"
      ]
     },
     "metadata": {},
     "output_type": "display_data"
    },
    {
     "name": "stdout",
     "output_type": "stream",
     "text": [
      "Valid average CE loss: 0.0762\n",
      "Learning rate = 0.001 \n",
      "\n",
      "Metrics:\n",
      "\t- b_acc = 0.664\n",
      "\t- kappa = 0.7\n",
      "\t- F1-sc = [0.99  0.513 0.917 0.562]\n",
      "------------------------------\n",
      "\n",
      "Epoch 2/6\n"
     ]
    },
    {
     "data": {
      "application/vnd.jupyter.widget-view+json": {
       "model_id": "9a6d5e3b8a3f40c48c2e6bb33ff7d021",
       "version_major": 2,
       "version_minor": 0
      },
      "text/plain": [
       "E2 Train\t:   0%|          | 0/23669 [00:00<?, ?it/s]"
      ]
     },
     "metadata": {},
     "output_type": "display_data"
    },
    {
     "name": "stdout",
     "output_type": "stream",
     "text": [
      "Train average CE loss: 0.0689\n",
      "\n"
     ]
    },
    {
     "data": {
      "application/vnd.jupyter.widget-view+json": {
       "model_id": "1fbd602c2c79438eae545fad71612dc0",
       "version_major": 2,
       "version_minor": 0
      },
      "text/plain": [
       "E2 Valid\t:   0%|          | 0/2959 [00:00<?, ?it/s]"
      ]
     },
     "metadata": {},
     "output_type": "display_data"
    },
    {
     "name": "stdout",
     "output_type": "stream",
     "text": [
      "Valid average CE loss: 0.0633\n",
      "Learning rate = 0.001 \n",
      "\n",
      "Metrics:\n",
      "\t- b_acc = 0.76\n",
      "\t- kappa = 0.771\n",
      "\t- F1-sc = [0.991 0.645 0.935 0.714]\n",
      "------------------------------\n",
      "\n",
      "Epoch 3/6\n"
     ]
    },
    {
     "data": {
      "application/vnd.jupyter.widget-view+json": {
       "model_id": "5bca4cec9fc0458fb0fdcd64a7156313",
       "version_major": 2,
       "version_minor": 0
      },
      "text/plain": [
       "E3 Train\t:   0%|          | 0/23669 [00:00<?, ?it/s]"
      ]
     },
     "metadata": {},
     "output_type": "display_data"
    },
    {
     "name": "stdout",
     "output_type": "stream",
     "text": [
      "Train average CE loss: 0.0597\n",
      "\n"
     ]
    },
    {
     "data": {
      "application/vnd.jupyter.widget-view+json": {
       "model_id": "d57d9e94b3ae450a985a300a2efb90d8",
       "version_major": 2,
       "version_minor": 0
      },
      "text/plain": [
       "E3 Valid\t:   0%|          | 0/2959 [00:00<?, ?it/s]"
      ]
     },
     "metadata": {},
     "output_type": "display_data"
    },
    {
     "name": "stdout",
     "output_type": "stream",
     "text": [
      "Valid average CE loss: 0.0542\n",
      "Learning rate = 0.001 \n",
      "\n",
      "Metrics:\n",
      "\t- b_acc = 0.783\n",
      "\t- kappa = 0.784\n",
      "\t- F1-sc = [0.992 0.646 0.95  0.775]\n",
      "------------------------------\n",
      "\n",
      "Epoch 4/6\n"
     ]
    },
    {
     "data": {
      "application/vnd.jupyter.widget-view+json": {
       "model_id": "2f5a4cb8fb5e4a398ebf403c92442987",
       "version_major": 2,
       "version_minor": 0
      },
      "text/plain": [
       "E4 Train\t:   0%|          | 0/23669 [00:00<?, ?it/s]"
      ]
     },
     "metadata": {},
     "output_type": "display_data"
    },
    {
     "name": "stdout",
     "output_type": "stream",
     "text": [
      "Train average CE loss: 0.0552\n",
      "\n"
     ]
    },
    {
     "data": {
      "application/vnd.jupyter.widget-view+json": {
       "model_id": "ae7f9ff63bf64f76adca7292d0b1519b",
       "version_major": 2,
       "version_minor": 0
      },
      "text/plain": [
       "E4 Valid\t:   0%|          | 0/2959 [00:00<?, ?it/s]"
      ]
     },
     "metadata": {},
     "output_type": "display_data"
    },
    {
     "name": "stdout",
     "output_type": "stream",
     "text": [
      "Valid average CE loss: 0.0501\n",
      "Learning rate = 0.001 \n",
      "\n",
      "Metrics:\n",
      "\t- b_acc = 0.829\n",
      "\t- kappa = 0.813\n",
      "\t- F1-sc = [0.993 0.712 0.954 0.793]\n",
      "------------------------------\n",
      "\n",
      "Epoch 5/6\n"
     ]
    },
    {
     "data": {
      "application/vnd.jupyter.widget-view+json": {
       "model_id": "70165bae1fbd49c7a5674d5f149807ca",
       "version_major": 2,
       "version_minor": 0
      },
      "text/plain": [
       "E5 Train\t:   0%|          | 0/23669 [00:00<?, ?it/s]"
      ]
     },
     "metadata": {},
     "output_type": "display_data"
    },
    {
     "name": "stdout",
     "output_type": "stream",
     "text": [
      "Train average CE loss: 0.0474\n",
      "\n"
     ]
    },
    {
     "data": {
      "application/vnd.jupyter.widget-view+json": {
       "model_id": "1db00c30845748ebaec65197f29d00fc",
       "version_major": 2,
       "version_minor": 0
      },
      "text/plain": [
       "E5 Valid\t:   0%|          | 0/2959 [00:00<?, ?it/s]"
      ]
     },
     "metadata": {},
     "output_type": "display_data"
    },
    {
     "name": "stdout",
     "output_type": "stream",
     "text": [
      "Valid average CE loss: 0.0446\n",
      "Learning rate = 0.0005 \n",
      "\n",
      "Metrics:\n",
      "\t- b_acc = 0.807\n",
      "\t- kappa = 0.811\n",
      "\t- F1-sc = [0.993 0.697 0.957 0.806]\n",
      "------------------------------\n",
      "\n",
      "Epoch 6/6\n"
     ]
    },
    {
     "data": {
      "application/vnd.jupyter.widget-view+json": {
       "model_id": "6c19ff7ffaa349b8af19d8051e7c3093",
       "version_major": 2,
       "version_minor": 0
      },
      "text/plain": [
       "E6 Train\t:   0%|          | 0/23669 [00:00<?, ?it/s]"
      ]
     },
     "metadata": {},
     "output_type": "display_data"
    },
    {
     "name": "stdout",
     "output_type": "stream",
     "text": [
      "Train average CE loss: 0.0453\n",
      "\n"
     ]
    },
    {
     "data": {
      "application/vnd.jupyter.widget-view+json": {
       "model_id": "f9288b670a2f41d7af39dd18f52fb22d",
       "version_major": 2,
       "version_minor": 0
      },
      "text/plain": [
       "E6 Valid\t:   0%|          | 0/2959 [00:00<?, ?it/s]"
      ]
     },
     "metadata": {},
     "output_type": "display_data"
    },
    {
     "name": "stdout",
     "output_type": "stream",
     "text": [
      "Valid average CE loss: 0.0435\n",
      "Learning rate = 0.0005 \n",
      "\n",
      "Metrics:\n",
      "\t- b_acc = 0.81\n",
      "\t- kappa = 0.814\n",
      "\t- F1-sc = [0.993 0.703 0.955 0.807]\n",
      "------------------------------\n",
      "\n",
      "Training complete in 0:06:43 (hh:mm:ss)\n",
      "Best average F1-score: 0.864462 was at epoch 6\n",
      "\n",
      "Evaluate CNN model_2 on test data:\n"
     ]
    },
    {
     "data": {
      "application/vnd.jupyter.widget-view+json": {
       "model_id": "e1adf8bca68a4c8cbaf0476446947f69",
       "version_major": 2,
       "version_minor": 0
      },
      "text/plain": [
       "  0%|          | 0/2959 [00:00<?, ?it/s]"
      ]
     },
     "metadata": {},
     "output_type": "display_data"
    },
    {
     "name": "stdout",
     "output_type": "stream",
     "text": [
      "b_acc = 0.796\n",
      "kappa = 0.807\n",
      "f1_sc = [0.993 0.705 0.95  0.77 ] \n",
      "\n",
      "*****************************************************************************************************************************\n",
      "\n",
      "Model CNN training 3\n",
      "Epoch 1/6\n"
     ]
    },
    {
     "data": {
      "application/vnd.jupyter.widget-view+json": {
       "model_id": "902fcbdba8b74b50bc955129154f548f",
       "version_major": 2,
       "version_minor": 0
      },
      "text/plain": [
       "E1 Train\t:   0%|          | 0/23669 [00:00<?, ?it/s]"
      ]
     },
     "metadata": {},
     "output_type": "display_data"
    },
    {
     "name": "stdout",
     "output_type": "stream",
     "text": [
      "Train average CE loss: 0.1141\n",
      "\n"
     ]
    },
    {
     "data": {
      "application/vnd.jupyter.widget-view+json": {
       "model_id": "84da6c284da14e91a489cd2126dbc0d0",
       "version_major": 2,
       "version_minor": 0
      },
      "text/plain": [
       "E1 Valid\t:   0%|          | 0/2959 [00:00<?, ?it/s]"
      ]
     },
     "metadata": {},
     "output_type": "display_data"
    },
    {
     "name": "stdout",
     "output_type": "stream",
     "text": [
      "Valid average CE loss: 0.0805\n",
      "Learning rate = 0.001 \n",
      "\n",
      "Metrics:\n",
      "\t- b_acc = 0.658\n",
      "\t- kappa = 0.706\n",
      "\t- F1-sc = [0.99  0.549 0.912 0.512]\n",
      "------------------------------\n",
      "\n",
      "Epoch 2/6\n"
     ]
    },
    {
     "data": {
      "application/vnd.jupyter.widget-view+json": {
       "model_id": "27fb61cf74a84ad49233b56de2786cab",
       "version_major": 2,
       "version_minor": 0
      },
      "text/plain": [
       "E2 Train\t:   0%|          | 0/23669 [00:00<?, ?it/s]"
      ]
     },
     "metadata": {},
     "output_type": "display_data"
    },
    {
     "name": "stdout",
     "output_type": "stream",
     "text": [
      "Train average CE loss: 0.0763\n",
      "\n"
     ]
    },
    {
     "data": {
      "application/vnd.jupyter.widget-view+json": {
       "model_id": "d460f978ad1f44988ec51c14db458447",
       "version_major": 2,
       "version_minor": 0
      },
      "text/plain": [
       "E2 Valid\t:   0%|          | 0/2959 [00:00<?, ?it/s]"
      ]
     },
     "metadata": {},
     "output_type": "display_data"
    },
    {
     "name": "stdout",
     "output_type": "stream",
     "text": [
      "Valid average CE loss: 0.0672\n",
      "Learning rate = 0.001 \n",
      "\n",
      "Metrics:\n",
      "\t- b_acc = 0.734\n",
      "\t- kappa = 0.762\n",
      "\t- F1-sc = [0.991 0.629 0.938 0.656]\n",
      "------------------------------\n",
      "\n",
      "Epoch 3/6\n"
     ]
    },
    {
     "data": {
      "application/vnd.jupyter.widget-view+json": {
       "model_id": "4557d183416a4bfa9876368be7614498",
       "version_major": 2,
       "version_minor": 0
      },
      "text/plain": [
       "E3 Train\t:   0%|          | 0/23669 [00:00<?, ?it/s]"
      ]
     },
     "metadata": {},
     "output_type": "display_data"
    },
    {
     "name": "stdout",
     "output_type": "stream",
     "text": [
      "Train average CE loss: 0.0657\n",
      "\n"
     ]
    },
    {
     "data": {
      "application/vnd.jupyter.widget-view+json": {
       "model_id": "c781ab5dab6249d1b9e3cab746364f53",
       "version_major": 2,
       "version_minor": 0
      },
      "text/plain": [
       "E3 Valid\t:   0%|          | 0/2959 [00:00<?, ?it/s]"
      ]
     },
     "metadata": {},
     "output_type": "display_data"
    },
    {
     "name": "stdout",
     "output_type": "stream",
     "text": [
      "Valid average CE loss: 0.0609\n",
      "Learning rate = 0.001 \n",
      "\n",
      "Metrics:\n",
      "\t- b_acc = 0.768\n",
      "\t- kappa = 0.791\n",
      "\t- F1-sc = [0.992 0.669 0.954 0.698]\n",
      "------------------------------\n",
      "\n",
      "Epoch 4/6\n"
     ]
    },
    {
     "data": {
      "application/vnd.jupyter.widget-view+json": {
       "model_id": "bcd31a4efefa4d0982d3d020634817ba",
       "version_major": 2,
       "version_minor": 0
      },
      "text/plain": [
       "E4 Train\t:   0%|          | 0/23669 [00:00<?, ?it/s]"
      ]
     },
     "metadata": {},
     "output_type": "display_data"
    },
    {
     "name": "stdout",
     "output_type": "stream",
     "text": [
      "Train average CE loss: 0.0590\n",
      "\n"
     ]
    },
    {
     "data": {
      "application/vnd.jupyter.widget-view+json": {
       "model_id": "1fdb83276a91480d973bbc1c1a8a9739",
       "version_major": 2,
       "version_minor": 0
      },
      "text/plain": [
       "E4 Valid\t:   0%|          | 0/2959 [00:00<?, ?it/s]"
      ]
     },
     "metadata": {},
     "output_type": "display_data"
    },
    {
     "name": "stdout",
     "output_type": "stream",
     "text": [
      "Valid average CE loss: 0.0556\n",
      "Learning rate = 0.001 \n",
      "\n",
      "Metrics:\n",
      "\t- b_acc = 0.745\n",
      "\t- kappa = 0.78\n",
      "\t- F1-sc = [0.992 0.648 0.946 0.695]\n",
      "------------------------------\n",
      "\n",
      "Epoch 5/6\n"
     ]
    },
    {
     "data": {
      "application/vnd.jupyter.widget-view+json": {
       "model_id": "bf33ab6581ba499bb36220a6adc65c13",
       "version_major": 2,
       "version_minor": 0
      },
      "text/plain": [
       "E5 Train\t:   0%|          | 0/23669 [00:00<?, ?it/s]"
      ]
     },
     "metadata": {},
     "output_type": "display_data"
    },
    {
     "name": "stdout",
     "output_type": "stream",
     "text": [
      "Train average CE loss: 0.0493\n",
      "\n"
     ]
    },
    {
     "data": {
      "application/vnd.jupyter.widget-view+json": {
       "model_id": "6962108d68ba4ace8d5f3235828fec35",
       "version_major": 2,
       "version_minor": 0
      },
      "text/plain": [
       "E5 Valid\t:   0%|          | 0/2959 [00:00<?, ?it/s]"
      ]
     },
     "metadata": {},
     "output_type": "display_data"
    },
    {
     "name": "stdout",
     "output_type": "stream",
     "text": [
      "Valid average CE loss: 0.0436\n",
      "Learning rate = 0.0005 \n",
      "\n",
      "Metrics:\n",
      "\t- b_acc = 0.814\n",
      "\t- kappa = 0.824\n",
      "\t- F1-sc = [0.993 0.725 0.962 0.767]\n",
      "------------------------------\n",
      "\n",
      "Epoch 6/6\n"
     ]
    },
    {
     "data": {
      "application/vnd.jupyter.widget-view+json": {
       "model_id": "e30437adca2a40f681095d874f3b00ad",
       "version_major": 2,
       "version_minor": 0
      },
      "text/plain": [
       "E6 Train\t:   0%|          | 0/23669 [00:00<?, ?it/s]"
      ]
     },
     "metadata": {},
     "output_type": "display_data"
    },
    {
     "name": "stdout",
     "output_type": "stream",
     "text": [
      "Train average CE loss: 0.0461\n",
      "\n"
     ]
    },
    {
     "data": {
      "application/vnd.jupyter.widget-view+json": {
       "model_id": "66c47aaea32845c99f6de30abe653235",
       "version_major": 2,
       "version_minor": 0
      },
      "text/plain": [
       "E6 Valid\t:   0%|          | 0/2959 [00:00<?, ?it/s]"
      ]
     },
     "metadata": {},
     "output_type": "display_data"
    },
    {
     "name": "stdout",
     "output_type": "stream",
     "text": [
      "Valid average CE loss: 0.0430\n",
      "Learning rate = 0.0005 \n",
      "\n",
      "Metrics:\n",
      "\t- b_acc = 0.818\n",
      "\t- kappa = 0.827\n",
      "\t- F1-sc = [0.993 0.719 0.967 0.796]\n",
      "------------------------------\n",
      "\n",
      "Training complete in 0:06:44 (hh:mm:ss)\n",
      "Best average F1-score: 0.868712 was at epoch 6\n",
      "\n",
      "Evaluate CNN model_3 on test data:\n"
     ]
    },
    {
     "data": {
      "application/vnd.jupyter.widget-view+json": {
       "model_id": "9c02844a5a1c421880d13e39d9b45664",
       "version_major": 2,
       "version_minor": 0
      },
      "text/plain": [
       "  0%|          | 0/2959 [00:00<?, ?it/s]"
      ]
     },
     "metadata": {},
     "output_type": "display_data"
    },
    {
     "name": "stdout",
     "output_type": "stream",
     "text": [
      "b_acc = 0.797\n",
      "kappa = 0.818\n",
      "f1_sc = [0.993 0.722 0.956 0.737] \n",
      "\n",
      "*****************************************************************************************************************************\n",
      "\n",
      "Model CNN training 4\n",
      "Epoch 1/6\n"
     ]
    },
    {
     "data": {
      "application/vnd.jupyter.widget-view+json": {
       "model_id": "e78b9a4075844b3b9c4d292ed2d1ac57",
       "version_major": 2,
       "version_minor": 0
      },
      "text/plain": [
       "E1 Train\t:   0%|          | 0/23669 [00:00<?, ?it/s]"
      ]
     },
     "metadata": {},
     "output_type": "display_data"
    },
    {
     "name": "stdout",
     "output_type": "stream",
     "text": [
      "Train average CE loss: 0.1146\n",
      "\n"
     ]
    },
    {
     "data": {
      "application/vnd.jupyter.widget-view+json": {
       "model_id": "34d74b56f05f4cc09074a39b79c34cb5",
       "version_major": 2,
       "version_minor": 0
      },
      "text/plain": [
       "E1 Valid\t:   0%|          | 0/2959 [00:00<?, ?it/s]"
      ]
     },
     "metadata": {},
     "output_type": "display_data"
    },
    {
     "name": "stdout",
     "output_type": "stream",
     "text": [
      "Valid average CE loss: 0.0783\n",
      "Learning rate = 0.001 \n",
      "\n",
      "Metrics:\n",
      "\t- b_acc = 0.667\n",
      "\t- kappa = 0.718\n",
      "\t- F1-sc = [0.99  0.561 0.921 0.505]\n",
      "------------------------------\n",
      "\n",
      "Epoch 2/6\n"
     ]
    },
    {
     "data": {
      "application/vnd.jupyter.widget-view+json": {
       "model_id": "2e8d62d7a3534086bb4dec0e224e1377",
       "version_major": 2,
       "version_minor": 0
      },
      "text/plain": [
       "E2 Train\t:   0%|          | 0/23669 [00:00<?, ?it/s]"
      ]
     },
     "metadata": {},
     "output_type": "display_data"
    },
    {
     "name": "stdout",
     "output_type": "stream",
     "text": [
      "Train average CE loss: 0.0709\n",
      "\n"
     ]
    },
    {
     "data": {
      "application/vnd.jupyter.widget-view+json": {
       "model_id": "dcc91966011b4248bc25abf3f2258642",
       "version_major": 2,
       "version_minor": 0
      },
      "text/plain": [
       "E2 Valid\t:   0%|          | 0/2959 [00:00<?, ?it/s]"
      ]
     },
     "metadata": {},
     "output_type": "display_data"
    },
    {
     "name": "stdout",
     "output_type": "stream",
     "text": [
      "Valid average CE loss: 0.0637\n",
      "Learning rate = 0.001 \n",
      "\n",
      "Metrics:\n",
      "\t- b_acc = 0.757\n",
      "\t- kappa = 0.779\n",
      "\t- F1-sc = [0.992 0.662 0.934 0.701]\n",
      "------------------------------\n",
      "\n",
      "Epoch 3/6\n"
     ]
    },
    {
     "data": {
      "application/vnd.jupyter.widget-view+json": {
       "model_id": "7ef97d3209534c55a3cd48e364fb114b",
       "version_major": 2,
       "version_minor": 0
      },
      "text/plain": [
       "E3 Train\t:   0%|          | 0/23669 [00:00<?, ?it/s]"
      ]
     },
     "metadata": {},
     "output_type": "display_data"
    },
    {
     "name": "stdout",
     "output_type": "stream",
     "text": [
      "Train average CE loss: 0.0609\n",
      "\n"
     ]
    },
    {
     "data": {
      "application/vnd.jupyter.widget-view+json": {
       "model_id": "7e6c6867933c4edca1dfb58461aa81e1",
       "version_major": 2,
       "version_minor": 0
      },
      "text/plain": [
       "E3 Valid\t:   0%|          | 0/2959 [00:00<?, ?it/s]"
      ]
     },
     "metadata": {},
     "output_type": "display_data"
    },
    {
     "name": "stdout",
     "output_type": "stream",
     "text": [
      "Valid average CE loss: 0.0554\n",
      "Learning rate = 0.001 \n",
      "\n",
      "Metrics:\n",
      "\t- b_acc = 0.799\n",
      "\t- kappa = 0.807\n",
      "\t- F1-sc = [0.993 0.682 0.962 0.756]\n",
      "------------------------------\n",
      "\n",
      "Epoch 4/6\n"
     ]
    },
    {
     "data": {
      "application/vnd.jupyter.widget-view+json": {
       "model_id": "eb86eccd1b324ebb90dab478eb8642b8",
       "version_major": 2,
       "version_minor": 0
      },
      "text/plain": [
       "E4 Train\t:   0%|          | 0/23669 [00:00<?, ?it/s]"
      ]
     },
     "metadata": {},
     "output_type": "display_data"
    },
    {
     "name": "stdout",
     "output_type": "stream",
     "text": [
      "Train average CE loss: 0.0561\n",
      "\n"
     ]
    },
    {
     "data": {
      "application/vnd.jupyter.widget-view+json": {
       "model_id": "8e68358e6eab4775ad8d904c963f9a8e",
       "version_major": 2,
       "version_minor": 0
      },
      "text/plain": [
       "E4 Valid\t:   0%|          | 0/2959 [00:00<?, ?it/s]"
      ]
     },
     "metadata": {},
     "output_type": "display_data"
    },
    {
     "name": "stdout",
     "output_type": "stream",
     "text": [
      "Valid average CE loss: 0.0508\n",
      "Learning rate = 0.001 \n",
      "\n",
      "Metrics:\n",
      "\t- b_acc = 0.786\n",
      "\t- kappa = 0.807\n",
      "\t- F1-sc = [0.993 0.701 0.955 0.715]\n",
      "------------------------------\n",
      "\n",
      "Epoch 5/6\n"
     ]
    },
    {
     "data": {
      "application/vnd.jupyter.widget-view+json": {
       "model_id": "3876d58a01d24e4487ac4ed872a95816",
       "version_major": 2,
       "version_minor": 0
      },
      "text/plain": [
       "E5 Train\t:   0%|          | 0/23669 [00:00<?, ?it/s]"
      ]
     },
     "metadata": {},
     "output_type": "display_data"
    },
    {
     "name": "stdout",
     "output_type": "stream",
     "text": [
      "Train average CE loss: 0.0474\n",
      "\n"
     ]
    },
    {
     "data": {
      "application/vnd.jupyter.widget-view+json": {
       "model_id": "be2cd68565b544688171f7429a205233",
       "version_major": 2,
       "version_minor": 0
      },
      "text/plain": [
       "E5 Valid\t:   0%|          | 0/2959 [00:00<?, ?it/s]"
      ]
     },
     "metadata": {},
     "output_type": "display_data"
    },
    {
     "name": "stdout",
     "output_type": "stream",
     "text": [
      "Valid average CE loss: 0.0444\n",
      "Learning rate = 0.0005 \n",
      "\n",
      "Metrics:\n",
      "\t- b_acc = 0.814\n",
      "\t- kappa = 0.826\n",
      "\t- F1-sc = [0.993 0.718 0.97  0.782]\n",
      "------------------------------\n",
      "\n",
      "Epoch 6/6\n"
     ]
    },
    {
     "data": {
      "application/vnd.jupyter.widget-view+json": {
       "model_id": "4cbdb73a9cfb4e2282448f09c3557bcd",
       "version_major": 2,
       "version_minor": 0
      },
      "text/plain": [
       "E6 Train\t:   0%|          | 0/23669 [00:00<?, ?it/s]"
      ]
     },
     "metadata": {},
     "output_type": "display_data"
    },
    {
     "name": "stdout",
     "output_type": "stream",
     "text": [
      "Train average CE loss: 0.0456\n",
      "\n"
     ]
    },
    {
     "data": {
      "application/vnd.jupyter.widget-view+json": {
       "model_id": "0c07ee6071d04234a6180713b685d078",
       "version_major": 2,
       "version_minor": 0
      },
      "text/plain": [
       "E6 Valid\t:   0%|          | 0/2959 [00:00<?, ?it/s]"
      ]
     },
     "metadata": {},
     "output_type": "display_data"
    },
    {
     "name": "stdout",
     "output_type": "stream",
     "text": [
      "Valid average CE loss: 0.0430\n",
      "Learning rate = 0.0005 \n",
      "\n",
      "Metrics:\n",
      "\t- b_acc = 0.853\n",
      "\t- kappa = 0.835\n",
      "\t- F1-sc = [0.993 0.742 0.971 0.807]\n",
      "------------------------------\n",
      "\n",
      "Training complete in 0:06:44 (hh:mm:ss)\n",
      "Best average F1-score: 0.878297 was at epoch 6\n",
      "\n",
      "Evaluate CNN model_4 on test data:\n"
     ]
    },
    {
     "data": {
      "application/vnd.jupyter.widget-view+json": {
       "model_id": "79a034cee9de41b997c6ce09b330f9c7",
       "version_major": 2,
       "version_minor": 0
      },
      "text/plain": [
       "  0%|          | 0/2959 [00:00<?, ?it/s]"
      ]
     },
     "metadata": {},
     "output_type": "display_data"
    },
    {
     "name": "stdout",
     "output_type": "stream",
     "text": [
      "b_acc = 0.843\n",
      "kappa = 0.828\n",
      "f1_sc = [0.993 0.74  0.968 0.786] \n",
      "\n",
      "*****************************************************************************************************************************\n",
      "\n",
      "Model CNN training 5\n",
      "Epoch 1/6\n"
     ]
    },
    {
     "data": {
      "application/vnd.jupyter.widget-view+json": {
       "model_id": "97659a347e5a456a89002c659c4c92b9",
       "version_major": 2,
       "version_minor": 0
      },
      "text/plain": [
       "E1 Train\t:   0%|          | 0/23669 [00:00<?, ?it/s]"
      ]
     },
     "metadata": {},
     "output_type": "display_data"
    },
    {
     "name": "stdout",
     "output_type": "stream",
     "text": [
      "Train average CE loss: 0.1104\n",
      "\n"
     ]
    },
    {
     "data": {
      "application/vnd.jupyter.widget-view+json": {
       "model_id": "96045ee667ec41d39055345af8199419",
       "version_major": 2,
       "version_minor": 0
      },
      "text/plain": [
       "E1 Valid\t:   0%|          | 0/2959 [00:00<?, ?it/s]"
      ]
     },
     "metadata": {},
     "output_type": "display_data"
    },
    {
     "name": "stdout",
     "output_type": "stream",
     "text": [
      "Valid average CE loss: 0.0802\n",
      "Learning rate = 0.001 \n",
      "\n",
      "Metrics:\n",
      "\t- b_acc = 0.634\n",
      "\t- kappa = 0.701\n",
      "\t- F1-sc = [0.99  0.552 0.9   0.439]\n",
      "------------------------------\n",
      "\n",
      "Epoch 2/6\n"
     ]
    },
    {
     "data": {
      "application/vnd.jupyter.widget-view+json": {
       "model_id": "30e1ae7faba449829d4e73e4c9c255d0",
       "version_major": 2,
       "version_minor": 0
      },
      "text/plain": [
       "E2 Train\t:   0%|          | 0/23669 [00:00<?, ?it/s]"
      ]
     },
     "metadata": {},
     "output_type": "display_data"
    },
    {
     "name": "stdout",
     "output_type": "stream",
     "text": [
      "Train average CE loss: 0.0715\n",
      "\n"
     ]
    },
    {
     "data": {
      "application/vnd.jupyter.widget-view+json": {
       "model_id": "e33ed271207f42ac96f29f1494f27e75",
       "version_major": 2,
       "version_minor": 0
      },
      "text/plain": [
       "E2 Valid\t:   0%|          | 0/2959 [00:00<?, ?it/s]"
      ]
     },
     "metadata": {},
     "output_type": "display_data"
    },
    {
     "name": "stdout",
     "output_type": "stream",
     "text": [
      "Valid average CE loss: 0.0618\n",
      "Learning rate = 0.001 \n",
      "\n",
      "Metrics:\n",
      "\t- b_acc = 0.755\n",
      "\t- kappa = 0.771\n",
      "\t- F1-sc = [0.991 0.632 0.949 0.688]\n",
      "------------------------------\n",
      "\n",
      "Epoch 3/6\n"
     ]
    },
    {
     "data": {
      "application/vnd.jupyter.widget-view+json": {
       "model_id": "4d49072bdea04a4999a756d430eb0315",
       "version_major": 2,
       "version_minor": 0
      },
      "text/plain": [
       "E3 Train\t:   0%|          | 0/23669 [00:00<?, ?it/s]"
      ]
     },
     "metadata": {},
     "output_type": "display_data"
    },
    {
     "name": "stdout",
     "output_type": "stream",
     "text": [
      "Train average CE loss: 0.0586\n",
      "\n"
     ]
    },
    {
     "data": {
      "application/vnd.jupyter.widget-view+json": {
       "model_id": "69f2227cb5324fd583e83906f3d9ad69",
       "version_major": 2,
       "version_minor": 0
      },
      "text/plain": [
       "E3 Valid\t:   0%|          | 0/2959 [00:00<?, ?it/s]"
      ]
     },
     "metadata": {},
     "output_type": "display_data"
    },
    {
     "name": "stdout",
     "output_type": "stream",
     "text": [
      "Valid average CE loss: 0.0494\n",
      "Learning rate = 0.001 \n",
      "\n",
      "Metrics:\n",
      "\t- b_acc = 0.807\n",
      "\t- kappa = 0.809\n",
      "\t- F1-sc = [0.993 0.686 0.966 0.772]\n",
      "------------------------------\n",
      "\n",
      "Epoch 4/6\n"
     ]
    },
    {
     "data": {
      "application/vnd.jupyter.widget-view+json": {
       "model_id": "ce93f3e792a84015a880f62fc80564b3",
       "version_major": 2,
       "version_minor": 0
      },
      "text/plain": [
       "E4 Train\t:   0%|          | 0/23669 [00:00<?, ?it/s]"
      ]
     },
     "metadata": {},
     "output_type": "display_data"
    },
    {
     "name": "stdout",
     "output_type": "stream",
     "text": [
      "Train average CE loss: 0.0529\n",
      "\n"
     ]
    },
    {
     "data": {
      "application/vnd.jupyter.widget-view+json": {
       "model_id": "bfb91f7e6f0b42168ab95ef1130df142",
       "version_major": 2,
       "version_minor": 0
      },
      "text/plain": [
       "E4 Valid\t:   0%|          | 0/2959 [00:00<?, ?it/s]"
      ]
     },
     "metadata": {},
     "output_type": "display_data"
    },
    {
     "name": "stdout",
     "output_type": "stream",
     "text": [
      "Valid average CE loss: 0.0482\n",
      "Learning rate = 0.001 \n",
      "\n",
      "Metrics:\n",
      "\t- b_acc = 0.805\n",
      "\t- kappa = 0.82\n",
      "\t- F1-sc = [0.993 0.706 0.968 0.765]\n",
      "------------------------------\n",
      "\n",
      "Epoch 5/6\n"
     ]
    },
    {
     "data": {
      "application/vnd.jupyter.widget-view+json": {
       "model_id": "fcfb7624b86a4095996e8642d289ca66",
       "version_major": 2,
       "version_minor": 0
      },
      "text/plain": [
       "E5 Train\t:   0%|          | 0/23669 [00:00<?, ?it/s]"
      ]
     },
     "metadata": {},
     "output_type": "display_data"
    },
    {
     "name": "stdout",
     "output_type": "stream",
     "text": [
      "Train average CE loss: 0.0440\n",
      "\n"
     ]
    },
    {
     "data": {
      "application/vnd.jupyter.widget-view+json": {
       "model_id": "5007eaea5c00464aaa3c0c3d9322f086",
       "version_major": 2,
       "version_minor": 0
      },
      "text/plain": [
       "E5 Valid\t:   0%|          | 0/2959 [00:00<?, ?it/s]"
      ]
     },
     "metadata": {},
     "output_type": "display_data"
    },
    {
     "name": "stdout",
     "output_type": "stream",
     "text": [
      "Valid average CE loss: 0.0419\n",
      "Learning rate = 0.0005 \n",
      "\n",
      "Metrics:\n",
      "\t- b_acc = 0.815\n",
      "\t- kappa = 0.822\n",
      "\t- F1-sc = [0.993 0.71  0.968 0.767]\n",
      "------------------------------\n",
      "\n",
      "Epoch 6/6\n"
     ]
    },
    {
     "data": {
      "application/vnd.jupyter.widget-view+json": {
       "model_id": "16e6c2fd1ca542f98c19678be8c22746",
       "version_major": 2,
       "version_minor": 0
      },
      "text/plain": [
       "E6 Train\t:   0%|          | 0/23669 [00:00<?, ?it/s]"
      ]
     },
     "metadata": {},
     "output_type": "display_data"
    },
    {
     "name": "stdout",
     "output_type": "stream",
     "text": [
      "Train average CE loss: 0.0417\n",
      "\n"
     ]
    },
    {
     "data": {
      "application/vnd.jupyter.widget-view+json": {
       "model_id": "ce603e80cab74cbe8639edad3b5ca45f",
       "version_major": 2,
       "version_minor": 0
      },
      "text/plain": [
       "E6 Valid\t:   0%|          | 0/2959 [00:00<?, ?it/s]"
      ]
     },
     "metadata": {},
     "output_type": "display_data"
    },
    {
     "name": "stdout",
     "output_type": "stream",
     "text": [
      "Valid average CE loss: 0.0391\n",
      "Learning rate = 0.0005 \n",
      "\n",
      "Metrics:\n",
      "\t- b_acc = 0.84\n",
      "\t- kappa = 0.835\n",
      "\t- F1-sc = [0.994 0.727 0.973 0.819]\n",
      "------------------------------\n",
      "\n",
      "Training complete in 0:06:43 (hh:mm:ss)\n",
      "Best average F1-score: 0.878080 was at epoch 6\n",
      "\n",
      "Evaluate CNN model_5 on test data:\n"
     ]
    },
    {
     "data": {
      "application/vnd.jupyter.widget-view+json": {
       "model_id": "72e3710531434a9fa93a677853165789",
       "version_major": 2,
       "version_minor": 0
      },
      "text/plain": [
       "  0%|          | 0/2959 [00:00<?, ?it/s]"
      ]
     },
     "metadata": {},
     "output_type": "display_data"
    },
    {
     "name": "stdout",
     "output_type": "stream",
     "text": [
      "b_acc = 0.826\n",
      "kappa = 0.828\n",
      "f1_sc = [0.993 0.727 0.97  0.777] \n",
      "\n",
      "*****************************************************************************************************************************\n",
      "\n",
      "MLP {'b_acc': 0.766, 'kappa': 0.771, 'f1_sc': array([[0.991, 0.628, 0.964, 0.73 ]])}\n",
      "CNN {'b_acc': 0.823, 'kappa': 0.824, 'f1_sc': array([[0.993, 0.729, 0.964, 0.771]])}\n"
     ]
    }
   ],
   "source": [
    "metrics = {'b_acc': 0,\n",
    "           'kappa': 0,\n",
    "           'f1_sc': np.zeros((1, 4))}\n",
    "for i in trange(num_trainings, desc=f'Trainings for CNN'):\n",
    "    seed_everything(i)\n",
    "    model = CNN(batch_size=32, window_size=32, features_size=5)\n",
    "    model = model.to(device)\n",
    "    criterion = nn.CrossEntropyLoss()\n",
    "    optimizer = Adam(model.parameters(), lr=0.001)\n",
    "    exp_lr_scheduler = lr_scheduler.StepLR(optimizer, step_size=4, gamma=0.5)\n",
    "    print(f'Model {model._get_name()} training {i+1}')\n",
    "    _, model = train_model(model, dataloaders, criterion,\n",
    "                             optimizer, exp_lr_scheduler, num_epochs=num_epochs, SEED=i)\n",
    "    print()\n",
    "    print(f'Evaluate {model._get_name()} model_{i+1} on test data:')\n",
    "    b_accuracy, kappa, f1 = test(model, dataloaders['Test'], SEED=i)\n",
    "    metrics['b_acc'] += b_accuracy\n",
    "    metrics['kappa'] += kappa\n",
    "    metrics['f1_sc'] += f1\n",
    "    print('b_acc =', np.around(b_accuracy, 3))\n",
    "    print('kappa =', np.around(kappa, 3))\n",
    "    print('f1_sc =', np.around(f1, 3), '\\n')\n",
    "    print('*' * 125, end='\\n\\n')\n",
    "average_metrics[model._get_name()] = {}\n",
    "for key, value in metrics.items():\n",
    "    average_metrics[model._get_name()][key] = np.around(value / num_trainings, 3)\n",
    "    \n",
    "for key, value in average_metrics.items():\n",
    "    print(key, value)"
   ]
  },
  {
   "cell_type": "markdown",
   "metadata": {},
   "source": [
    "# GRU"
   ]
  },
  {
   "cell_type": "code",
   "execution_count": 36,
   "metadata": {
    "execution": {
     "iopub.execute_input": "2024-02-01T22:49:54.815004Z",
     "iopub.status.busy": "2024-02-01T22:49:54.814701Z",
     "iopub.status.idle": "2024-02-01T23:29:19.906907Z",
     "shell.execute_reply": "2024-02-01T23:29:19.905831Z",
     "shell.execute_reply.started": "2024-02-01T22:49:54.814978Z"
    }
   },
   "outputs": [
    {
     "data": {
      "application/vnd.jupyter.widget-view+json": {
       "model_id": "de4aee98bac444f2821817f02f9f52b2",
       "version_major": 2,
       "version_minor": 0
      },
      "text/plain": [
       "Trainings for GRU:   0%|          | 0/5 [00:00<?, ?it/s]"
      ]
     },
     "metadata": {},
     "output_type": "display_data"
    },
    {
     "name": "stdout",
     "output_type": "stream",
     "text": [
      "Model GRU training 1\n",
      "Epoch 1/6\n"
     ]
    },
    {
     "data": {
      "application/vnd.jupyter.widget-view+json": {
       "model_id": "6c0e5e5958ac4e7db5af9623942ba4ea",
       "version_major": 2,
       "version_minor": 0
      },
      "text/plain": [
       "E1 Train\t:   0%|          | 0/23669 [00:00<?, ?it/s]"
      ]
     },
     "metadata": {},
     "output_type": "display_data"
    },
    {
     "name": "stdout",
     "output_type": "stream",
     "text": [
      "Train average CE loss: 0.0822\n",
      "\n"
     ]
    },
    {
     "data": {
      "application/vnd.jupyter.widget-view+json": {
       "model_id": "ff30a27141264f1c950b9b6747f81e76",
       "version_major": 2,
       "version_minor": 0
      },
      "text/plain": [
       "E1 Valid\t:   0%|          | 0/2959 [00:00<?, ?it/s]"
      ]
     },
     "metadata": {},
     "output_type": "display_data"
    },
    {
     "name": "stdout",
     "output_type": "stream",
     "text": [
      "Valid average CE loss: 0.0568\n",
      "Learning rate = 0.001 \n",
      "\n",
      "Metrics:\n",
      "\t- b_acc = 0.783\n",
      "\t- kappa = 0.787\n",
      "\t- F1-sc = [0.992 0.671 0.934 0.778]\n",
      "------------------------------\n",
      "\n",
      "Epoch 2/6\n"
     ]
    },
    {
     "data": {
      "application/vnd.jupyter.widget-view+json": {
       "model_id": "382f93c806e0476fa44ac334930b19a3",
       "version_major": 2,
       "version_minor": 0
      },
      "text/plain": [
       "E2 Train\t:   0%|          | 0/23669 [00:00<?, ?it/s]"
      ]
     },
     "metadata": {},
     "output_type": "display_data"
    },
    {
     "name": "stdout",
     "output_type": "stream",
     "text": [
      "Train average CE loss: 0.0535\n",
      "\n"
     ]
    },
    {
     "data": {
      "application/vnd.jupyter.widget-view+json": {
       "model_id": "c5eb492822c743d0857870fc6e68a04c",
       "version_major": 2,
       "version_minor": 0
      },
      "text/plain": [
       "E2 Valid\t:   0%|          | 0/2959 [00:00<?, ?it/s]"
      ]
     },
     "metadata": {},
     "output_type": "display_data"
    },
    {
     "name": "stdout",
     "output_type": "stream",
     "text": [
      "Valid average CE loss: 0.0465\n",
      "Learning rate = 0.001 \n",
      "\n",
      "Metrics:\n",
      "\t- b_acc = 0.814\n",
      "\t- kappa = 0.817\n",
      "\t- F1-sc = [0.993 0.734 0.938 0.805]\n",
      "------------------------------\n",
      "\n",
      "Epoch 3/6\n"
     ]
    },
    {
     "data": {
      "application/vnd.jupyter.widget-view+json": {
       "model_id": "99cd277104a44a448a362f1780cf3df8",
       "version_major": 2,
       "version_minor": 0
      },
      "text/plain": [
       "E3 Train\t:   0%|          | 0/23669 [00:00<?, ?it/s]"
      ]
     },
     "metadata": {},
     "output_type": "display_data"
    },
    {
     "name": "stdout",
     "output_type": "stream",
     "text": [
      "Train average CE loss: 0.0478\n",
      "\n"
     ]
    },
    {
     "data": {
      "application/vnd.jupyter.widget-view+json": {
       "model_id": "ed57fceba25040f9abe8c954f55f9c71",
       "version_major": 2,
       "version_minor": 0
      },
      "text/plain": [
       "E3 Valid\t:   0%|          | 0/2959 [00:00<?, ?it/s]"
      ]
     },
     "metadata": {},
     "output_type": "display_data"
    },
    {
     "name": "stdout",
     "output_type": "stream",
     "text": [
      "Valid average CE loss: 0.0442\n",
      "Learning rate = 0.001 \n",
      "\n",
      "Metrics:\n",
      "\t- b_acc = 0.832\n",
      "\t- kappa = 0.825\n",
      "\t- F1-sc = [0.993 0.722 0.954 0.857]\n",
      "------------------------------\n",
      "\n",
      "Epoch 4/6\n"
     ]
    },
    {
     "data": {
      "application/vnd.jupyter.widget-view+json": {
       "model_id": "da46e5e533bb4f099a2c914fd8e8d838",
       "version_major": 2,
       "version_minor": 0
      },
      "text/plain": [
       "E4 Train\t:   0%|          | 0/23669 [00:00<?, ?it/s]"
      ]
     },
     "metadata": {},
     "output_type": "display_data"
    },
    {
     "name": "stdout",
     "output_type": "stream",
     "text": [
      "Train average CE loss: 0.0459\n",
      "\n"
     ]
    },
    {
     "data": {
      "application/vnd.jupyter.widget-view+json": {
       "model_id": "9c83286fb5dd4705b599d667096da42f",
       "version_major": 2,
       "version_minor": 0
      },
      "text/plain": [
       "E4 Valid\t:   0%|          | 0/2959 [00:00<?, ?it/s]"
      ]
     },
     "metadata": {},
     "output_type": "display_data"
    },
    {
     "name": "stdout",
     "output_type": "stream",
     "text": [
      "Valid average CE loss: 0.0433\n",
      "Learning rate = 0.001 \n",
      "\n",
      "Metrics:\n",
      "\t- b_acc = 0.849\n",
      "\t- kappa = 0.836\n",
      "\t- F1-sc = [0.993 0.748 0.956 0.878]\n",
      "------------------------------\n",
      "\n",
      "Epoch 5/6\n"
     ]
    },
    {
     "data": {
      "application/vnd.jupyter.widget-view+json": {
       "model_id": "c2ecb600526d40cd8b3c5ab6c4326974",
       "version_major": 2,
       "version_minor": 0
      },
      "text/plain": [
       "E5 Train\t:   0%|          | 0/23669 [00:00<?, ?it/s]"
      ]
     },
     "metadata": {},
     "output_type": "display_data"
    },
    {
     "name": "stdout",
     "output_type": "stream",
     "text": [
      "Train average CE loss: 0.0369\n",
      "\n"
     ]
    },
    {
     "data": {
      "application/vnd.jupyter.widget-view+json": {
       "model_id": "df96c86dcf194982ab6d5a9848ac4d6d",
       "version_major": 2,
       "version_minor": 0
      },
      "text/plain": [
       "E5 Valid\t:   0%|          | 0/2959 [00:00<?, ?it/s]"
      ]
     },
     "metadata": {},
     "output_type": "display_data"
    },
    {
     "name": "stdout",
     "output_type": "stream",
     "text": [
      "Valid average CE loss: 0.0338\n",
      "Learning rate = 0.0005 \n",
      "\n",
      "Metrics:\n",
      "\t- b_acc = 0.889\n",
      "\t- kappa = 0.866\n",
      "\t- F1-sc = [0.995 0.783 0.975 0.925]\n",
      "------------------------------\n",
      "\n",
      "Epoch 6/6\n"
     ]
    },
    {
     "data": {
      "application/vnd.jupyter.widget-view+json": {
       "model_id": "fce46be2d13242d781e4e76e52c66f57",
       "version_major": 2,
       "version_minor": 0
      },
      "text/plain": [
       "E6 Train\t:   0%|          | 0/23669 [00:00<?, ?it/s]"
      ]
     },
     "metadata": {},
     "output_type": "display_data"
    },
    {
     "name": "stdout",
     "output_type": "stream",
     "text": [
      "Train average CE loss: 0.0344\n",
      "\n"
     ]
    },
    {
     "data": {
      "application/vnd.jupyter.widget-view+json": {
       "model_id": "f9ff7dbafaf94937ad3a98e639cc4d97",
       "version_major": 2,
       "version_minor": 0
      },
      "text/plain": [
       "E6 Valid\t:   0%|          | 0/2959 [00:00<?, ?it/s]"
      ]
     },
     "metadata": {},
     "output_type": "display_data"
    },
    {
     "name": "stdout",
     "output_type": "stream",
     "text": [
      "Valid average CE loss: 0.0458\n",
      "Learning rate = 0.0005 \n",
      "\n",
      "Metrics:\n",
      "\t- b_acc = 0.896\n",
      "\t- kappa = 0.851\n",
      "\t- F1-sc = [0.994 0.794 0.92  0.929]\n",
      "------------------------------\n",
      "\n",
      "Training complete in 0:07:47 (hh:mm:ss)\n",
      "Best average F1-score: 0.919444 was at epoch 5\n",
      "\n",
      "Evaluate GRU model_1 on test data:\n"
     ]
    },
    {
     "data": {
      "application/vnd.jupyter.widget-view+json": {
       "model_id": "7195bbc860f94d43bdb819698974919a",
       "version_major": 2,
       "version_minor": 0
      },
      "text/plain": [
       "  0%|          | 0/2959 [00:00<?, ?it/s]"
      ]
     },
     "metadata": {},
     "output_type": "display_data"
    },
    {
     "name": "stdout",
     "output_type": "stream",
     "text": [
      "b_acc = 0.877\n",
      "kappa = 0.86\n",
      "f1_sc = [0.994 0.782 0.973 0.877] \n",
      "\n",
      "*****************************************************************************************************************************\n",
      "\n",
      "Model GRU training 2\n",
      "Epoch 1/6\n"
     ]
    },
    {
     "data": {
      "application/vnd.jupyter.widget-view+json": {
       "model_id": "01a7dc8391224ac996d8927a743faac2",
       "version_major": 2,
       "version_minor": 0
      },
      "text/plain": [
       "E1 Train\t:   0%|          | 0/23669 [00:00<?, ?it/s]"
      ]
     },
     "metadata": {},
     "output_type": "display_data"
    },
    {
     "name": "stdout",
     "output_type": "stream",
     "text": [
      "Train average CE loss: 0.0795\n",
      "\n"
     ]
    },
    {
     "data": {
      "application/vnd.jupyter.widget-view+json": {
       "model_id": "14122f1dc7e644a680c9f9acf406c87e",
       "version_major": 2,
       "version_minor": 0
      },
      "text/plain": [
       "E1 Valid\t:   0%|          | 0/2959 [00:00<?, ?it/s]"
      ]
     },
     "metadata": {},
     "output_type": "display_data"
    },
    {
     "name": "stdout",
     "output_type": "stream",
     "text": [
      "Valid average CE loss: 0.0500\n",
      "Learning rate = 0.001 \n",
      "\n",
      "Metrics:\n",
      "\t- b_acc = 0.809\n",
      "\t- kappa = 0.798\n",
      "\t- F1-sc = [0.992 0.69  0.941 0.794]\n",
      "------------------------------\n",
      "\n",
      "Epoch 2/6\n"
     ]
    },
    {
     "data": {
      "application/vnd.jupyter.widget-view+json": {
       "model_id": "24a356afd6bc4c3387a2c5f66502d488",
       "version_major": 2,
       "version_minor": 0
      },
      "text/plain": [
       "E2 Train\t:   0%|          | 0/23669 [00:00<?, ?it/s]"
      ]
     },
     "metadata": {},
     "output_type": "display_data"
    },
    {
     "name": "stdout",
     "output_type": "stream",
     "text": [
      "Train average CE loss: 0.0523\n",
      "\n"
     ]
    },
    {
     "data": {
      "application/vnd.jupyter.widget-view+json": {
       "model_id": "4dcf16823aa34c0f92bbbcd0d07a1a08",
       "version_major": 2,
       "version_minor": 0
      },
      "text/plain": [
       "E2 Valid\t:   0%|          | 0/2959 [00:00<?, ?it/s]"
      ]
     },
     "metadata": {},
     "output_type": "display_data"
    },
    {
     "name": "stdout",
     "output_type": "stream",
     "text": [
      "Valid average CE loss: 0.0463\n",
      "Learning rate = 0.001 \n",
      "\n",
      "Metrics:\n",
      "\t- b_acc = 0.805\n",
      "\t- kappa = 0.805\n",
      "\t- F1-sc = [0.993 0.689 0.949 0.831]\n",
      "------------------------------\n",
      "\n",
      "Epoch 3/6\n"
     ]
    },
    {
     "data": {
      "application/vnd.jupyter.widget-view+json": {
       "model_id": "8a822c777ce14a5bb6757f0bc7ba13c8",
       "version_major": 2,
       "version_minor": 0
      },
      "text/plain": [
       "E3 Train\t:   0%|          | 0/23669 [00:00<?, ?it/s]"
      ]
     },
     "metadata": {},
     "output_type": "display_data"
    },
    {
     "name": "stdout",
     "output_type": "stream",
     "text": [
      "Train average CE loss: 0.0477\n",
      "\n"
     ]
    },
    {
     "data": {
      "application/vnd.jupyter.widget-view+json": {
       "model_id": "cf08c931d5ca4009b5e8a6b0c992d11d",
       "version_major": 2,
       "version_minor": 0
      },
      "text/plain": [
       "E3 Valid\t:   0%|          | 0/2959 [00:00<?, ?it/s]"
      ]
     },
     "metadata": {},
     "output_type": "display_data"
    },
    {
     "name": "stdout",
     "output_type": "stream",
     "text": [
      "Valid average CE loss: 0.0419\n",
      "Learning rate = 0.001 \n",
      "\n",
      "Metrics:\n",
      "\t- b_acc = 0.852\n",
      "\t- kappa = 0.832\n",
      "\t- F1-sc = [0.994 0.731 0.959 0.869]\n",
      "------------------------------\n",
      "\n",
      "Epoch 4/6\n"
     ]
    },
    {
     "data": {
      "application/vnd.jupyter.widget-view+json": {
       "model_id": "657ddd433e9c43dc8d5016c448a62510",
       "version_major": 2,
       "version_minor": 0
      },
      "text/plain": [
       "E4 Train\t:   0%|          | 0/23669 [00:00<?, ?it/s]"
      ]
     },
     "metadata": {},
     "output_type": "display_data"
    },
    {
     "name": "stdout",
     "output_type": "stream",
     "text": [
      "Train average CE loss: 0.0457\n",
      "\n"
     ]
    },
    {
     "data": {
      "application/vnd.jupyter.widget-view+json": {
       "model_id": "e18f622aff99465b96d51b9773c91f90",
       "version_major": 2,
       "version_minor": 0
      },
      "text/plain": [
       "E4 Valid\t:   0%|          | 0/2959 [00:00<?, ?it/s]"
      ]
     },
     "metadata": {},
     "output_type": "display_data"
    },
    {
     "name": "stdout",
     "output_type": "stream",
     "text": [
      "Valid average CE loss: 0.0468\n",
      "Learning rate = 0.001 \n",
      "\n",
      "Metrics:\n",
      "\t- b_acc = 0.797\n",
      "\t- kappa = 0.816\n",
      "\t- F1-sc = [0.993 0.717 0.947 0.82 ]\n",
      "------------------------------\n",
      "\n",
      "Epoch 5/6\n"
     ]
    },
    {
     "data": {
      "application/vnd.jupyter.widget-view+json": {
       "model_id": "4c27d7c5e7134df9b2ad3ee7471881db",
       "version_major": 2,
       "version_minor": 0
      },
      "text/plain": [
       "E5 Train\t:   0%|          | 0/23669 [00:00<?, ?it/s]"
      ]
     },
     "metadata": {},
     "output_type": "display_data"
    },
    {
     "name": "stdout",
     "output_type": "stream",
     "text": [
      "Train average CE loss: 0.0363\n",
      "\n"
     ]
    },
    {
     "data": {
      "application/vnd.jupyter.widget-view+json": {
       "model_id": "074ae35d6c7d422e833aba6c85667fd1",
       "version_major": 2,
       "version_minor": 0
      },
      "text/plain": [
       "E5 Valid\t:   0%|          | 0/2959 [00:00<?, ?it/s]"
      ]
     },
     "metadata": {},
     "output_type": "display_data"
    },
    {
     "name": "stdout",
     "output_type": "stream",
     "text": [
      "Valid average CE loss: 0.0331\n",
      "Learning rate = 0.0005 \n",
      "\n",
      "Metrics:\n",
      "\t- b_acc = 0.887\n",
      "\t- kappa = 0.866\n",
      "\t- F1-sc = [0.995 0.779 0.976 0.933]\n",
      "------------------------------\n",
      "\n",
      "Epoch 6/6\n"
     ]
    },
    {
     "data": {
      "application/vnd.jupyter.widget-view+json": {
       "model_id": "99a0094d9c3f4ad392a63e33b947101b",
       "version_major": 2,
       "version_minor": 0
      },
      "text/plain": [
       "E6 Train\t:   0%|          | 0/23669 [00:00<?, ?it/s]"
      ]
     },
     "metadata": {},
     "output_type": "display_data"
    },
    {
     "name": "stdout",
     "output_type": "stream",
     "text": [
      "Train average CE loss: 0.0340\n",
      "\n"
     ]
    },
    {
     "data": {
      "application/vnd.jupyter.widget-view+json": {
       "model_id": "3d847e76943840e6ae82017e560c9bb2",
       "version_major": 2,
       "version_minor": 0
      },
      "text/plain": [
       "E6 Valid\t:   0%|          | 0/2959 [00:00<?, ?it/s]"
      ]
     },
     "metadata": {},
     "output_type": "display_data"
    },
    {
     "name": "stdout",
     "output_type": "stream",
     "text": [
      "Valid average CE loss: 0.0305\n",
      "Learning rate = 0.0005 \n",
      "\n",
      "Metrics:\n",
      "\t- b_acc = 0.888\n",
      "\t- kappa = 0.871\n",
      "\t- F1-sc = [0.995 0.785 0.978 0.938]\n",
      "------------------------------\n",
      "\n",
      "Training complete in 0:07:46 (hh:mm:ss)\n",
      "Best average F1-score: 0.924084 was at epoch 6\n",
      "\n",
      "Evaluate GRU model_2 on test data:\n"
     ]
    },
    {
     "data": {
      "application/vnd.jupyter.widget-view+json": {
       "model_id": "41405583317c49f6ad022899746e450c",
       "version_major": 2,
       "version_minor": 0
      },
      "text/plain": [
       "  0%|          | 0/2959 [00:00<?, ?it/s]"
      ]
     },
     "metadata": {},
     "output_type": "display_data"
    },
    {
     "name": "stdout",
     "output_type": "stream",
     "text": [
      "b_acc = 0.867\n",
      "kappa = 0.867\n",
      "f1_sc = [0.995 0.788 0.975 0.882] \n",
      "\n",
      "*****************************************************************************************************************************\n",
      "\n",
      "Model GRU training 3\n",
      "Epoch 1/6\n"
     ]
    },
    {
     "data": {
      "application/vnd.jupyter.widget-view+json": {
       "model_id": "a7562db857cd403296c06c7897ee1ff9",
       "version_major": 2,
       "version_minor": 0
      },
      "text/plain": [
       "E1 Train\t:   0%|          | 0/23669 [00:00<?, ?it/s]"
      ]
     },
     "metadata": {},
     "output_type": "display_data"
    },
    {
     "name": "stdout",
     "output_type": "stream",
     "text": [
      "Train average CE loss: 0.0798\n",
      "\n"
     ]
    },
    {
     "data": {
      "application/vnd.jupyter.widget-view+json": {
       "model_id": "ab9953876ffe421188548522f13fadd2",
       "version_major": 2,
       "version_minor": 0
      },
      "text/plain": [
       "E1 Valid\t:   0%|          | 0/2959 [00:00<?, ?it/s]"
      ]
     },
     "metadata": {},
     "output_type": "display_data"
    },
    {
     "name": "stdout",
     "output_type": "stream",
     "text": [
      "Valid average CE loss: 0.0510\n",
      "Learning rate = 0.001 \n",
      "\n",
      "Metrics:\n",
      "\t- b_acc = 0.809\n",
      "\t- kappa = 0.812\n",
      "\t- F1-sc = [0.993 0.729 0.93  0.783]\n",
      "------------------------------\n",
      "\n",
      "Epoch 2/6\n"
     ]
    },
    {
     "data": {
      "application/vnd.jupyter.widget-view+json": {
       "model_id": "461210d1c9724dc1a85f256c00b0cfaa",
       "version_major": 2,
       "version_minor": 0
      },
      "text/plain": [
       "E2 Train\t:   0%|          | 0/23669 [00:00<?, ?it/s]"
      ]
     },
     "metadata": {},
     "output_type": "display_data"
    },
    {
     "name": "stdout",
     "output_type": "stream",
     "text": [
      "Train average CE loss: 0.0512\n",
      "\n"
     ]
    },
    {
     "data": {
      "application/vnd.jupyter.widget-view+json": {
       "model_id": "4d43d6d2430840fea393cde6e092f019",
       "version_major": 2,
       "version_minor": 0
      },
      "text/plain": [
       "E2 Valid\t:   0%|          | 0/2959 [00:00<?, ?it/s]"
      ]
     },
     "metadata": {},
     "output_type": "display_data"
    },
    {
     "name": "stdout",
     "output_type": "stream",
     "text": [
      "Valid average CE loss: 0.0418\n",
      "Learning rate = 0.001 \n",
      "\n",
      "Metrics:\n",
      "\t- b_acc = 0.847\n",
      "\t- kappa = 0.831\n",
      "\t- F1-sc = [0.993 0.733 0.953 0.857]\n",
      "------------------------------\n",
      "\n",
      "Epoch 3/6\n"
     ]
    },
    {
     "data": {
      "application/vnd.jupyter.widget-view+json": {
       "model_id": "29300e7ed8a74e8cbde8ccd65fcb5484",
       "version_major": 2,
       "version_minor": 0
      },
      "text/plain": [
       "E3 Train\t:   0%|          | 0/23669 [00:00<?, ?it/s]"
      ]
     },
     "metadata": {},
     "output_type": "display_data"
    },
    {
     "name": "stdout",
     "output_type": "stream",
     "text": [
      "Train average CE loss: 0.0469\n",
      "\n"
     ]
    },
    {
     "data": {
      "application/vnd.jupyter.widget-view+json": {
       "model_id": "79cab4f4f3e7402fa464c5a67a6b7b8e",
       "version_major": 2,
       "version_minor": 0
      },
      "text/plain": [
       "E3 Valid\t:   0%|          | 0/2959 [00:00<?, ?it/s]"
      ]
     },
     "metadata": {},
     "output_type": "display_data"
    },
    {
     "name": "stdout",
     "output_type": "stream",
     "text": [
      "Valid average CE loss: 0.0407\n",
      "Learning rate = 0.001 \n",
      "\n",
      "Metrics:\n",
      "\t- b_acc = 0.837\n",
      "\t- kappa = 0.84\n",
      "\t- F1-sc = [0.994 0.76  0.951 0.833]\n",
      "------------------------------\n",
      "\n",
      "Epoch 4/6\n"
     ]
    },
    {
     "data": {
      "application/vnd.jupyter.widget-view+json": {
       "model_id": "79e08c85c2e74001b09d9b86527c3c26",
       "version_major": 2,
       "version_minor": 0
      },
      "text/plain": [
       "E4 Train\t:   0%|          | 0/23669 [00:00<?, ?it/s]"
      ]
     },
     "metadata": {},
     "output_type": "display_data"
    },
    {
     "name": "stdout",
     "output_type": "stream",
     "text": [
      "Train average CE loss: 0.0449\n",
      "\n"
     ]
    },
    {
     "data": {
      "application/vnd.jupyter.widget-view+json": {
       "model_id": "5ba78449638b41cdaf9749fe6e7b4077",
       "version_major": 2,
       "version_minor": 0
      },
      "text/plain": [
       "E4 Valid\t:   0%|          | 0/2959 [00:00<?, ?it/s]"
      ]
     },
     "metadata": {},
     "output_type": "display_data"
    },
    {
     "name": "stdout",
     "output_type": "stream",
     "text": [
      "Valid average CE loss: 0.0452\n",
      "Learning rate = 0.001 \n",
      "\n",
      "Metrics:\n",
      "\t- b_acc = 0.851\n",
      "\t- kappa = 0.825\n",
      "\t- F1-sc = [0.993 0.753 0.923 0.867]\n",
      "------------------------------\n",
      "\n",
      "Epoch 5/6\n"
     ]
    },
    {
     "data": {
      "application/vnd.jupyter.widget-view+json": {
       "model_id": "e1eab3a4d9d94545b3e456ed87599877",
       "version_major": 2,
       "version_minor": 0
      },
      "text/plain": [
       "E5 Train\t:   0%|          | 0/23669 [00:00<?, ?it/s]"
      ]
     },
     "metadata": {},
     "output_type": "display_data"
    },
    {
     "name": "stdout",
     "output_type": "stream",
     "text": [
      "Train average CE loss: 0.0361\n",
      "\n"
     ]
    },
    {
     "data": {
      "application/vnd.jupyter.widget-view+json": {
       "model_id": "91b6d42c893644c89ecd93f2c2d5542d",
       "version_major": 2,
       "version_minor": 0
      },
      "text/plain": [
       "E5 Valid\t:   0%|          | 0/2959 [00:00<?, ?it/s]"
      ]
     },
     "metadata": {},
     "output_type": "display_data"
    },
    {
     "name": "stdout",
     "output_type": "stream",
     "text": [
      "Valid average CE loss: 0.0308\n",
      "Learning rate = 0.0005 \n",
      "\n",
      "Metrics:\n",
      "\t- b_acc = 0.889\n",
      "\t- kappa = 0.871\n",
      "\t- F1-sc = [0.995 0.784 0.979 0.933]\n",
      "------------------------------\n",
      "\n",
      "Epoch 6/6\n"
     ]
    },
    {
     "data": {
      "application/vnd.jupyter.widget-view+json": {
       "model_id": "698f06d40ac04d55a980d33030c97183",
       "version_major": 2,
       "version_minor": 0
      },
      "text/plain": [
       "E6 Train\t:   0%|          | 0/23669 [00:00<?, ?it/s]"
      ]
     },
     "metadata": {},
     "output_type": "display_data"
    },
    {
     "name": "stdout",
     "output_type": "stream",
     "text": [
      "Train average CE loss: 0.0336\n",
      "\n"
     ]
    },
    {
     "data": {
      "application/vnd.jupyter.widget-view+json": {
       "model_id": "7100c10458d04cac82c134a2d068a169",
       "version_major": 2,
       "version_minor": 0
      },
      "text/plain": [
       "E6 Valid\t:   0%|          | 0/2959 [00:00<?, ?it/s]"
      ]
     },
     "metadata": {},
     "output_type": "display_data"
    },
    {
     "name": "stdout",
     "output_type": "stream",
     "text": [
      "Valid average CE loss: 0.0292\n",
      "Learning rate = 0.0005 \n",
      "\n",
      "Metrics:\n",
      "\t- b_acc = 0.899\n",
      "\t- kappa = 0.877\n",
      "\t- F1-sc = [0.995 0.795 0.983 0.934]\n",
      "------------------------------\n",
      "\n",
      "Training complete in 0:07:47 (hh:mm:ss)\n",
      "Best average F1-score: 0.926775 was at epoch 6\n",
      "\n",
      "Evaluate GRU model_3 on test data:\n"
     ]
    },
    {
     "data": {
      "application/vnd.jupyter.widget-view+json": {
       "model_id": "1be123a26d574f8081634ea3b90138da",
       "version_major": 2,
       "version_minor": 0
      },
      "text/plain": [
       "  0%|          | 0/2959 [00:00<?, ?it/s]"
      ]
     },
     "metadata": {},
     "output_type": "display_data"
    },
    {
     "name": "stdout",
     "output_type": "stream",
     "text": [
      "b_acc = 0.893\n",
      "kappa = 0.874\n",
      "f1_sc = [0.995 0.797 0.983 0.895] \n",
      "\n",
      "*****************************************************************************************************************************\n",
      "\n",
      "Model GRU training 4\n",
      "Epoch 1/6\n"
     ]
    },
    {
     "data": {
      "application/vnd.jupyter.widget-view+json": {
       "model_id": "8ead5f8849ea445e9532f2ac07cf1be6",
       "version_major": 2,
       "version_minor": 0
      },
      "text/plain": [
       "E1 Train\t:   0%|          | 0/23669 [00:00<?, ?it/s]"
      ]
     },
     "metadata": {},
     "output_type": "display_data"
    },
    {
     "name": "stdout",
     "output_type": "stream",
     "text": [
      "Train average CE loss: 0.0795\n",
      "\n"
     ]
    },
    {
     "data": {
      "application/vnd.jupyter.widget-view+json": {
       "model_id": "67f8c236d07b4dc49798182a2d9faf3b",
       "version_major": 2,
       "version_minor": 0
      },
      "text/plain": [
       "E1 Valid\t:   0%|          | 0/2959 [00:00<?, ?it/s]"
      ]
     },
     "metadata": {},
     "output_type": "display_data"
    },
    {
     "name": "stdout",
     "output_type": "stream",
     "text": [
      "Valid average CE loss: 0.0565\n",
      "Learning rate = 0.001 \n",
      "\n",
      "Metrics:\n",
      "\t- b_acc = 0.754\n",
      "\t- kappa = 0.77\n",
      "\t- F1-sc = [0.992 0.65  0.921 0.748]\n",
      "------------------------------\n",
      "\n",
      "Epoch 2/6\n"
     ]
    },
    {
     "data": {
      "application/vnd.jupyter.widget-view+json": {
       "model_id": "8ed1b2ebc265471d901a8339ca906a08",
       "version_major": 2,
       "version_minor": 0
      },
      "text/plain": [
       "E2 Train\t:   0%|          | 0/23669 [00:00<?, ?it/s]"
      ]
     },
     "metadata": {},
     "output_type": "display_data"
    },
    {
     "name": "stdout",
     "output_type": "stream",
     "text": [
      "Train average CE loss: 0.0527\n",
      "\n"
     ]
    },
    {
     "data": {
      "application/vnd.jupyter.widget-view+json": {
       "model_id": "8201caa8ea994fdaabcc8424d7940b35",
       "version_major": 2,
       "version_minor": 0
      },
      "text/plain": [
       "E2 Valid\t:   0%|          | 0/2959 [00:00<?, ?it/s]"
      ]
     },
     "metadata": {},
     "output_type": "display_data"
    },
    {
     "name": "stdout",
     "output_type": "stream",
     "text": [
      "Valid average CE loss: 0.0485\n",
      "Learning rate = 0.001 \n",
      "\n",
      "Metrics:\n",
      "\t- b_acc = 0.823\n",
      "\t- kappa = 0.821\n",
      "\t- F1-sc = [0.993 0.735 0.941 0.828]\n",
      "------------------------------\n",
      "\n",
      "Epoch 3/6\n"
     ]
    },
    {
     "data": {
      "application/vnd.jupyter.widget-view+json": {
       "model_id": "0d79340ad72d41ea8fe16bd1ec6599e8",
       "version_major": 2,
       "version_minor": 0
      },
      "text/plain": [
       "E3 Train\t:   0%|          | 0/23669 [00:00<?, ?it/s]"
      ]
     },
     "metadata": {},
     "output_type": "display_data"
    },
    {
     "name": "stdout",
     "output_type": "stream",
     "text": [
      "Train average CE loss: 0.0477\n",
      "\n"
     ]
    },
    {
     "data": {
      "application/vnd.jupyter.widget-view+json": {
       "model_id": "db18141e68144dd2a9c8726e490c8617",
       "version_major": 2,
       "version_minor": 0
      },
      "text/plain": [
       "E3 Valid\t:   0%|          | 0/2959 [00:00<?, ?it/s]"
      ]
     },
     "metadata": {},
     "output_type": "display_data"
    },
    {
     "name": "stdout",
     "output_type": "stream",
     "text": [
      "Valid average CE loss: 0.0421\n",
      "Learning rate = 0.001 \n",
      "\n",
      "Metrics:\n",
      "\t- b_acc = 0.843\n",
      "\t- kappa = 0.828\n",
      "\t- F1-sc = [0.993 0.735 0.949 0.841]\n",
      "------------------------------\n",
      "\n",
      "Epoch 4/6\n"
     ]
    },
    {
     "data": {
      "application/vnd.jupyter.widget-view+json": {
       "model_id": "12dc093bc63b4090aaa5e7a1c84ad15f",
       "version_major": 2,
       "version_minor": 0
      },
      "text/plain": [
       "E4 Train\t:   0%|          | 0/23669 [00:00<?, ?it/s]"
      ]
     },
     "metadata": {},
     "output_type": "display_data"
    },
    {
     "name": "stdout",
     "output_type": "stream",
     "text": [
      "Train average CE loss: 0.0454\n",
      "\n"
     ]
    },
    {
     "data": {
      "application/vnd.jupyter.widget-view+json": {
       "model_id": "ea2ea084535246e38341318f05119706",
       "version_major": 2,
       "version_minor": 0
      },
      "text/plain": [
       "E4 Valid\t:   0%|          | 0/2959 [00:00<?, ?it/s]"
      ]
     },
     "metadata": {},
     "output_type": "display_data"
    },
    {
     "name": "stdout",
     "output_type": "stream",
     "text": [
      "Valid average CE loss: 0.0440\n",
      "Learning rate = 0.001 \n",
      "\n",
      "Metrics:\n",
      "\t- b_acc = 0.84\n",
      "\t- kappa = 0.83\n",
      "\t- F1-sc = [0.993 0.739 0.95  0.822]\n",
      "------------------------------\n",
      "\n",
      "Epoch 5/6\n"
     ]
    },
    {
     "data": {
      "application/vnd.jupyter.widget-view+json": {
       "model_id": "74868236bedd465fb92d9a7def237d01",
       "version_major": 2,
       "version_minor": 0
      },
      "text/plain": [
       "E5 Train\t:   0%|          | 0/23669 [00:00<?, ?it/s]"
      ]
     },
     "metadata": {},
     "output_type": "display_data"
    },
    {
     "name": "stdout",
     "output_type": "stream",
     "text": [
      "Train average CE loss: 0.0369\n",
      "\n"
     ]
    },
    {
     "data": {
      "application/vnd.jupyter.widget-view+json": {
       "model_id": "59be1acb2ec94477a16938c3201defd1",
       "version_major": 2,
       "version_minor": 0
      },
      "text/plain": [
       "E5 Valid\t:   0%|          | 0/2959 [00:00<?, ?it/s]"
      ]
     },
     "metadata": {},
     "output_type": "display_data"
    },
    {
     "name": "stdout",
     "output_type": "stream",
     "text": [
      "Valid average CE loss: 0.0325\n",
      "Learning rate = 0.0005 \n",
      "\n",
      "Metrics:\n",
      "\t- b_acc = 0.873\n",
      "\t- kappa = 0.865\n",
      "\t- F1-sc = [0.995 0.771 0.98  0.927]\n",
      "------------------------------\n",
      "\n",
      "Epoch 6/6\n"
     ]
    },
    {
     "data": {
      "application/vnd.jupyter.widget-view+json": {
       "model_id": "8255cee2db754ce69d5ae32e5968af87",
       "version_major": 2,
       "version_minor": 0
      },
      "text/plain": [
       "E6 Train\t:   0%|          | 0/23669 [00:00<?, ?it/s]"
      ]
     },
     "metadata": {},
     "output_type": "display_data"
    },
    {
     "name": "stdout",
     "output_type": "stream",
     "text": [
      "Train average CE loss: 0.0345\n",
      "\n"
     ]
    },
    {
     "data": {
      "application/vnd.jupyter.widget-view+json": {
       "model_id": "29828634915b44468f8a842779c1fa02",
       "version_major": 2,
       "version_minor": 0
      },
      "text/plain": [
       "E6 Valid\t:   0%|          | 0/2959 [00:00<?, ?it/s]"
      ]
     },
     "metadata": {},
     "output_type": "display_data"
    },
    {
     "name": "stdout",
     "output_type": "stream",
     "text": [
      "Valid average CE loss: 0.0335\n",
      "Learning rate = 0.0005 \n",
      "\n",
      "Metrics:\n",
      "\t- b_acc = 0.896\n",
      "\t- kappa = 0.871\n",
      "\t- F1-sc = [0.995 0.79  0.978 0.932]\n",
      "------------------------------\n",
      "\n",
      "Training complete in 0:07:48 (hh:mm:ss)\n",
      "Best average F1-score: 0.923574 was at epoch 6\n",
      "\n",
      "Evaluate GRU model_4 on test data:\n"
     ]
    },
    {
     "data": {
      "application/vnd.jupyter.widget-view+json": {
       "model_id": "ff86404b1cf54e98a10f24b795953a89",
       "version_major": 2,
       "version_minor": 0
      },
      "text/plain": [
       "  0%|          | 0/2959 [00:00<?, ?it/s]"
      ]
     },
     "metadata": {},
     "output_type": "display_data"
    },
    {
     "name": "stdout",
     "output_type": "stream",
     "text": [
      "b_acc = 0.887\n",
      "kappa = 0.872\n",
      "f1_sc = [0.995 0.797 0.979 0.901] \n",
      "\n",
      "*****************************************************************************************************************************\n",
      "\n",
      "Model GRU training 5\n",
      "Epoch 1/6\n"
     ]
    },
    {
     "data": {
      "application/vnd.jupyter.widget-view+json": {
       "model_id": "f52e0cffcebb4e02893c5c7e452cde7a",
       "version_major": 2,
       "version_minor": 0
      },
      "text/plain": [
       "E1 Train\t:   0%|          | 0/23669 [00:00<?, ?it/s]"
      ]
     },
     "metadata": {},
     "output_type": "display_data"
    },
    {
     "name": "stdout",
     "output_type": "stream",
     "text": [
      "Train average CE loss: 0.0801\n",
      "\n"
     ]
    },
    {
     "data": {
      "application/vnd.jupyter.widget-view+json": {
       "model_id": "5ece7b40dea6436aba638980eb103b4e",
       "version_major": 2,
       "version_minor": 0
      },
      "text/plain": [
       "E1 Valid\t:   0%|          | 0/2959 [00:00<?, ?it/s]"
      ]
     },
     "metadata": {},
     "output_type": "display_data"
    },
    {
     "name": "stdout",
     "output_type": "stream",
     "text": [
      "Valid average CE loss: 0.0530\n",
      "Learning rate = 0.001 \n",
      "\n",
      "Metrics:\n",
      "\t- b_acc = 0.766\n",
      "\t- kappa = 0.801\n",
      "\t- F1-sc = [0.992 0.719 0.927 0.703]\n",
      "------------------------------\n",
      "\n",
      "Epoch 2/6\n"
     ]
    },
    {
     "data": {
      "application/vnd.jupyter.widget-view+json": {
       "model_id": "e1dff07b449c4d4d862da00e0b84c666",
       "version_major": 2,
       "version_minor": 0
      },
      "text/plain": [
       "E2 Train\t:   0%|          | 0/23669 [00:00<?, ?it/s]"
      ]
     },
     "metadata": {},
     "output_type": "display_data"
    },
    {
     "name": "stdout",
     "output_type": "stream",
     "text": [
      "Train average CE loss: 0.0528\n",
      "\n"
     ]
    },
    {
     "data": {
      "application/vnd.jupyter.widget-view+json": {
       "model_id": "ab7053069a3f4048bc6db160141e7dc8",
       "version_major": 2,
       "version_minor": 0
      },
      "text/plain": [
       "E2 Valid\t:   0%|          | 0/2959 [00:00<?, ?it/s]"
      ]
     },
     "metadata": {},
     "output_type": "display_data"
    },
    {
     "name": "stdout",
     "output_type": "stream",
     "text": [
      "Valid average CE loss: 0.0443\n",
      "Learning rate = 0.001 \n",
      "\n",
      "Metrics:\n",
      "\t- b_acc = 0.872\n",
      "\t- kappa = 0.827\n",
      "\t- F1-sc = [0.993 0.743 0.951 0.854]\n",
      "------------------------------\n",
      "\n",
      "Epoch 3/6\n"
     ]
    },
    {
     "data": {
      "application/vnd.jupyter.widget-view+json": {
       "model_id": "786c5e53a51140118fc428e992b5a7cd",
       "version_major": 2,
       "version_minor": 0
      },
      "text/plain": [
       "E3 Train\t:   0%|          | 0/23669 [00:00<?, ?it/s]"
      ]
     },
     "metadata": {},
     "output_type": "display_data"
    },
    {
     "name": "stdout",
     "output_type": "stream",
     "text": [
      "Train average CE loss: 0.0473\n",
      "\n"
     ]
    },
    {
     "data": {
      "application/vnd.jupyter.widget-view+json": {
       "model_id": "14405ffdff744b11a1dbe8ba70e3ed17",
       "version_major": 2,
       "version_minor": 0
      },
      "text/plain": [
       "E3 Valid\t:   0%|          | 0/2959 [00:00<?, ?it/s]"
      ]
     },
     "metadata": {},
     "output_type": "display_data"
    },
    {
     "name": "stdout",
     "output_type": "stream",
     "text": [
      "Valid average CE loss: 0.0401\n",
      "Learning rate = 0.001 \n",
      "\n",
      "Metrics:\n",
      "\t- b_acc = 0.866\n",
      "\t- kappa = 0.846\n",
      "\t- F1-sc = [0.994 0.76  0.957 0.895]\n",
      "------------------------------\n",
      "\n",
      "Epoch 4/6\n"
     ]
    },
    {
     "data": {
      "application/vnd.jupyter.widget-view+json": {
       "model_id": "ada207172f324f7081fad2fee274f932",
       "version_major": 2,
       "version_minor": 0
      },
      "text/plain": [
       "E4 Train\t:   0%|          | 0/23669 [00:00<?, ?it/s]"
      ]
     },
     "metadata": {},
     "output_type": "display_data"
    },
    {
     "name": "stdout",
     "output_type": "stream",
     "text": [
      "Train average CE loss: 0.0450\n",
      "\n"
     ]
    },
    {
     "data": {
      "application/vnd.jupyter.widget-view+json": {
       "model_id": "5a09980f3cc54c99b6ed5596ced8180e",
       "version_major": 2,
       "version_minor": 0
      },
      "text/plain": [
       "E4 Valid\t:   0%|          | 0/2959 [00:00<?, ?it/s]"
      ]
     },
     "metadata": {},
     "output_type": "display_data"
    },
    {
     "name": "stdout",
     "output_type": "stream",
     "text": [
      "Valid average CE loss: 0.0384\n",
      "Learning rate = 0.001 \n",
      "\n",
      "Metrics:\n",
      "\t- b_acc = 0.861\n",
      "\t- kappa = 0.847\n",
      "\t- F1-sc = [0.994 0.752 0.967 0.888]\n",
      "------------------------------\n",
      "\n",
      "Epoch 5/6\n"
     ]
    },
    {
     "data": {
      "application/vnd.jupyter.widget-view+json": {
       "model_id": "6577d6986c14462c8485734137263a47",
       "version_major": 2,
       "version_minor": 0
      },
      "text/plain": [
       "E5 Train\t:   0%|          | 0/23669 [00:00<?, ?it/s]"
      ]
     },
     "metadata": {},
     "output_type": "display_data"
    },
    {
     "name": "stdout",
     "output_type": "stream",
     "text": [
      "Train average CE loss: 0.0363\n",
      "\n"
     ]
    },
    {
     "data": {
      "application/vnd.jupyter.widget-view+json": {
       "model_id": "c7d3fd9e62664156a67e84bd65e19db8",
       "version_major": 2,
       "version_minor": 0
      },
      "text/plain": [
       "E5 Valid\t:   0%|          | 0/2959 [00:00<?, ?it/s]"
      ]
     },
     "metadata": {},
     "output_type": "display_data"
    },
    {
     "name": "stdout",
     "output_type": "stream",
     "text": [
      "Valid average CE loss: 0.0321\n",
      "Learning rate = 0.0005 \n",
      "\n",
      "Metrics:\n",
      "\t- b_acc = 0.889\n",
      "\t- kappa = 0.871\n",
      "\t- F1-sc = [0.995 0.785 0.983 0.915]\n",
      "------------------------------\n",
      "\n",
      "Epoch 6/6\n"
     ]
    },
    {
     "data": {
      "application/vnd.jupyter.widget-view+json": {
       "model_id": "7ff03deb071c4345afa3f5c1299b4a33",
       "version_major": 2,
       "version_minor": 0
      },
      "text/plain": [
       "E6 Train\t:   0%|          | 0/23669 [00:00<?, ?it/s]"
      ]
     },
     "metadata": {},
     "output_type": "display_data"
    },
    {
     "name": "stdout",
     "output_type": "stream",
     "text": [
      "Train average CE loss: 0.0342\n",
      "\n"
     ]
    },
    {
     "data": {
      "application/vnd.jupyter.widget-view+json": {
       "model_id": "8539337c3f1144c5a130ed275e02a1f4",
       "version_major": 2,
       "version_minor": 0
      },
      "text/plain": [
       "E6 Valid\t:   0%|          | 0/2959 [00:00<?, ?it/s]"
      ]
     },
     "metadata": {},
     "output_type": "display_data"
    },
    {
     "name": "stdout",
     "output_type": "stream",
     "text": [
      "Valid average CE loss: 0.0346\n",
      "Learning rate = 0.0005 \n",
      "\n",
      "Metrics:\n",
      "\t- b_acc = 0.87\n",
      "\t- kappa = 0.86\n",
      "\t- F1-sc = [0.994 0.767 0.975 0.912]\n",
      "------------------------------\n",
      "\n",
      "Training complete in 0:07:52 (hh:mm:ss)\n",
      "Best average F1-score: 0.919398 was at epoch 5\n",
      "\n",
      "Evaluate GRU model_5 on test data:\n"
     ]
    },
    {
     "data": {
      "application/vnd.jupyter.widget-view+json": {
       "model_id": "70f20ba7f5324f19b19f386938b0e17a",
       "version_major": 2,
       "version_minor": 0
      },
      "text/plain": [
       "  0%|          | 0/2959 [00:00<?, ?it/s]"
      ]
     },
     "metadata": {},
     "output_type": "display_data"
    },
    {
     "name": "stdout",
     "output_type": "stream",
     "text": [
      "b_acc = 0.878\n",
      "kappa = 0.868\n",
      "f1_sc = [0.995 0.785 0.981 0.893] \n",
      "\n",
      "*****************************************************************************************************************************\n",
      "\n",
      "MLP {'b_acc': 0.766, 'kappa': 0.771, 'f1_sc': array([[0.991, 0.628, 0.964, 0.73 ]])}\n",
      "CNN {'b_acc': 0.823, 'kappa': 0.824, 'f1_sc': array([[0.993, 0.729, 0.964, 0.771]])}\n",
      "GRU {'b_acc': 0.88, 'kappa': 0.868, 'f1_sc': array([[0.995, 0.79 , 0.978, 0.89 ]])}\n"
     ]
    }
   ],
   "source": [
    "metrics = {'b_acc': 0,\n",
    "           'kappa': 0,\n",
    "           'f1_sc': np.zeros((1, 4))          \n",
    "              }\n",
    "for i in trange(num_trainings, desc=f'Trainings for GRU'):\n",
    "    seed_everything(i)\n",
    "    model = GRU(num_sensors=32, num_states=4, hidden_dim=128, num_layers=2,dropout=0.40)\n",
    "    model = model.to(device)\n",
    "    criterion = nn.CrossEntropyLoss()\n",
    "    optimizer = Adam(model.parameters(), lr=0.001)\n",
    "    exp_lr_scheduler = lr_scheduler.StepLR(optimizer, step_size=4, gamma=0.5)\n",
    "    print(f'Model {model._get_name()} training {i+1}')\n",
    "    _, model = train_model(model, dataloaders, criterion,\n",
    "                             optimizer, exp_lr_scheduler, num_epochs=num_epochs, SEED=i)\n",
    "    print()\n",
    "    print(f'Evaluate {model._get_name()} model_{i+1} on test data:')\n",
    "    b_accuracy, kappa, f1 = test(model, dataloaders['Test'], SEED=i)\n",
    "    metrics['b_acc'] += b_accuracy\n",
    "    metrics['kappa'] += kappa\n",
    "    metrics['f1_sc'] += f1\n",
    "    print('b_acc =', np.around(b_accuracy, 3))\n",
    "    print('kappa =', np.around(kappa, 3))\n",
    "    print('f1_sc =', np.around(f1, 3), '\\n')\n",
    "    print('*' * 125, end='\\n\\n')\n",
    "average_metrics[model._get_name()] = {}\n",
    "for key, value in metrics.items():\n",
    "    average_metrics[model._get_name()][key] = np.around(value / num_trainings, 3)\n",
    "\n",
    "for key, value in average_metrics.items():\n",
    "    print(key, value)"
   ]
  },
  {
   "cell_type": "markdown",
   "metadata": {
    "_cell_guid": "033a7f40-d6e0-4be8-94c8-5981e47691f0",
    "_uuid": "c1df5652-0417-4699-9885-cac884549cc4"
   },
   "source": [
    "#  Baseline: CatBoostClassifier"
   ]
  },
  {
   "cell_type": "markdown",
   "metadata": {
    "_cell_guid": "95199dcf-fecc-4c0c-8750-ae47b0f7d1fd",
    "_uuid": "22e31941-05e7-42e1-b2f5-382d90d0e06a"
   },
   "source": [
    "## 1. Data preparation"
   ]
  },
  {
   "cell_type": "code",
   "execution_count": 19,
   "metadata": {
    "_cell_guid": "5922d467-c60c-454d-90b9-7436857146d7",
    "_uuid": "48f2221e-9024-47e5-9fbe-b589c15f095e",
    "execution": {
     "iopub.execute_input": "2024-02-03T10:11:10.582769Z",
     "iopub.status.busy": "2024-02-03T10:11:10.582045Z",
     "iopub.status.idle": "2024-02-03T10:11:35.862679Z",
     "shell.execute_reply": "2024-02-03T10:11:35.861733Z",
     "shell.execute_reply.started": "2024-02-03T10:11:10.582733Z"
    },
    "jupyter": {
     "outputs_hidden": false
    }
   },
   "outputs": [
    {
     "data": {
      "application/vnd.jupyter.widget-view+json": {
       "model_id": "a8ec7211be574499b28534183dbb06cd",
       "version_major": 2,
       "version_minor": 0
      },
      "text/plain": [
       "  0%|          | 0/23669 [00:00<?, ?it/s]"
      ]
     },
     "metadata": {},
     "output_type": "display_data"
    }
   ],
   "source": [
    "train_data = []\n",
    "train_target = []\n",
    "for data, target in tqdm(train_dataloader):\n",
    "    for ts in data:\n",
    "        train_data.append(torch.transpose(ts, 0, 1).cpu().numpy().flatten())\n",
    "    train_target.extend(target.cpu().numpy())"
   ]
  },
  {
   "cell_type": "code",
   "execution_count": 21,
   "metadata": {
    "_cell_guid": "a1a8edf1-d0d8-44f8-921f-ff2135e6b44e",
    "_uuid": "f56accb1-57a0-4dcb-84f2-c1c1e1fb893c",
    "execution": {
     "iopub.execute_input": "2024-02-03T10:11:44.178103Z",
     "iopub.status.busy": "2024-02-03T10:11:44.177499Z",
     "iopub.status.idle": "2024-02-03T10:11:47.355125Z",
     "shell.execute_reply": "2024-02-03T10:11:47.353950Z",
     "shell.execute_reply.started": "2024-02-03T10:11:44.178068Z"
    },
    "jupyter": {
     "outputs_hidden": false
    }
   },
   "outputs": [
    {
     "data": {
      "application/vnd.jupyter.widget-view+json": {
       "model_id": "980cc18a38164a519346968ea9ed3676",
       "version_major": 2,
       "version_minor": 0
      },
      "text/plain": [
       "  0%|          | 0/2959 [00:00<?, ?it/s]"
      ]
     },
     "metadata": {},
     "output_type": "display_data"
    }
   ],
   "source": [
    "test_data = []\n",
    "test_target = []\n",
    "for data, target in tqdm(test_dataloader):\n",
    "    for ts in data:\n",
    "        test_data.append(torch.transpose(ts, 0, 1).cpu().numpy().flatten())\n",
    "    test_target.extend(target.cpu().numpy())"
   ]
  },
  {
   "cell_type": "markdown",
   "metadata": {
    "_cell_guid": "cf6a141f-f1bf-4138-8259-5285f7192143",
    "_uuid": "fb0c40c4-1339-4ceb-828d-476170dc4088"
   },
   "source": [
    "## 2. CatBoostClassifier"
   ]
  },
  {
   "cell_type": "code",
   "execution_count": 22,
   "metadata": {
    "_cell_guid": "4d6e0a92-5ff8-4ecc-a468-711c27f787cb",
    "_uuid": "f4db9113-fef5-4911-8a95-d3fdf2b3afbc",
    "execution": {
     "iopub.execute_input": "2024-02-03T10:11:52.766099Z",
     "iopub.status.busy": "2024-02-03T10:11:52.765700Z",
     "iopub.status.idle": "2024-02-03T10:11:53.241122Z",
     "shell.execute_reply": "2024-02-03T10:11:53.240194Z",
     "shell.execute_reply.started": "2024-02-03T10:11:52.766067Z"
    },
    "jupyter": {
     "outputs_hidden": false
    }
   },
   "outputs": [],
   "source": [
    "from catboost import CatBoostClassifier"
   ]
  },
  {
   "cell_type": "code",
   "execution_count": 34,
   "metadata": {
    "_cell_guid": "e8122a0c-face-4b34-807c-e8ddc94d04b0",
    "_uuid": "877effa5-4f9d-4263-92bb-061ad76b02e1",
    "execution": {
     "iopub.execute_input": "2024-02-03T11:00:10.555573Z",
     "iopub.status.busy": "2024-02-03T11:00:10.555187Z",
     "iopub.status.idle": "2024-02-03T11:03:47.347534Z",
     "shell.execute_reply": "2024-02-03T11:03:47.346521Z",
     "shell.execute_reply.started": "2024-02-03T11:00:10.555543Z"
    },
    "jupyter": {
     "outputs_hidden": false
    }
   },
   "outputs": [
    {
     "name": "stdout",
     "output_type": "stream",
     "text": [
      "0.7510868553967367 \n",
      " 0.7940410261827644 \n",
      " [0.99216811 0.69842879 0.95127768 0.60559796]\n",
      "{'b_acc': 0.7510868553967367, 'kappa': 0.7940410261827644, 'f1_score': array([0.99216811, 0.69842879, 0.95127768, 0.60559796])}\n",
      "0.7538169116701983 \n",
      " 0.794998586380484 \n",
      " [0.99217184 0.6995     0.94988067 0.62827225]\n",
      "{'b_acc': 1.504903767066935, 'kappa': 1.5890396125632484, 'f1_score': array([1.98433994, 1.39792879, 1.90115835, 1.23387022])}\n",
      "0.7533425073159107 \n",
      " 0.7975656336215572 \n",
      " [0.99228961 0.70172764 0.9520897  0.63324538]\n",
      "{'b_acc': 2.2582462743828455, 'kappa': 2.3866052461848057, 'f1_score': array([2.97662955, 2.09965643, 2.85324806, 1.8671156 ])}\n",
      "0.7488068763713384 \n",
      " 0.796867784213588 \n",
      " [0.99230807 0.70202408 0.95020464 0.62765957]\n",
      "{'b_acc': 3.007053150754184, 'kappa': 3.183473030398394, 'f1_score': array([3.96893762, 2.80168051, 3.80345269, 2.49477517])}\n",
      "0.7470132708444568 \n",
      " 0.7927656142711001 \n",
      " [0.99216811 0.69086294 0.9536065  0.60367454]\n",
      "{'b_acc': 3.7540664215986403, 'kappa': 3.976238644669494, 'f1_score': array([4.96110573, 3.49254346, 4.7570592 , 3.09844971])}\n",
      "b_acc 0.751\n",
      "kappa 0.795\n",
      "f1_score [0.992 0.699 0.951 0.62 ]\n"
     ]
    }
   ],
   "source": [
    "metrics = {\n",
    "    'b_acc': 0,          \n",
    "    'kappa': 0,\n",
    "    'f1_score': 0\n",
    "}\n",
    "\n",
    "num_trainings = 5\n",
    "for i in range(num_trainings):\n",
    "    # Initialize CatBoostClassifier\n",
    "    classifier = CatBoostClassifier(iterations=100, task_type=\"GPU\",\n",
    "                                    devices=\"0:1\", random_seed=i,\n",
    "                                    verbose=False)    \n",
    "    classifier.fit(train_data, train_target)\n",
    "    preds_class = classifier.predict(test_data)\n",
    "    b_acc = balanced_accuracy_score(test_target, preds_class)    \n",
    "    kappa = cohen_kappa_score(test_target, preds_class)\n",
    "    f1_sc = f1_score(test_target, preds_class, average=None, zero_division='warn')\n",
    "    print(b_acc, '\\n', kappa, '\\n', f1_sc)\n",
    "    metrics['b_acc']    += b_acc\n",
    "    metrics['kappa']    += kappa\n",
    "    metrics['f1_score'] += f1_sc\n",
    "    print(metrics)\n",
    "for key, value in metrics.items():\n",
    "    print(key, np.around(value / num_trainings, 3))"
   ]
  },
  {
   "cell_type": "markdown",
   "metadata": {},
   "source": [
    "**Metrics obtained for CatBoost Classifier:**\n",
    "\n",
    "b_acc 0.751\n",
    "\n",
    "kappa 0.795\n",
    "\n",
    "f1_score [0.992 0.699 0.951 0.62 ]"
   ]
  }
 ],
 "metadata": {
  "kaggle": {
   "accelerator": "none",
   "dataSources": [
    {
     "datasetId": 4218880,
     "sourceId": 7285012,
     "sourceType": "datasetVersion"
    },
    {
     "datasetId": 4225052,
     "sourceId": 7285992,
     "sourceType": "datasetVersion"
    },
    {
     "datasetId": 4225056,
     "sourceId": 7445736,
     "sourceType": "datasetVersion"
    },
    {
     "datasetId": 4225060,
     "sourceId": 7445746,
     "sourceType": "datasetVersion"
    },
    {
     "datasetId": 4229259,
     "sourceId": 7533659,
     "sourceType": "datasetVersion"
    },
    {
     "datasetId": 4229258,
     "sourceId": 7533664,
     "sourceType": "datasetVersion"
    },
    {
     "datasetId": 4229251,
     "sourceId": 7533665,
     "sourceType": "datasetVersion"
    }
   ],
   "dockerImageVersionId": 30648,
   "isGpuEnabled": false,
   "isInternetEnabled": true,
   "language": "python",
   "sourceType": "notebook"
  },
  "kernelspec": {
   "display_name": "Python 3",
   "language": "python",
   "name": "python3"
  },
  "language_info": {
   "codemirror_mode": {
    "name": "ipython",
    "version": 3
   },
   "file_extension": ".py",
   "mimetype": "text/x-python",
   "name": "python",
   "nbconvert_exporter": "python",
   "pygments_lexer": "ipython3",
   "version": "3.7.15"
  }
 },
 "nbformat": 4,
 "nbformat_minor": 4
}
